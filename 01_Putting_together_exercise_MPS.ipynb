{
  "cells": [
    {
      "cell_type": "markdown",
      "metadata": {
        "colab_type": "text",
        "id": "view-in-github"
      },
      "source": [
        "<a href=\"https://colab.research.google.com/github/innovinitylabs/learning-pytorch/blob/main/01_pytorch_workflow_codealong.ipynb\" target=\"_parent\"><img src=\"https://colab.research.google.com/assets/colab-badge.svg\" alt=\"Open In Colab\"/></a>"
      ]
    },
    {
      "cell_type": "code",
      "execution_count": 1,
      "metadata": {
        "colab": {
          "base_uri": "https://localhost:8080/",
          "height": 35
        },
        "id": "9iicrKm4IVjD",
        "outputId": "403117b3-0cb6-47bf-b089-fdcbb4e0f20b"
      },
      "outputs": [
        {
          "data": {
            "text/plain": [
              "'2.1.0'"
            ]
          },
          "execution_count": 1,
          "metadata": {},
          "output_type": "execute_result"
        }
      ],
      "source": [
        "import torch\n",
        "from torch import nn\n",
        "import matplotlib.pyplot as plt\n",
        "\n",
        "\n",
        "torch.__version__"
      ]
    },
    {
      "cell_type": "markdown",
      "metadata": {
        "id": "g27FjDsREmQS"
      },
      "source": [
        "\n"
      ]
    },
    {
      "cell_type": "markdown",
      "metadata": {},
      "source": [
        "# device agnostic code"
      ]
    },
    {
      "cell_type": "code",
      "execution_count": 2,
      "metadata": {},
      "outputs": [
        {
          "data": {
            "text/plain": [
              "'mps'"
            ]
          },
          "execution_count": 2,
          "metadata": {},
          "output_type": "execute_result"
        }
      ],
      "source": [
        "device = 'mps' if torch.backends.mps.is_available() else ('cuda' if torch.cuda.is_available() else 'cpu')\n",
        "device # Mps = metal performance shaders on Apple M1 chip"
      ]
    },
    {
      "cell_type": "code",
      "execution_count": 3,
      "metadata": {},
      "outputs": [
        {
          "data": {
            "text/plain": [
              "tensor([[0.0000],\n",
              "        [0.0200],\n",
              "        [0.0400],\n",
              "        [0.0600],\n",
              "        [0.0800],\n",
              "        [0.1000],\n",
              "        [0.1200],\n",
              "        [0.1400],\n",
              "        [0.1600],\n",
              "        [0.1800],\n",
              "        [0.2000],\n",
              "        [0.2200],\n",
              "        [0.2400],\n",
              "        [0.2600],\n",
              "        [0.2800],\n",
              "        [0.3000],\n",
              "        [0.3200],\n",
              "        [0.3400],\n",
              "        [0.3600],\n",
              "        [0.3800],\n",
              "        [0.4000],\n",
              "        [0.4200],\n",
              "        [0.4400],\n",
              "        [0.4600],\n",
              "        [0.4800],\n",
              "        [0.5000],\n",
              "        [0.5200],\n",
              "        [0.5400],\n",
              "        [0.5600],\n",
              "        [0.5800],\n",
              "        [0.6000],\n",
              "        [0.6200],\n",
              "        [0.6400],\n",
              "        [0.6600],\n",
              "        [0.6800],\n",
              "        [0.7000],\n",
              "        [0.7200],\n",
              "        [0.7400],\n",
              "        [0.7600],\n",
              "        [0.7800],\n",
              "        [0.8000],\n",
              "        [0.8200],\n",
              "        [0.8400],\n",
              "        [0.8600],\n",
              "        [0.8800],\n",
              "        [0.9000],\n",
              "        [0.9200],\n",
              "        [0.9400],\n",
              "        [0.9600],\n",
              "        [0.9800]])"
            ]
          },
          "execution_count": 3,
          "metadata": {},
          "output_type": "execute_result"
        }
      ],
      "source": [
        "import torch\n",
        "from torch import nn\n",
        "import matplotlib.pyplot as plt\n",
        "\n",
        "weight = 0.7\n",
        "bias = 0.3\n",
        "\n",
        "start = 0 \n",
        "end = 1 \n",
        "step = 0.02\n",
        "\n",
        "X = torch.arange(start, end, step).unsqueeze(1)\n",
        "\n",
        "X"
      ]
    },
    {
      "cell_type": "code",
      "execution_count": 4,
      "metadata": {},
      "outputs": [],
      "source": [
        "y = weight * X + bias"
      ]
    },
    {
      "cell_type": "code",
      "execution_count": 5,
      "metadata": {},
      "outputs": [],
      "source": [
        "split_train = int(0.8 * len(X))\n",
        "\n",
        "X_train, y_train = X[:split_train], y[:split_train]\n",
        "X_test, y_test = X[split_train:], y[split_train:]"
      ]
    },
    {
      "cell_type": "code",
      "execution_count": 6,
      "metadata": {},
      "outputs": [
        {
          "data": {
            "text/plain": [
              "(tensor([[0.0000],\n",
              "         [0.0200],\n",
              "         [0.0400],\n",
              "         [0.0600],\n",
              "         [0.0800]]),\n",
              " tensor([[0.3000],\n",
              "         [0.3140],\n",
              "         [0.3280],\n",
              "         [0.3420],\n",
              "         [0.3560]]))"
            ]
          },
          "execution_count": 6,
          "metadata": {},
          "output_type": "execute_result"
        }
      ],
      "source": [
        "X_train[:5], y_train[:5]"
      ]
    },
    {
      "cell_type": "code",
      "execution_count": 7,
      "metadata": {},
      "outputs": [
        {
          "data": {
            "text/plain": [
              "(tensor([[0.8000],\n",
              "         [0.8200],\n",
              "         [0.8400],\n",
              "         [0.8600],\n",
              "         [0.8800]]),\n",
              " tensor([[0.8600],\n",
              "         [0.8740],\n",
              "         [0.8880],\n",
              "         [0.9020],\n",
              "         [0.9160]]))"
            ]
          },
          "execution_count": 7,
          "metadata": {},
          "output_type": "execute_result"
        }
      ],
      "source": [
        "X_test[:5], y_test[:5]"
      ]
    },
    {
      "cell_type": "markdown",
      "metadata": {},
      "source": [
        "plotting data"
      ]
    },
    {
      "cell_type": "code",
      "execution_count": 8,
      "metadata": {},
      "outputs": [],
      "source": [
        "def plot_it(X_train=X_train, y_train=y_train,\n",
        "            X_test=X_test, y_test=y_test,\n",
        "            y_pred=None):\n",
        "    plt.figure(figsize=(10,7))\n",
        "\n",
        "    plt.scatter(X_train, y_train, s=4, c='g', label='Train Data')\n",
        "\n",
        "    plt.scatter(X_test, y_test, s=10, c='y', label='Test Data')\n",
        "\n",
        "\n",
        "\n",
        "    if y_pred is not None:\n",
        "        plt.scatter(X_test, y_pred, s=2, c='r', label='Predictions')\n",
        "\n",
        "    plt.legend(prop={'size': 11})"
      ]
    },
    {
      "cell_type": "code",
      "execution_count": 9,
      "metadata": {},
      "outputs": [
        {
          "data": {
            "image/png": "[encoded data removed]",
            "text/plain": [
              "<Figure size 1000x700 with 1 Axes>"
            ]
          },
          "metadata": {},
          "output_type": "display_data"
        }
      ],
      "source": [
        "plot_it()"
      ]
    },
    {
      "cell_type": "markdown",
      "metadata": {},
      "source": [
        "creating model"
      ]
    },
    {
      "cell_type": "code",
      "execution_count": 10,
      "metadata": {},
      "outputs": [],
      "source": [
        "class LinearRegression(nn.Module):\n",
        "    def __init__(self):\n",
        "        super().__init__()\n",
        "\n",
        "        self.linearlayer = nn.Linear(in_features=1,\n",
        "                                     out_features=1)\n",
        "\n",
        "    def forward(self, x):\n",
        "        return self.linearlayer(x)"
      ]
    },
    {
      "cell_type": "code",
      "execution_count": 11,
      "metadata": {},
      "outputs": [],
      "source": [
        "torch.manual_seed = 42\n",
        "\n",
        "model = LinearRegression()"
      ]
    },
    {
      "cell_type": "code",
      "execution_count": 12,
      "metadata": {},
      "outputs": [
        {
          "data": {
            "text/plain": [
              "LinearRegression(\n",
              "  (linearlayer): Linear(in_features=1, out_features=1, bias=True)\n",
              ")"
            ]
          },
          "execution_count": 12,
          "metadata": {},
          "output_type": "execute_result"
        }
      ],
      "source": [
        "model"
      ]
    },
    {
      "cell_type": "code",
      "execution_count": 13,
      "metadata": {},
      "outputs": [
        {
          "data": {
            "text/plain": [
              "[Parameter containing:\n",
              " tensor([[-0.0645]], requires_grad=True),\n",
              " Parameter containing:\n",
              " tensor([0.1066], requires_grad=True)]"
            ]
          },
          "execution_count": 13,
          "metadata": {},
          "output_type": "execute_result"
        }
      ],
      "source": [
        "list(model.parameters())"
      ]
    },
    {
      "cell_type": "code",
      "execution_count": 14,
      "metadata": {},
      "outputs": [
        {
          "data": {
            "text/plain": [
              "OrderedDict([('linearlayer.weight', tensor([[-0.0645]])),\n",
              "             ('linearlayer.bias', tensor([0.1066]))])"
            ]
          },
          "execution_count": 14,
          "metadata": {},
          "output_type": "execute_result"
        }
      ],
      "source": [
        "model.state_dict()"
      ]
    },
    {
      "cell_type": "markdown",
      "metadata": {},
      "source": [
        "moving model to device (MPS on my local machine)"
      ]
    },
    {
      "cell_type": "code",
      "execution_count": 15,
      "metadata": {},
      "outputs": [
        {
          "data": {
            "text/plain": [
              "'mps'"
            ]
          },
          "execution_count": 15,
          "metadata": {},
          "output_type": "execute_result"
        }
      ],
      "source": [
        "device"
      ]
    },
    {
      "cell_type": "code",
      "execution_count": 16,
      "metadata": {},
      "outputs": [
        {
          "data": {
            "text/plain": [
              "LinearRegression(\n",
              "  (linearlayer): Linear(in_features=1, out_features=1, bias=True)\n",
              ")"
            ]
          },
          "execution_count": 16,
          "metadata": {},
          "output_type": "execute_result"
        }
      ],
      "source": [
        "model.to(device)"
      ]
    },
    {
      "cell_type": "code",
      "execution_count": 17,
      "metadata": {},
      "outputs": [
        {
          "data": {
            "text/plain": [
              "device(type='mps', index=0)"
            ]
          },
          "execution_count": 17,
          "metadata": {},
          "output_type": "execute_result"
        }
      ],
      "source": [
        "next(model.parameters()).device #model is a generator, only parameters has .device method"
      ]
    },
    {
      "cell_type": "code",
      "execution_count": 18,
      "metadata": {},
      "outputs": [],
      "source": [
        "X_train = X_train.to(device)\n",
        "y_train = y_train.to(device)\n",
        "X_test = X_test.to(device)\n",
        "y_test = y_test.to(device)"
      ]
    },
    {
      "cell_type": "markdown",
      "metadata": {},
      "source": [
        "Choosing Loss function and optimizer"
      ]
    },
    {
      "cell_type": "code",
      "execution_count": 19,
      "metadata": {},
      "outputs": [],
      "source": [
        "loss_fn = nn.L1Loss()\n",
        "\n",
        "opt = torch.optim.SGD(params=model.parameters(), lr=0.01)"
      ]
    },
    {
      "cell_type": "markdown",
      "metadata": {},
      "source": [
        "Create training Loop"
      ]
    },
    {
      "cell_type": "code",
      "execution_count": 20,
      "metadata": {},
      "outputs": [],
      "source": [
        "epochs = 800"
      ]
    },
    {
      "cell_type": "code",
      "execution_count": 21,
      "metadata": {},
      "outputs": [
        {
          "name": "stderr",
          "output_type": "stream",
          "text": [
            "/Users/shyam/.pyenv/versions/3.11.5/envs/pytorch/lib/python3.11/site-packages/torch/autograd/__init__.py:251: UserWarning: The operator 'aten::sgn.out' is not currently supported on the MPS backend and will fall back to run on the CPU. This may have performance implications. (Triggered internally at /Users/runner/work/pytorch/pytorch/pytorch/aten/src/ATen/mps/MPSFallback.mm:13.)\n",
            "  Variable._execution_engine.run_backward(  # Calls into the C++ engine to run the backward pass\n"
          ]
        },
        {
          "name": "stdout",
          "output_type": "stream",
          "text": [
            "epoch: 0, loss: 0.49159154295921326, test loss: 0.8603897094726562\n",
            "epoch: 100, loss: 0.0952434092760086, test loss: 0.22838841378688812\n",
            "epoch: 200, loss: 0.06077168136835098, test loss: 0.14154170453548431\n",
            "epoch: 300, loss: 0.026428891345858574, test loss: 0.060876961797475815\n",
            "epoch: 400, loss: 0.004526019096374512, test loss: 0.010938328690826893\n",
            "epoch: 500, loss: 0.004526019096374512, test loss: 0.010938328690826893\n",
            "epoch: 600, loss: 0.004526019096374512, test loss: 0.010938328690826893\n",
            "epoch: 700, loss: 0.004526019096374512, test loss: 0.010938328690826893\n"
          ]
        }
      ],
      "source": [
        "torch.manual_seed = 42\n",
        "\n",
        "epoch_num = [ ]\n",
        "train_loss_values = [ ]\n",
        "test_loss_values = [ ]\n",
        "\n",
        "\n",
        "for epoch in range(epochs):\n",
        "\n",
        "    # Training\n",
        "\n",
        "    model.train()\n",
        "\n",
        "    y_pred = model(X_train)\n",
        "\n",
        "    loss = loss_fn(y_pred, y_train)\n",
        "\n",
        "    opt.zero_grad()\n",
        "\n",
        "    loss.backward()\n",
        "\n",
        "    opt.step()\n",
        "\n",
        "    # Testing\n",
        "\n",
        "    model.eval()\n",
        "\n",
        "    with torch.inference_mode():\n",
        "\n",
        "        test_pred = model(X_test)\n",
        "        test_loss = loss_fn(test_pred, y_test)\n",
        "\n",
        "    if epoch%100 == 0:\n",
        "        epoch_num.append(epoch)\n",
        "        test_loss_values.append(test_loss.cpu().detach())\n",
        "        train_loss_values.append(loss.cpu().detach())\n",
        "\n",
        "        print(f'epoch: {epoch}, loss: {loss}, test loss: {test_loss}')"
      ]
    },
    {
      "cell_type": "markdown",
      "metadata": {},
      "source": [
        "predicting using the model"
      ]
    },
    {
      "cell_type": "code",
      "execution_count": 22,
      "metadata": {},
      "outputs": [],
      "source": [
        "with torch.inference_mode():\n",
        "        pred = model(X_test)       \n"
      ]
    },
    {
      "cell_type": "code",
      "execution_count": 23,
      "metadata": {},
      "outputs": [
        {
          "data": {
            "image/png": "[encoded data removed]",
            "text/plain": [
              "<Figure size 1000x700 with 1 Axes>"
            ]
          },
          "metadata": {},
          "output_type": "display_data"
        }
      ],
      "source": [
        "plot_it(y_pred = pred.cpu())"
      ]
    },
    {
      "cell_type": "markdown",
      "metadata": {},
      "source": [
        "plotting the loss curve"
      ]
    },
    {
      "cell_type": "code",
      "execution_count": 27,
      "metadata": {},
      "outputs": [
        {
          "data": {
            "text/plain": [
              "Text(0, 0.5, 'Loss')"
            ]
          },
          "execution_count": 27,
          "metadata": {},
          "output_type": "execute_result"
        },
        {
          "data": {
            "image/png": "[encoded data removed]",
            "text/plain": [
              "<Figure size 640x480 with 1 Axes>"
            ]
          },
          "metadata": {},
          "output_type": "display_data"
        }
      ],
      "source": [
        "plt.plot(epoch_num, train_loss_values, label= 'Train')\n",
        "plt.plot(epoch_num, test_loss_values, label= 'test')\n",
        "plt.legend()\n",
        "plt.xlabel('Epochs')\n",
        "plt.ylabel('Loss')"
      ]
    },
    {
      "cell_type": "markdown",
      "metadata": {},
      "source": [
        "# nice"
      ]
    },
    {
      "cell_type": "markdown",
      "metadata": {},
      "source": [
        "# saving tensor"
      ]
    }
  ],
  "metadata": {
    "colab": {
      "authorship_tag": "ABX9TyPWSV7G5UGnYNRX5BGk3uPG",
      "include_colab_link": true,
      "provenance": []
    },
    "kernelspec": {
      "display_name": "Python 3",
      "name": "python3"
    },
    "language_info": {
      "codemirror_mode": {
        "name": "ipython",
        "version": 3
      },
      "file_extension": ".py",
      "mimetype": "text/x-python",
      "name": "python",
      "nbconvert_exporter": "python",
      "pygments_lexer": "ipython3",
      "version": "3.11.5"
    }
  },
  "nbformat": 4,
  "nbformat_minor": 0
}
