{
  "nbformat": 4,
  "nbformat_minor": 0,
  "metadata": {
    "colab": {
      "provenance": [],
      "authorship_tag": "ABX9TyNUN3g1y0Hdeg3EbRvuCVLC",
      "include_colab_link": true
    },
    "kernelspec": {
      "name": "python3",
      "display_name": "Python 3"
    },
    "language_info": {
      "name": "python"
    }
  },
  "cells": [
    {
      "cell_type": "markdown",
      "metadata": {
        "id": "view-in-github",
        "colab_type": "text"
      },
      "source": [
        "<a href=\"https://colab.research.google.com/github/innovinitylabs/learning-pytorch/blob/main/00_pytorch_fundamentals.ipynb\" target=\"_parent\"><img src=\"https://colab.research.google.com/assets/colab-badge.svg\" alt=\"Open In Colab\"/></a>"
      ]
    },
    {
      "cell_type": "code",
      "execution_count": 1,
      "metadata": {
        "id": "bL3q2I2G-CTz"
      },
      "outputs": [],
      "source": [
        "import torch"
      ]
    },
    {
      "cell_type": "markdown",
      "source": [
        "# introduction to tensors\n",
        "\n",
        "## creating tensors\n",
        "\n",
        "pytorch tensors are created using `torch.tensors`"
      ],
      "metadata": {
        "id": "53BSJktv-nkG"
      }
    },
    {
      "cell_type": "markdown",
      "source": [
        "### Scalar"
      ],
      "metadata": {
        "id": "haIIhNt_-9gd"
      }
    },
    {
      "cell_type": "code",
      "source": [
        "scalar = torch.tensor(7)\n",
        "scalar"
      ],
      "metadata": {
        "colab": {
          "base_uri": "https://localhost:8080/"
        },
        "id": "mEveGowX_L4g",
        "outputId": "f28036a8-73e8-41e4-ec57-b4e2aec83e93"
      },
      "execution_count": 2,
      "outputs": [
        {
          "output_type": "execute_result",
          "data": {
            "text/plain": [
              "tensor(7)"
            ]
          },
          "metadata": {},
          "execution_count": 2
        }
      ]
    },
    {
      "cell_type": "markdown",
      "source": [
        "to get dimensions"
      ],
      "metadata": {
        "id": "Xpr7qHOV_meT"
      }
    },
    {
      "cell_type": "code",
      "source": [
        "scalar.ndim"
      ],
      "metadata": {
        "colab": {
          "base_uri": "https://localhost:8080/"
        },
        "id": "MBjcvHUe_l8P",
        "outputId": "16a16f48-0ce8-46e5-9356-da7814703c92"
      },
      "execution_count": 3,
      "outputs": [
        {
          "output_type": "execute_result",
          "data": {
            "text/plain": [
              "0"
            ]
          },
          "metadata": {},
          "execution_count": 3
        }
      ]
    },
    {
      "cell_type": "markdown",
      "source": [
        "to get the number without type"
      ],
      "metadata": {
        "id": "1XaNRdxp_9aj"
      }
    },
    {
      "cell_type": "code",
      "source": [
        "scalar.item()"
      ],
      "metadata": {
        "colab": {
          "base_uri": "https://localhost:8080/"
        },
        "id": "5Ndr2b5N__iG",
        "outputId": "142ab1f2-a83c-4629-b0e6-73ecc7c318c2"
      },
      "execution_count": 4,
      "outputs": [
        {
          "output_type": "execute_result",
          "data": {
            "text/plain": [
              "7"
            ]
          },
          "metadata": {},
          "execution_count": 4
        }
      ]
    },
    {
      "cell_type": "markdown",
      "source": [
        "### Vector"
      ],
      "metadata": {
        "id": "vvRkPB46ADDv"
      }
    },
    {
      "cell_type": "code",
      "source": [
        "vector = torch.tensor([7, 7])\n",
        "vector"
      ],
      "metadata": {
        "colab": {
          "base_uri": "https://localhost:8080/"
        },
        "id": "icjipOj4AQvy",
        "outputId": "c4887a6a-bf08-44e4-d16f-f4c4fb153574"
      },
      "execution_count": 5,
      "outputs": [
        {
          "output_type": "execute_result",
          "data": {
            "text/plain": [
              "tensor([7, 7])"
            ]
          },
          "metadata": {},
          "execution_count": 5
        }
      ]
    },
    {
      "cell_type": "code",
      "source": [
        "vector.ndim"
      ],
      "metadata": {
        "colab": {
          "base_uri": "https://localhost:8080/"
        },
        "id": "H4i6gmL7AWh5",
        "outputId": "1235f3ab-1c04-466f-da47-43d705ce4894"
      },
      "execution_count": 6,
      "outputs": [
        {
          "output_type": "execute_result",
          "data": {
            "text/plain": [
              "1"
            ]
          },
          "metadata": {},
          "execution_count": 6
        }
      ]
    },
    {
      "cell_type": "markdown",
      "source": [
        "easy way to remember dimension is by number of square brackets"
      ],
      "metadata": {
        "id": "8HFqI45RAmHz"
      }
    },
    {
      "cell_type": "code",
      "source": [
        "vector.shape"
      ],
      "metadata": {
        "colab": {
          "base_uri": "https://localhost:8080/"
        },
        "id": "Wl0QyL2aArdp",
        "outputId": "1f43cd70-b76e-4065-8259-306e788e37ee"
      },
      "execution_count": 7,
      "outputs": [
        {
          "output_type": "execute_result",
          "data": {
            "text/plain": [
              "torch.Size([2])"
            ]
          },
          "metadata": {},
          "execution_count": 7
        }
      ]
    },
    {
      "cell_type": "markdown",
      "source": [
        "shape gives how elements in tensor are arranged."
      ],
      "metadata": {
        "id": "n1SiV0cfA0ju"
      }
    },
    {
      "cell_type": "markdown",
      "source": [
        "### MATRIX"
      ],
      "metadata": {
        "id": "1AIeE7GjA3zP"
      }
    },
    {
      "cell_type": "code",
      "source": [
        "MATRIX = torch.tensor([[7, 8],\n",
        "                       [9,10]])\n",
        "MATRIX"
      ],
      "metadata": {
        "colab": {
          "base_uri": "https://localhost:8080/"
        },
        "id": "d5-GAI6AA5q2",
        "outputId": "df65a29d-45aa-4deb-fce3-93b68b060c7d"
      },
      "execution_count": 8,
      "outputs": [
        {
          "output_type": "execute_result",
          "data": {
            "text/plain": [
              "tensor([[ 7,  8],\n",
              "        [ 9, 10]])"
            ]
          },
          "metadata": {},
          "execution_count": 8
        }
      ]
    },
    {
      "cell_type": "code",
      "source": [
        "MATRIX.ndim"
      ],
      "metadata": {
        "colab": {
          "base_uri": "https://localhost:8080/"
        },
        "id": "B-lUBOI3BEJI",
        "outputId": "861c7e64-762b-4310-8bf7-090614fa8e66"
      },
      "execution_count": 9,
      "outputs": [
        {
          "output_type": "execute_result",
          "data": {
            "text/plain": [
              "2"
            ]
          },
          "metadata": {},
          "execution_count": 9
        }
      ]
    },
    {
      "cell_type": "code",
      "source": [
        "MATRIX.shape"
      ],
      "metadata": {
        "colab": {
          "base_uri": "https://localhost:8080/"
        },
        "id": "F7bPB3kNBG_4",
        "outputId": "48dcddd9-f83a-4818-897c-e1975c2df455"
      },
      "execution_count": 10,
      "outputs": [
        {
          "output_type": "execute_result",
          "data": {
            "text/plain": [
              "torch.Size([2, 2])"
            ]
          },
          "metadata": {},
          "execution_count": 10
        }
      ]
    },
    {
      "cell_type": "code",
      "source": [
        "MATRIX[0]"
      ],
      "metadata": {
        "colab": {
          "base_uri": "https://localhost:8080/"
        },
        "id": "biKuYTdoBVa2",
        "outputId": "ced17f06-2982-457c-85c6-e21984f91fb5"
      },
      "execution_count": 11,
      "outputs": [
        {
          "output_type": "execute_result",
          "data": {
            "text/plain": [
              "tensor([7, 8])"
            ]
          },
          "metadata": {},
          "execution_count": 11
        }
      ]
    },
    {
      "cell_type": "markdown",
      "source": [
        "### TENSOR"
      ],
      "metadata": {
        "id": "rvtnNucMBcJC"
      }
    },
    {
      "cell_type": "code",
      "source": [
        "TENSOR = torch.tensor([[[1, 2, 3],\n",
        "                        [3, 6, 9],\n",
        "                        [2, 4, 5]]])\n",
        "TENSOR"
      ],
      "metadata": {
        "colab": {
          "base_uri": "https://localhost:8080/"
        },
        "id": "MV0uXDRCBejP",
        "outputId": "dba3a96a-4fa5-4c05-db9d-ad5c03eef5b5"
      },
      "execution_count": 12,
      "outputs": [
        {
          "output_type": "execute_result",
          "data": {
            "text/plain": [
              "tensor([[[1, 2, 3],\n",
              "         [3, 6, 9],\n",
              "         [2, 4, 5]]])"
            ]
          },
          "metadata": {},
          "execution_count": 12
        }
      ]
    },
    {
      "cell_type": "code",
      "source": [
        "TENSOR.ndim"
      ],
      "metadata": {
        "colab": {
          "base_uri": "https://localhost:8080/"
        },
        "id": "hFgwGP07Bupb",
        "outputId": "45e57d92-f534-4aeb-fb9e-a2ede30f6ac8"
      },
      "execution_count": 13,
      "outputs": [
        {
          "output_type": "execute_result",
          "data": {
            "text/plain": [
              "3"
            ]
          },
          "metadata": {},
          "execution_count": 13
        }
      ]
    },
    {
      "cell_type": "code",
      "source": [
        "TENSOR.shape"
      ],
      "metadata": {
        "colab": {
          "base_uri": "https://localhost:8080/"
        },
        "id": "Lqzfo32jBwNn",
        "outputId": "0d1815a0-59a0-44e8-9bda-f5bbcc994b06"
      },
      "execution_count": 14,
      "outputs": [
        {
          "output_type": "execute_result",
          "data": {
            "text/plain": [
              "torch.Size([1, 3, 3])"
            ]
          },
          "metadata": {},
          "execution_count": 14
        }
      ]
    },
    {
      "cell_type": "code",
      "source": [
        "TENSOR[0]\n"
      ],
      "metadata": {
        "id": "D3jJot78B96S",
        "colab": {
          "base_uri": "https://localhost:8080/"
        },
        "outputId": "3688cd10-38c3-4dcb-f051-1451f98dead0"
      },
      "execution_count": 15,
      "outputs": [
        {
          "output_type": "execute_result",
          "data": {
            "text/plain": [
              "tensor([[1, 2, 3],\n",
              "        [3, 6, 9],\n",
              "        [2, 4, 5]])"
            ]
          },
          "metadata": {},
          "execution_count": 15
        }
      ]
    },
    {
      "cell_type": "code",
      "source": [],
      "metadata": {
        "id": "_IpL9h7JCE6T"
      },
      "execution_count": 15,
      "outputs": []
    },
    {
      "cell_type": "markdown",
      "source": [
        "### Random Tensors"
      ],
      "metadata": {
        "id": "glCzzQblMV-S"
      }
    },
    {
      "cell_type": "markdown",
      "source": [
        "random tensors are important because many Neural networks starts with random numbers"
      ],
      "metadata": {
        "id": "ZPIKGmOwMYjd"
      }
    },
    {
      "cell_type": "code",
      "source": [
        "random_tensor = torch.rand(3, 4)\n",
        "random_tensor"
      ],
      "metadata": {
        "colab": {
          "base_uri": "https://localhost:8080/"
        },
        "id": "eDZoSoU6NCgh",
        "outputId": "bf295dc9-ef60-457f-9f7c-437d1872d1aa"
      },
      "execution_count": 16,
      "outputs": [
        {
          "output_type": "execute_result",
          "data": {
            "text/plain": [
              "tensor([[0.8818, 0.0159, 0.8497, 0.9933],\n",
              "        [0.0026, 0.0030, 0.0801, 0.8101],\n",
              "        [0.8464, 0.0927, 0.5621, 0.9290]])"
            ]
          },
          "metadata": {},
          "execution_count": 16
        }
      ]
    },
    {
      "cell_type": "code",
      "source": [
        "random_tensor.ndim"
      ],
      "metadata": {
        "colab": {
          "base_uri": "https://localhost:8080/"
        },
        "id": "E00OP2NtNQ2d",
        "outputId": "ce2679f3-3e3d-43ee-ce28-b839ad0f669c"
      },
      "execution_count": 17,
      "outputs": [
        {
          "output_type": "execute_result",
          "data": {
            "text/plain": [
              "2"
            ]
          },
          "metadata": {},
          "execution_count": 17
        }
      ]
    },
    {
      "cell_type": "code",
      "source": [
        "random_huge_tensor = torch.zeros(4,5)\n",
        "random_huge_tensor"
      ],
      "metadata": {
        "colab": {
          "base_uri": "https://localhost:8080/"
        },
        "id": "wXw7fx18NUcJ",
        "outputId": "2d58b0ae-65a3-44db-92d1-ceebb2747c7f"
      },
      "execution_count": 18,
      "outputs": [
        {
          "output_type": "execute_result",
          "data": {
            "text/plain": [
              "tensor([[0., 0., 0., 0., 0.],\n",
              "        [0., 0., 0., 0., 0.],\n",
              "        [0., 0., 0., 0., 0.],\n",
              "        [0., 0., 0., 0., 0.]])"
            ]
          },
          "metadata": {},
          "execution_count": 18
        }
      ]
    },
    {
      "cell_type": "code",
      "source": [
        "random_huge_tensor.dtype"
      ],
      "metadata": {
        "colab": {
          "base_uri": "https://localhost:8080/"
        },
        "id": "pDqtZvHUPDCh",
        "outputId": "df96a93d-28f9-4665-9f9f-7c35ae72e871"
      },
      "execution_count": 19,
      "outputs": [
        {
          "output_type": "execute_result",
          "data": {
            "text/plain": [
              "torch.float32"
            ]
          },
          "metadata": {},
          "execution_count": 19
        }
      ]
    },
    {
      "cell_type": "code",
      "source": [
        "torch.__version__"
      ],
      "metadata": {
        "colab": {
          "base_uri": "https://localhost:8080/",
          "height": 36
        },
        "id": "oC2LGnG5Phbc",
        "outputId": "f5b5bfea-4022-4973-8292-b2836b5d9691"
      },
      "execution_count": 20,
      "outputs": [
        {
          "output_type": "execute_result",
          "data": {
            "text/plain": [
              "'2.0.1+cu118'"
            ],
            "application/vnd.google.colaboratory.intrinsic+json": {
              "type": "string"
            }
          },
          "metadata": {},
          "execution_count": 20
        }
      ]
    },
    {
      "cell_type": "code",
      "source": [
        "zttendep = torch.arange(0, 10)\n",
        "zttendep"
      ],
      "metadata": {
        "colab": {
          "base_uri": "https://localhost:8080/"
        },
        "id": "ZIitMXi3PpkW",
        "outputId": "b304c1b1-8086-46e1-b1f8-bfab7fb1933f"
      },
      "execution_count": 21,
      "outputs": [
        {
          "output_type": "execute_result",
          "data": {
            "text/plain": [
              "tensor([0, 1, 2, 3, 4, 5, 6, 7, 8, 9])"
            ]
          },
          "metadata": {},
          "execution_count": 21
        }
      ]
    },
    {
      "cell_type": "code",
      "source": [
        "ten = torch.tensor([11, 22, 33])"
      ],
      "metadata": {
        "id": "mAWD4ss1h7p6"
      },
      "execution_count": 22,
      "outputs": []
    },
    {
      "cell_type": "code",
      "source": [
        "ten * 10"
      ],
      "metadata": {
        "colab": {
          "base_uri": "https://localhost:8080/"
        },
        "id": "DP-Au6Fth-I-",
        "outputId": "cff4bfaa-d9b1-4690-bd49-7cbabca59a2b"
      },
      "execution_count": 23,
      "outputs": [
        {
          "output_type": "execute_result",
          "data": {
            "text/plain": [
              "tensor([110, 220, 330])"
            ]
          },
          "metadata": {},
          "execution_count": 23
        }
      ]
    },
    {
      "cell_type": "code",
      "source": [
        "torch.mul(ten, 11)"
      ],
      "metadata": {
        "colab": {
          "base_uri": "https://localhost:8080/"
        },
        "id": "TODZPkRTh-0H",
        "outputId": "bb1bedec-3f4f-448f-faf9-dc8bc5759bd5"
      },
      "execution_count": 24,
      "outputs": [
        {
          "output_type": "execute_result",
          "data": {
            "text/plain": [
              "tensor([121, 242, 363])"
            ]
          },
          "metadata": {},
          "execution_count": 24
        }
      ]
    },
    {
      "cell_type": "code",
      "source": [
        "ten * ten"
      ],
      "metadata": {
        "colab": {
          "base_uri": "https://localhost:8080/"
        },
        "id": "s6FapKaCh-3B",
        "outputId": "e960e083-874e-4679-a651-77a5418e499e"
      },
      "execution_count": 25,
      "outputs": [
        {
          "output_type": "execute_result",
          "data": {
            "text/plain": [
              "tensor([ 121,  484, 1089])"
            ]
          },
          "metadata": {},
          "execution_count": 25
        }
      ]
    },
    {
      "cell_type": "code",
      "source": [
        "twotwo = torch.tensor([[1, 2],\n",
        "                       [3, 4]])"
      ],
      "metadata": {
        "id": "BeiJoQ5Ch-55"
      },
      "execution_count": 26,
      "outputs": []
    },
    {
      "cell_type": "code",
      "source": [
        "twotwo * twotwo"
      ],
      "metadata": {
        "colab": {
          "base_uri": "https://localhost:8080/"
        },
        "id": "3O_6LYT9h-9C",
        "outputId": "bdb9c4e9-0621-4c3f-949d-9450ff2d0303"
      },
      "execution_count": 27,
      "outputs": [
        {
          "output_type": "execute_result",
          "data": {
            "text/plain": [
              "tensor([[ 1,  4],\n",
              "        [ 9, 16]])"
            ]
          },
          "metadata": {},
          "execution_count": 27
        }
      ]
    },
    {
      "cell_type": "code",
      "source": [
        "torch.matmul(twotwo, twotwo)"
      ],
      "metadata": {
        "colab": {
          "base_uri": "https://localhost:8080/"
        },
        "id": "QuISKWPOh-_8",
        "outputId": "e453c3dd-4012-445b-e665-fe82bfefec17"
      },
      "execution_count": 28,
      "outputs": [
        {
          "output_type": "execute_result",
          "data": {
            "text/plain": [
              "tensor([[ 7, 10],\n",
              "        [15, 22]])"
            ]
          },
          "metadata": {},
          "execution_count": 28
        }
      ]
    },
    {
      "cell_type": "code",
      "source": [
        "torch.matmul(ten, ten)"
      ],
      "metadata": {
        "colab": {
          "base_uri": "https://localhost:8080/"
        },
        "id": "K5joMSIxh_Cx",
        "outputId": "db9ab426-86a2-4f7d-f593-04c3ab6290d7"
      },
      "execution_count": 29,
      "outputs": [
        {
          "output_type": "execute_result",
          "data": {
            "text/plain": [
              "tensor(1694)"
            ]
          },
          "metadata": {},
          "execution_count": 29
        }
      ]
    },
    {
      "cell_type": "code",
      "source": [
        "tensor1 = torch.randn(10, 3, 4)\n",
        "tensor2 = torch.randn(4)\n",
        "torch.matmul(tensor1, tensor2).size()"
      ],
      "metadata": {
        "colab": {
          "base_uri": "https://localhost:8080/"
        },
        "id": "U2tmCxDrh_Fb",
        "outputId": "860d9d17-0ab0-446d-ab74-6976a00c8e4e"
      },
      "execution_count": 30,
      "outputs": [
        {
          "output_type": "execute_result",
          "data": {
            "text/plain": [
              "torch.Size([10, 3])"
            ]
          },
          "metadata": {},
          "execution_count": 30
        }
      ]
    },
    {
      "cell_type": "code",
      "source": [
        "tensor1.size()"
      ],
      "metadata": {
        "colab": {
          "base_uri": "https://localhost:8080/"
        },
        "id": "Gv8W6oAw_RQg",
        "outputId": "f19c9259-f982-4754-859d-8ec47bb5ecf3"
      },
      "execution_count": 31,
      "outputs": [
        {
          "output_type": "execute_result",
          "data": {
            "text/plain": [
              "torch.Size([10, 3, 4])"
            ]
          },
          "metadata": {},
          "execution_count": 31
        }
      ]
    },
    {
      "cell_type": "code",
      "source": [
        "tensor2.size()"
      ],
      "metadata": {
        "colab": {
          "base_uri": "https://localhost:8080/"
        },
        "id": "dQ_kFUox_ZL2",
        "outputId": "839f616c-02f9-41b1-ea39-72ca17159986"
      },
      "execution_count": 32,
      "outputs": [
        {
          "output_type": "execute_result",
          "data": {
            "text/plain": [
              "torch.Size([4])"
            ]
          },
          "metadata": {},
          "execution_count": 32
        }
      ]
    },
    {
      "cell_type": "code",
      "source": [
        "tensor1, tensor2"
      ],
      "metadata": {
        "colab": {
          "base_uri": "https://localhost:8080/"
        },
        "id": "BH-1s9NoAmU5",
        "outputId": "3653df97-f8bf-42a2-a4c2-708898d4cf5b"
      },
      "execution_count": 33,
      "outputs": [
        {
          "output_type": "execute_result",
          "data": {
            "text/plain": [
              "(tensor([[[-1.0682e+00,  4.5257e-02, -9.4842e-01,  2.0263e+00],\n",
              "          [-5.4946e-01, -2.6315e+00,  1.1753e+00,  3.4621e-01],\n",
              "          [ 1.4322e+00,  6.8608e-01, -2.2052e+00,  7.2196e-01]],\n",
              " \n",
              "         [[ 1.0823e+00,  4.0381e-04,  9.2208e-01, -1.9716e+00],\n",
              "          [-1.2373e-01,  1.1324e+00, -1.1527e+00,  1.3004e-01],\n",
              "          [-5.1453e-01,  2.7098e-02,  1.3027e+00,  1.8764e+00]],\n",
              " \n",
              "         [[ 6.1981e-01, -1.0977e-01, -3.2682e-01, -1.0733e+00],\n",
              "          [-1.2991e+00, -1.1685e-01,  5.8894e-01, -1.3045e+00],\n",
              "          [-4.6887e-01,  1.6827e+00,  5.8973e-01,  5.7057e-01]],\n",
              " \n",
              "         [[ 7.8302e-01, -3.6423e-02,  1.1706e-01,  1.9744e-01],\n",
              "          [-7.8933e-01,  1.9211e+00,  6.5791e-01, -4.8993e-01],\n",
              "          [ 5.4919e-01, -1.3433e+00,  2.0589e-01, -3.6667e-01]],\n",
              " \n",
              "         [[ 1.7115e+00,  1.3056e+00,  5.7995e-01, -1.8379e+00],\n",
              "          [-3.5881e-01,  1.0873e+00, -1.1925e+00,  1.5379e-01],\n",
              "          [ 1.3010e-01, -1.3869e+00, -2.5758e+00, -3.4704e-01]],\n",
              " \n",
              "         [[ 3.9242e-01,  2.9689e-01,  4.2698e-01, -9.1794e-01],\n",
              "          [ 1.4086e+00, -6.9475e-01, -1.9106e-01,  4.7129e-01],\n",
              "          [ 1.9126e-01, -2.0382e+00,  2.3668e+00,  2.5964e-01]],\n",
              " \n",
              "         [[-8.3323e-01, -1.0268e+00,  1.3142e+00, -1.0632e+00],\n",
              "          [ 8.5795e-01,  1.4252e-01,  2.6681e-01,  9.6310e-01],\n",
              "          [-1.6772e+00,  8.9242e-01,  1.1026e-01, -1.5211e+00]],\n",
              " \n",
              "         [[-1.3079e+00,  1.4546e+00, -1.3874e+00, -9.1376e-01],\n",
              "          [ 1.1689e+00,  1.9817e-01, -3.7324e-01,  1.2524e+00],\n",
              "          [ 2.3304e-01, -4.8166e-02, -1.3852e+00, -1.0294e+00]],\n",
              " \n",
              "         [[ 1.4551e+00,  4.5704e-01, -1.8689e+00, -5.5125e-01],\n",
              "          [ 9.9110e-01,  1.4246e-01,  2.1276e-01,  1.5902e+00],\n",
              "          [ 1.2829e+00,  3.5848e-01, -8.7001e-01, -5.8738e-03]],\n",
              " \n",
              "         [[-1.7521e+00,  4.9064e-01,  2.5928e+00,  7.4787e-01],\n",
              "          [ 3.9517e-01, -1.0472e-01, -1.7661e+00,  7.3234e-01],\n",
              "          [-6.2059e-01,  7.7191e-01, -9.6945e-01,  1.0437e+00]]]),\n",
              " tensor([ 1.4049,  0.5356, -0.6453,  0.0683]))"
            ]
          },
          "metadata": {},
          "execution_count": 33
        }
      ]
    },
    {
      "cell_type": "code",
      "source": [
        "torch.matmul(tensor1, tensor2)"
      ],
      "metadata": {
        "colab": {
          "base_uri": "https://localhost:8080/"
        },
        "id": "dZ8TMTM6h_Hx",
        "outputId": "c697299c-e58d-43b2-f16c-4aad5de2611a"
      },
      "execution_count": 34,
      "outputs": [
        {
          "output_type": "execute_result",
          "data": {
            "text/plain": [
              "tensor([[-0.7262, -2.9162,  3.8518],\n",
              "        [ 0.7912,  1.1854, -1.4208],\n",
              "        [ 0.9496, -2.3567, -0.0989],\n",
              "        [ 1.0185, -0.5379, -0.1059],\n",
              "        [ 2.6042,  0.8583,  1.0782],\n",
              "        [ 0.3722,  1.7623, -2.3325],\n",
              "        [-2.6411,  1.1752, -2.0532],\n",
              "        [-0.2254,  2.0746,  1.1252],\n",
              "        [ 3.4573,  1.4399,  2.5554],\n",
              "        [-3.8206,  1.6887,  0.2384]])"
            ]
          },
          "metadata": {},
          "execution_count": 34
        }
      ]
    },
    {
      "cell_type": "code",
      "source": [
        "torch.matmul(torch.rand(3,2),torch.rand(2,3))"
      ],
      "metadata": {
        "colab": {
          "base_uri": "https://localhost:8080/"
        },
        "id": "FJ2RgUkj_TFS",
        "outputId": "052945e4-a23b-4f4f-c8a0-eac8fa3e2df5"
      },
      "execution_count": 35,
      "outputs": [
        {
          "output_type": "execute_result",
          "data": {
            "text/plain": [
              "tensor([[1.1893, 1.0327, 0.3979],\n",
              "        [0.5094, 0.5204, 0.2389],\n",
              "        [1.2363, 1.0170, 0.3640]])"
            ]
          },
          "metadata": {},
          "execution_count": 35
        }
      ]
    },
    {
      "cell_type": "code",
      "source": [],
      "metadata": {
        "id": "hS6YnsZ1_PtU"
      },
      "execution_count": 35,
      "outputs": []
    },
    {
      "cell_type": "code",
      "source": [
        "x = torch.arange(0, 100, 10)\n",
        "x"
      ],
      "metadata": {
        "colab": {
          "base_uri": "https://localhost:8080/"
        },
        "id": "Ie85jLFBPvKS",
        "outputId": "d26b57fd-7f67-40e0-a6b5-310a54787b81"
      },
      "execution_count": 36,
      "outputs": [
        {
          "output_type": "execute_result",
          "data": {
            "text/plain": [
              "tensor([ 0, 10, 20, 30, 40, 50, 60, 70, 80, 90])"
            ]
          },
          "metadata": {},
          "execution_count": 36
        }
      ]
    },
    {
      "cell_type": "code",
      "source": [
        "x.argmax()"
      ],
      "metadata": {
        "colab": {
          "base_uri": "https://localhost:8080/"
        },
        "id": "ClbYlzuXt8WV",
        "outputId": "d064eacb-aa7d-4d12-eae8-afe81835298b"
      },
      "execution_count": 37,
      "outputs": [
        {
          "output_type": "execute_result",
          "data": {
            "text/plain": [
              "tensor(9)"
            ]
          },
          "metadata": {},
          "execution_count": 37
        }
      ]
    },
    {
      "cell_type": "code",
      "source": [
        "x.reshape(5,2)"
      ],
      "metadata": {
        "colab": {
          "base_uri": "https://localhost:8080/"
        },
        "id": "dLg4mgJiIyBG",
        "outputId": "3ccb5d28-7c55-4d91-825d-9201460f1dc7"
      },
      "execution_count": 38,
      "outputs": [
        {
          "output_type": "execute_result",
          "data": {
            "text/plain": [
              "tensor([[ 0, 10],\n",
              "        [20, 30],\n",
              "        [40, 50],\n",
              "        [60, 70],\n",
              "        [80, 90]])"
            ]
          },
          "metadata": {},
          "execution_count": 38
        }
      ]
    },
    {
      "cell_type": "code",
      "source": [
        "x"
      ],
      "metadata": {
        "colab": {
          "base_uri": "https://localhost:8080/"
        },
        "id": "VFUtKcZnI_8l",
        "outputId": "f5e4261c-d72c-4f41-8907-b6586e9ab10f"
      },
      "execution_count": 39,
      "outputs": [
        {
          "output_type": "execute_result",
          "data": {
            "text/plain": [
              "tensor([ 0, 10, 20, 30, 40, 50, 60, 70, 80, 90])"
            ]
          },
          "metadata": {},
          "execution_count": 39
        }
      ]
    },
    {
      "cell_type": "code",
      "source": [
        "torch.reshape(x, (5,2))"
      ],
      "metadata": {
        "colab": {
          "base_uri": "https://localhost:8080/"
        },
        "id": "EIFfNJQiJrV3",
        "outputId": "f3927737-4f1b-4796-eafd-6a34bd767c04"
      },
      "execution_count": 40,
      "outputs": [
        {
          "output_type": "execute_result",
          "data": {
            "text/plain": [
              "tensor([[ 0, 10],\n",
              "        [20, 30],\n",
              "        [40, 50],\n",
              "        [60, 70],\n",
              "        [80, 90]])"
            ]
          },
          "metadata": {},
          "execution_count": 40
        }
      ]
    },
    {
      "cell_type": "code",
      "source": [
        "x"
      ],
      "metadata": {
        "colab": {
          "base_uri": "https://localhost:8080/"
        },
        "id": "m7q3TiHtJzZa",
        "outputId": "217d58d5-eae3-4545-a1b4-52611de35a85"
      },
      "execution_count": 41,
      "outputs": [
        {
          "output_type": "execute_result",
          "data": {
            "text/plain": [
              "tensor([ 0, 10, 20, 30, 40, 50, 60, 70, 80, 90])"
            ]
          },
          "metadata": {},
          "execution_count": 41
        }
      ]
    },
    {
      "cell_type": "code",
      "source": [
        "torch.stack([x,x,x], dim= 1)"
      ],
      "metadata": {
        "colab": {
          "base_uri": "https://localhost:8080/"
        },
        "id": "g0_EJjadMv5R",
        "outputId": "cc6894be-a14a-4d5d-b404-cbb8b302f59c"
      },
      "execution_count": 42,
      "outputs": [
        {
          "output_type": "execute_result",
          "data": {
            "text/plain": [
              "tensor([[ 0,  0,  0],\n",
              "        [10, 10, 10],\n",
              "        [20, 20, 20],\n",
              "        [30, 30, 30],\n",
              "        [40, 40, 40],\n",
              "        [50, 50, 50],\n",
              "        [60, 60, 60],\n",
              "        [70, 70, 70],\n",
              "        [80, 80, 80],\n",
              "        [90, 90, 90]])"
            ]
          },
          "metadata": {},
          "execution_count": 42
        }
      ]
    },
    {
      "cell_type": "code",
      "source": [
        "x = torch.zeros(2, 1, 2, 1, 2)\n",
        "x"
      ],
      "metadata": {
        "colab": {
          "base_uri": "https://localhost:8080/"
        },
        "id": "duX576JCOB5C",
        "outputId": "812dd220-600a-4f95-8ed9-c54a91a2fe0b"
      },
      "execution_count": 43,
      "outputs": [
        {
          "output_type": "execute_result",
          "data": {
            "text/plain": [
              "tensor([[[[[0., 0.]],\n",
              "\n",
              "          [[0., 0.]]]],\n",
              "\n",
              "\n",
              "\n",
              "        [[[[0., 0.]],\n",
              "\n",
              "          [[0., 0.]]]]])"
            ]
          },
          "metadata": {},
          "execution_count": 43
        }
      ]
    },
    {
      "cell_type": "code",
      "source": [
        "y = torch.squeeze(x)\n",
        "y"
      ],
      "metadata": {
        "colab": {
          "base_uri": "https://localhost:8080/"
        },
        "id": "WLw_5MKkOExm",
        "outputId": "ba625c26-0bfa-4578-c5b3-a83ebac5c14e"
      },
      "execution_count": 44,
      "outputs": [
        {
          "output_type": "execute_result",
          "data": {
            "text/plain": [
              "tensor([[[0., 0.],\n",
              "         [0., 0.]],\n",
              "\n",
              "        [[0., 0.],\n",
              "         [0., 0.]]])"
            ]
          },
          "metadata": {},
          "execution_count": 44
        }
      ]
    },
    {
      "cell_type": "code",
      "source": [
        "x[:, 0] = 1\n",
        "x , y"
      ],
      "metadata": {
        "colab": {
          "base_uri": "https://localhost:8080/"
        },
        "id": "POYXoVIySURb",
        "outputId": "d05aa14d-11b7-47cc-f491-d368e75a60f3"
      },
      "execution_count": 45,
      "outputs": [
        {
          "output_type": "execute_result",
          "data": {
            "text/plain": [
              "(tensor([[[[[1., 1.]],\n",
              " \n",
              "           [[1., 1.]]]],\n",
              " \n",
              " \n",
              " \n",
              "         [[[[1., 1.]],\n",
              " \n",
              "           [[1., 1.]]]]]),\n",
              " tensor([[[1., 1.],\n",
              "          [1., 1.]],\n",
              " \n",
              "         [[1., 1.],\n",
              "          [1., 1.]]]))"
            ]
          },
          "metadata": {},
          "execution_count": 45
        }
      ]
    },
    {
      "cell_type": "code",
      "source": [
        "z = torch.unsqueeze(y, dim=1)\n",
        "z"
      ],
      "metadata": {
        "colab": {
          "base_uri": "https://localhost:8080/"
        },
        "id": "rt96UWYtRUId",
        "outputId": "d1124c20-2153-45a8-9fee-798492d9eea9"
      },
      "execution_count": 46,
      "outputs": [
        {
          "output_type": "execute_result",
          "data": {
            "text/plain": [
              "tensor([[[[1., 1.],\n",
              "          [1., 1.]]],\n",
              "\n",
              "\n",
              "        [[[1., 1.],\n",
              "          [1., 1.]]]])"
            ]
          },
          "metadata": {},
          "execution_count": 46
        }
      ]
    },
    {
      "cell_type": "code",
      "source": [
        "torch.unsqueeze(y, dim=0)"
      ],
      "metadata": {
        "colab": {
          "base_uri": "https://localhost:8080/"
        },
        "id": "i-ZkBOZdRjHc",
        "outputId": "4a18e035-1048-455a-ce08-ea7f880241c7"
      },
      "execution_count": 47,
      "outputs": [
        {
          "output_type": "execute_result",
          "data": {
            "text/plain": [
              "tensor([[[[1., 1.],\n",
              "          [1., 1.]],\n",
              "\n",
              "         [[1., 1.],\n",
              "          [1., 1.]]]])"
            ]
          },
          "metadata": {},
          "execution_count": 47
        }
      ]
    },
    {
      "cell_type": "code",
      "source": [
        "torch.unsqueeze(y, dim=1)"
      ],
      "metadata": {
        "colab": {
          "base_uri": "https://localhost:8080/"
        },
        "id": "juye9XG8RmPK",
        "outputId": "a5ed186e-3f0a-4eea-dd4b-f9e4307511ad"
      },
      "execution_count": 48,
      "outputs": [
        {
          "output_type": "execute_result",
          "data": {
            "text/plain": [
              "tensor([[[[1., 1.],\n",
              "          [1., 1.]]],\n",
              "\n",
              "\n",
              "        [[[1., 1.],\n",
              "          [1., 1.]]]])"
            ]
          },
          "metadata": {},
          "execution_count": 48
        }
      ]
    },
    {
      "cell_type": "code",
      "source": [
        "torch.unsqueeze(y, dim=3)"
      ],
      "metadata": {
        "colab": {
          "base_uri": "https://localhost:8080/"
        },
        "id": "Jr4MluOzRnP6",
        "outputId": "f97bd87c-ae29-440c-8367-9b31561ef098"
      },
      "execution_count": 49,
      "outputs": [
        {
          "output_type": "execute_result",
          "data": {
            "text/plain": [
              "tensor([[[[1.],\n",
              "          [1.]],\n",
              "\n",
              "         [[1.],\n",
              "          [1.]]],\n",
              "\n",
              "\n",
              "        [[[1.],\n",
              "          [1.]],\n",
              "\n",
              "         [[1.],\n",
              "          [1.]]]])"
            ]
          },
          "metadata": {},
          "execution_count": 49
        }
      ]
    },
    {
      "cell_type": "markdown",
      "source": [
        "#### to check if squeeze shares memory"
      ],
      "metadata": {
        "id": "XvrZAcogS99y"
      }
    },
    {
      "cell_type": "code",
      "source": [
        "sqz = torch.arange(0,12, 2)\n",
        "sqz"
      ],
      "metadata": {
        "colab": {
          "base_uri": "https://localhost:8080/"
        },
        "id": "BU3qIIg4S9fZ",
        "outputId": "6471ae2b-a1a3-4f63-f17b-eee8c00f1821"
      },
      "execution_count": 50,
      "outputs": [
        {
          "output_type": "execute_result",
          "data": {
            "text/plain": [
              "tensor([ 0,  2,  4,  6,  8, 10])"
            ]
          },
          "metadata": {},
          "execution_count": 50
        }
      ]
    },
    {
      "cell_type": "code",
      "source": [
        "sqz = sqz.unsqueeze(dim=0)"
      ],
      "metadata": {
        "id": "4uRVvsPhTred"
      },
      "execution_count": 51,
      "outputs": []
    },
    {
      "cell_type": "code",
      "source": [
        "sqz"
      ],
      "metadata": {
        "colab": {
          "base_uri": "https://localhost:8080/"
        },
        "id": "D3keTncgYjjH",
        "outputId": "47d9c0cd-6b91-4ba0-bf24-ab88be0bd0dc"
      },
      "execution_count": 52,
      "outputs": [
        {
          "output_type": "execute_result",
          "data": {
            "text/plain": [
              "tensor([[ 0,  2,  4,  6,  8, 10]])"
            ]
          },
          "metadata": {},
          "execution_count": 52
        }
      ]
    },
    {
      "cell_type": "code",
      "source": [
        "sqz2 = sqz.squeeze( dim = 0)\n",
        "sqz2"
      ],
      "metadata": {
        "colab": {
          "base_uri": "https://localhost:8080/"
        },
        "id": "8mnih3ChUDz6",
        "outputId": "06b6524f-40e2-4fe3-c0c6-7b97f16fd1a9"
      },
      "execution_count": 53,
      "outputs": [
        {
          "output_type": "execute_result",
          "data": {
            "text/plain": [
              "tensor([ 0,  2,  4,  6,  8, 10])"
            ]
          },
          "metadata": {},
          "execution_count": 53
        }
      ]
    },
    {
      "cell_type": "code",
      "source": [
        "sqz2[1] = 69\n",
        "sqz2"
      ],
      "metadata": {
        "colab": {
          "base_uri": "https://localhost:8080/"
        },
        "id": "NPUCSOi1ULBS",
        "outputId": "1c5467f6-8625-4177-e265-fd12d4d24497"
      },
      "execution_count": 54,
      "outputs": [
        {
          "output_type": "execute_result",
          "data": {
            "text/plain": [
              "tensor([ 0, 69,  4,  6,  8, 10])"
            ]
          },
          "metadata": {},
          "execution_count": 54
        }
      ]
    },
    {
      "cell_type": "code",
      "source": [
        "sqz"
      ],
      "metadata": {
        "colab": {
          "base_uri": "https://localhost:8080/"
        },
        "id": "TZk5Uw9DVJYf",
        "outputId": "556447e8-42d5-4a99-bc56-3ea9ae2779aa"
      },
      "execution_count": 55,
      "outputs": [
        {
          "output_type": "execute_result",
          "data": {
            "text/plain": [
              "tensor([[ 0, 69,  4,  6,  8, 10]])"
            ]
          },
          "metadata": {},
          "execution_count": 55
        }
      ]
    },
    {
      "cell_type": "markdown",
      "source": [
        "Reproducablity. random seed"
      ],
      "metadata": {
        "id": "yyGUo-izq01k"
      }
    },
    {
      "cell_type": "code",
      "source": [
        "r_seed = 42\n",
        "torch.manual_seed(r_seed)\n",
        "rand_a = torch.rand(3,2)\n",
        "rand_a"
      ],
      "metadata": {
        "colab": {
          "base_uri": "https://localhost:8080/"
        },
        "id": "0UB_RKc5q0W4",
        "outputId": "9866c56a-b864-4932-919a-88b55e86ebfc"
      },
      "execution_count": 57,
      "outputs": [
        {
          "output_type": "execute_result",
          "data": {
            "text/plain": [
              "tensor([[0.8823, 0.9150],\n",
              "        [0.3829, 0.9593],\n",
              "        [0.3904, 0.6009]])"
            ]
          },
          "metadata": {},
          "execution_count": 57
        }
      ]
    },
    {
      "cell_type": "code",
      "source": [
        "torch.rand(3,2)"
      ],
      "metadata": {
        "id": "s4-X-t8Sz06D",
        "outputId": "92d4c2e6-bbcb-4e7c-8b5a-c14f035ee44f",
        "colab": {
          "base_uri": "https://localhost:8080/"
        }
      },
      "execution_count": 59,
      "outputs": [
        {
          "output_type": "execute_result",
          "data": {
            "text/plain": [
              "tensor([[0.8694, 0.5677],\n",
              "        [0.7411, 0.4294],\n",
              "        [0.8854, 0.5739]])"
            ]
          },
          "metadata": {},
          "execution_count": 59
        }
      ]
    },
    {
      "cell_type": "code",
      "source": [
        "torch.manual_seed(42)\n",
        "torch.rand(3,2)"
      ],
      "metadata": {
        "id": "VoVaN5SHz5fO",
        "outputId": "b428a2e4-00e8-430e-e6f0-242c555f7cb5",
        "colab": {
          "base_uri": "https://localhost:8080/"
        }
      },
      "execution_count": 60,
      "outputs": [
        {
          "output_type": "execute_result",
          "data": {
            "text/plain": [
              "tensor([[0.8823, 0.9150],\n",
              "        [0.3829, 0.9593],\n",
              "        [0.3904, 0.6009]])"
            ]
          },
          "metadata": {},
          "execution_count": 60
        }
      ]
    },
    {
      "cell_type": "code",
      "source": [
        "torch.manual_seed(42)\n",
        "rand_a == torch.rand(3,2)"
      ],
      "metadata": {
        "id": "JufPTb3d0ADE",
        "outputId": "a2a61cfa-7f46-438f-fb16-c5984510832b",
        "colab": {
          "base_uri": "https://localhost:8080/"
        }
      },
      "execution_count": 61,
      "outputs": [
        {
          "output_type": "execute_result",
          "data": {
            "text/plain": [
              "tensor([[True, True],\n",
              "        [True, True],\n",
              "        [True, True]])"
            ]
          },
          "metadata": {},
          "execution_count": 61
        }
      ]
    }
  ]
}