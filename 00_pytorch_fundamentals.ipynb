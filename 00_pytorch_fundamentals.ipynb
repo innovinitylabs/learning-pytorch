{
  "cells": [
    {
      "cell_type": "markdown",
      "metadata": {
        "colab_type": "text",
        "id": "view-in-github"
      },
      "source": [
        "<a href=\"https://colab.research.google.com/github/innovinitylabs/learning-pytorch/blob/main/00_pytorch_fundamentals.ipynb\" target=\"_parent\"><img src=\"https://colab.research.google.com/assets/colab-badge.svg\" alt=\"Open In Colab\"/></a>"
      ]
    },
    {
      "cell_type": "code",
      "execution_count": 506,
      "metadata": {
        "id": "bL3q2I2G-CTz"
      },
      "outputs": [],
      "source": [
        "import torch"
      ]
    },
    {
      "cell_type": "code",
      "execution_count": 507,
      "metadata": {
        "id": "aeX3jaOcAe4c"
      },
      "outputs": [],
      "source": [
        "# mps_device = torch.device('mps')"
      ]
    },
    {
      "cell_type": "code",
      "execution_count": 508,
      "metadata": {
        "id": "TJkPnd0dAe4c"
      },
      "outputs": [],
      "source": [
        "# class Conf: dev = torch.device(\"mps\")"
      ]
    },
    {
      "cell_type": "markdown",
      "metadata": {
        "id": "53BSJktv-nkG"
      },
      "source": [
        "# introduction to tensors\n",
        "\n",
        "## creating tensors\n",
        "\n",
        "pytorch tensors are created using `torch.tensors`"
      ]
    },
    {
      "cell_type": "markdown",
      "metadata": {
        "id": "haIIhNt_-9gd"
      },
      "source": [
        "### Scalar"
      ]
    },
    {
      "cell_type": "code",
      "execution_count": 509,
      "metadata": {
        "colab": {
          "base_uri": "https://localhost:8080/"
        },
        "id": "mEveGowX_L4g",
        "outputId": "f28036a8-73e8-41e4-ec57-b4e2aec83e93"
      },
      "outputs": [
        {
          "data": {
            "text/plain": [
              "tensor(7)"
            ]
          },
          "execution_count": 509,
          "metadata": {},
          "output_type": "execute_result"
        }
      ],
      "source": [
        "scalar = torch.tensor(7)\n",
        "scalar"
      ]
    },
    {
      "cell_type": "markdown",
      "metadata": {
        "id": "Xpr7qHOV_meT"
      },
      "source": [
        "to get dimensions"
      ]
    },
    {
      "cell_type": "code",
      "execution_count": 510,
      "metadata": {
        "colab": {
          "base_uri": "https://localhost:8080/"
        },
        "id": "MBjcvHUe_l8P",
        "outputId": "16a16f48-0ce8-46e5-9356-da7814703c92"
      },
      "outputs": [
        {
          "data": {
            "text/plain": [
              "0"
            ]
          },
          "execution_count": 510,
          "metadata": {},
          "output_type": "execute_result"
        }
      ],
      "source": [
        "scalar.ndim"
      ]
    },
    {
      "cell_type": "markdown",
      "metadata": {
        "id": "1XaNRdxp_9aj"
      },
      "source": [
        "to get the number without type"
      ]
    },
    {
      "cell_type": "code",
      "execution_count": 511,
      "metadata": {
        "colab": {
          "base_uri": "https://localhost:8080/"
        },
        "id": "5Ndr2b5N__iG",
        "outputId": "142ab1f2-a83c-4629-b0e6-73ecc7c318c2"
      },
      "outputs": [
        {
          "data": {
            "text/plain": [
              "7"
            ]
          },
          "execution_count": 511,
          "metadata": {},
          "output_type": "execute_result"
        }
      ],
      "source": [
        "scalar.item()"
      ]
    },
    {
      "cell_type": "markdown",
      "metadata": {
        "id": "vvRkPB46ADDv"
      },
      "source": [
        "### Vector"
      ]
    },
    {
      "cell_type": "code",
      "execution_count": 512,
      "metadata": {
        "colab": {
          "base_uri": "https://localhost:8080/"
        },
        "id": "icjipOj4AQvy",
        "outputId": "c4887a6a-bf08-44e4-d16f-f4c4fb153574"
      },
      "outputs": [
        {
          "data": {
            "text/plain": [
              "tensor([7, 7])"
            ]
          },
          "execution_count": 512,
          "metadata": {},
          "output_type": "execute_result"
        }
      ],
      "source": [
        "vector = torch.tensor([7, 7])\n",
        "vector"
      ]
    },
    {
      "cell_type": "code",
      "execution_count": 513,
      "metadata": {
        "colab": {
          "base_uri": "https://localhost:8080/"
        },
        "id": "H4i6gmL7AWh5",
        "outputId": "1235f3ab-1c04-466f-da47-43d705ce4894"
      },
      "outputs": [
        {
          "data": {
            "text/plain": [
              "1"
            ]
          },
          "execution_count": 513,
          "metadata": {},
          "output_type": "execute_result"
        }
      ],
      "source": [
        "vector.ndim"
      ]
    },
    {
      "cell_type": "markdown",
      "metadata": {
        "id": "8HFqI45RAmHz"
      },
      "source": [
        "easy way to remember dimension is by number of square brackets"
      ]
    },
    {
      "cell_type": "code",
      "execution_count": 514,
      "metadata": {
        "colab": {
          "base_uri": "https://localhost:8080/"
        },
        "id": "Wl0QyL2aArdp",
        "outputId": "1f43cd70-b76e-4065-8259-306e788e37ee"
      },
      "outputs": [
        {
          "data": {
            "text/plain": [
              "torch.Size([2])"
            ]
          },
          "execution_count": 514,
          "metadata": {},
          "output_type": "execute_result"
        }
      ],
      "source": [
        "vector.shape"
      ]
    },
    {
      "cell_type": "markdown",
      "metadata": {
        "id": "n1SiV0cfA0ju"
      },
      "source": [
        "shape gives how elements in tensor are arranged."
      ]
    },
    {
      "cell_type": "markdown",
      "metadata": {
        "id": "1AIeE7GjA3zP"
      },
      "source": [
        "### MATRIX"
      ]
    },
    {
      "cell_type": "code",
      "execution_count": 515,
      "metadata": {
        "colab": {
          "base_uri": "https://localhost:8080/"
        },
        "id": "d5-GAI6AA5q2",
        "outputId": "df65a29d-45aa-4deb-fce3-93b68b060c7d"
      },
      "outputs": [
        {
          "data": {
            "text/plain": [
              "tensor([[ 7,  8],\n",
              "        [ 9, 10]])"
            ]
          },
          "execution_count": 515,
          "metadata": {},
          "output_type": "execute_result"
        }
      ],
      "source": [
        "MATRIX = torch.tensor([[7, 8],\n",
        "                       [9,10]])\n",
        "MATRIX"
      ]
    },
    {
      "cell_type": "code",
      "execution_count": 516,
      "metadata": {
        "colab": {
          "base_uri": "https://localhost:8080/"
        },
        "id": "B-lUBOI3BEJI",
        "outputId": "861c7e64-762b-4310-8bf7-090614fa8e66"
      },
      "outputs": [
        {
          "data": {
            "text/plain": [
              "2"
            ]
          },
          "execution_count": 516,
          "metadata": {},
          "output_type": "execute_result"
        }
      ],
      "source": [
        "MATRIX.ndim"
      ]
    },
    {
      "cell_type": "code",
      "execution_count": 517,
      "metadata": {
        "colab": {
          "base_uri": "https://localhost:8080/"
        },
        "id": "F7bPB3kNBG_4",
        "outputId": "48dcddd9-f83a-4818-897c-e1975c2df455"
      },
      "outputs": [
        {
          "data": {
            "text/plain": [
              "torch.Size([2, 2])"
            ]
          },
          "execution_count": 517,
          "metadata": {},
          "output_type": "execute_result"
        }
      ],
      "source": [
        "MATRIX.shape"
      ]
    },
    {
      "cell_type": "code",
      "execution_count": 518,
      "metadata": {
        "colab": {
          "base_uri": "https://localhost:8080/"
        },
        "id": "biKuYTdoBVa2",
        "outputId": "ced17f06-2982-457c-85c6-e21984f91fb5"
      },
      "outputs": [
        {
          "data": {
            "text/plain": [
              "tensor([7, 8])"
            ]
          },
          "execution_count": 518,
          "metadata": {},
          "output_type": "execute_result"
        }
      ],
      "source": [
        "MATRIX[0]"
      ]
    },
    {
      "cell_type": "markdown",
      "metadata": {
        "id": "rvtnNucMBcJC"
      },
      "source": [
        "### TENSOR"
      ]
    },
    {
      "cell_type": "code",
      "execution_count": 519,
      "metadata": {
        "colab": {
          "base_uri": "https://localhost:8080/"
        },
        "id": "MV0uXDRCBejP",
        "outputId": "dba3a96a-4fa5-4c05-db9d-ad5c03eef5b5"
      },
      "outputs": [
        {
          "data": {
            "text/plain": [
              "tensor([[[1, 2, 3],\n",
              "         [3, 6, 9],\n",
              "         [2, 4, 5]]])"
            ]
          },
          "execution_count": 519,
          "metadata": {},
          "output_type": "execute_result"
        }
      ],
      "source": [
        "TENSOR = torch.tensor([[[1, 2, 3],\n",
        "                        [3, 6, 9],\n",
        "                        [2, 4, 5]]])\n",
        "TENSOR"
      ]
    },
    {
      "cell_type": "code",
      "execution_count": 520,
      "metadata": {
        "colab": {
          "base_uri": "https://localhost:8080/"
        },
        "id": "hFgwGP07Bupb",
        "outputId": "45e57d92-f534-4aeb-fb9e-a2ede30f6ac8"
      },
      "outputs": [
        {
          "data": {
            "text/plain": [
              "3"
            ]
          },
          "execution_count": 520,
          "metadata": {},
          "output_type": "execute_result"
        }
      ],
      "source": [
        "TENSOR.ndim"
      ]
    },
    {
      "cell_type": "code",
      "execution_count": 521,
      "metadata": {
        "colab": {
          "base_uri": "https://localhost:8080/"
        },
        "id": "Lqzfo32jBwNn",
        "outputId": "0d1815a0-59a0-44e8-9bda-f5bbcc994b06"
      },
      "outputs": [
        {
          "data": {
            "text/plain": [
              "torch.Size([1, 3, 3])"
            ]
          },
          "execution_count": 521,
          "metadata": {},
          "output_type": "execute_result"
        }
      ],
      "source": [
        "TENSOR.shape"
      ]
    },
    {
      "cell_type": "code",
      "execution_count": 522,
      "metadata": {
        "colab": {
          "base_uri": "https://localhost:8080/"
        },
        "id": "D3jJot78B96S",
        "outputId": "3688cd10-38c3-4dcb-f051-1451f98dead0"
      },
      "outputs": [
        {
          "data": {
            "text/plain": [
              "tensor([[1, 2, 3],\n",
              "        [3, 6, 9],\n",
              "        [2, 4, 5]])"
            ]
          },
          "execution_count": 522,
          "metadata": {},
          "output_type": "execute_result"
        }
      ],
      "source": [
        "TENSOR[0]\n"
      ]
    },
    {
      "cell_type": "code",
      "execution_count": null,
      "metadata": {
        "id": "_IpL9h7JCE6T"
      },
      "outputs": [],
      "source": []
    },
    {
      "cell_type": "markdown",
      "metadata": {
        "id": "glCzzQblMV-S"
      },
      "source": [
        "### Random Tensors"
      ]
    },
    {
      "cell_type": "markdown",
      "metadata": {
        "id": "ZPIKGmOwMYjd"
      },
      "source": [
        "random tensors are important because many Neural networks starts with random numbers"
      ]
    },
    {
      "cell_type": "code",
      "execution_count": 523,
      "metadata": {
        "colab": {
          "base_uri": "https://localhost:8080/"
        },
        "id": "eDZoSoU6NCgh",
        "outputId": "bf295dc9-ef60-457f-9f7c-437d1872d1aa"
      },
      "outputs": [
        {
          "data": {
            "text/plain": [
              "tensor([[0.5088, 0.9559, 0.7885, 0.2089],\n",
              "        [0.4351, 0.1314, 0.2588, 0.5905],\n",
              "        [0.7723, 0.9142, 0.0409, 0.8343]])"
            ]
          },
          "execution_count": 523,
          "metadata": {},
          "output_type": "execute_result"
        }
      ],
      "source": [
        "random_tensor = torch.rand(3, 4)\n",
        "random_tensor"
      ]
    },
    {
      "cell_type": "code",
      "execution_count": 524,
      "metadata": {
        "colab": {
          "base_uri": "https://localhost:8080/"
        },
        "id": "E00OP2NtNQ2d",
        "outputId": "ce2679f3-3e3d-43ee-ce28-b839ad0f669c"
      },
      "outputs": [
        {
          "data": {
            "text/plain": [
              "2"
            ]
          },
          "execution_count": 524,
          "metadata": {},
          "output_type": "execute_result"
        }
      ],
      "source": [
        "random_tensor.ndim"
      ]
    },
    {
      "cell_type": "code",
      "execution_count": 525,
      "metadata": {
        "colab": {
          "base_uri": "https://localhost:8080/"
        },
        "id": "wXw7fx18NUcJ",
        "outputId": "2d58b0ae-65a3-44db-92d1-ceebb2747c7f"
      },
      "outputs": [
        {
          "data": {
            "text/plain": [
              "tensor([[0., 0., 0., 0., 0.],\n",
              "        [0., 0., 0., 0., 0.],\n",
              "        [0., 0., 0., 0., 0.],\n",
              "        [0., 0., 0., 0., 0.]])"
            ]
          },
          "execution_count": 525,
          "metadata": {},
          "output_type": "execute_result"
        }
      ],
      "source": [
        "random_huge_tensor = torch.zeros(4,5)\n",
        "random_huge_tensor"
      ]
    },
    {
      "cell_type": "code",
      "execution_count": 526,
      "metadata": {
        "colab": {
          "base_uri": "https://localhost:8080/"
        },
        "id": "pDqtZvHUPDCh",
        "outputId": "df96a93d-28f9-4665-9f9f-7c35ae72e871"
      },
      "outputs": [
        {
          "data": {
            "text/plain": [
              "torch.float32"
            ]
          },
          "execution_count": 526,
          "metadata": {},
          "output_type": "execute_result"
        }
      ],
      "source": [
        "random_huge_tensor.dtype"
      ]
    },
    {
      "cell_type": "code",
      "execution_count": 527,
      "metadata": {
        "colab": {
          "base_uri": "https://localhost:8080/",
          "height": 36
        },
        "id": "oC2LGnG5Phbc",
        "outputId": "f5b5bfea-4022-4973-8292-b2836b5d9691"
      },
      "outputs": [
        {
          "data": {
            "text/plain": [
              "'2.1.0'"
            ]
          },
          "execution_count": 527,
          "metadata": {},
          "output_type": "execute_result"
        }
      ],
      "source": [
        "torch.__version__"
      ]
    },
    {
      "cell_type": "code",
      "execution_count": 528,
      "metadata": {
        "colab": {
          "base_uri": "https://localhost:8080/"
        },
        "id": "ZIitMXi3PpkW",
        "outputId": "b304c1b1-8086-46e1-b1f8-bfab7fb1933f"
      },
      "outputs": [
        {
          "data": {
            "text/plain": [
              "tensor([0, 1, 2, 3, 4, 5, 6, 7, 8, 9])"
            ]
          },
          "execution_count": 528,
          "metadata": {},
          "output_type": "execute_result"
        }
      ],
      "source": [
        "zttendep = torch.arange(0, 10)\n",
        "zttendep"
      ]
    },
    {
      "cell_type": "code",
      "execution_count": 529,
      "metadata": {
        "id": "mAWD4ss1h7p6"
      },
      "outputs": [],
      "source": [
        "ten = torch.tensor([11, 22, 33])"
      ]
    },
    {
      "cell_type": "code",
      "execution_count": 530,
      "metadata": {
        "colab": {
          "base_uri": "https://localhost:8080/"
        },
        "id": "DP-Au6Fth-I-",
        "outputId": "cff4bfaa-d9b1-4690-bd49-7cbabca59a2b"
      },
      "outputs": [
        {
          "data": {
            "text/plain": [
              "tensor([110, 220, 330])"
            ]
          },
          "execution_count": 530,
          "metadata": {},
          "output_type": "execute_result"
        }
      ],
      "source": [
        "ten * 10"
      ]
    },
    {
      "cell_type": "code",
      "execution_count": 531,
      "metadata": {
        "colab": {
          "base_uri": "https://localhost:8080/"
        },
        "id": "TODZPkRTh-0H",
        "outputId": "bb1bedec-3f4f-448f-faf9-dc8bc5759bd5"
      },
      "outputs": [
        {
          "data": {
            "text/plain": [
              "tensor([121, 242, 363])"
            ]
          },
          "execution_count": 531,
          "metadata": {},
          "output_type": "execute_result"
        }
      ],
      "source": [
        "torch.mul(ten, 11)"
      ]
    },
    {
      "cell_type": "code",
      "execution_count": 532,
      "metadata": {
        "colab": {
          "base_uri": "https://localhost:8080/"
        },
        "id": "s6FapKaCh-3B",
        "outputId": "e960e083-874e-4679-a651-77a5418e499e"
      },
      "outputs": [
        {
          "data": {
            "text/plain": [
              "tensor([ 121,  484, 1089])"
            ]
          },
          "execution_count": 532,
          "metadata": {},
          "output_type": "execute_result"
        }
      ],
      "source": [
        "ten * ten"
      ]
    },
    {
      "cell_type": "code",
      "execution_count": 533,
      "metadata": {
        "id": "BeiJoQ5Ch-55"
      },
      "outputs": [],
      "source": [
        "twotwo = torch.tensor([[1, 2],\n",
        "                       [3, 4]])"
      ]
    },
    {
      "cell_type": "code",
      "execution_count": 534,
      "metadata": {
        "colab": {
          "base_uri": "https://localhost:8080/"
        },
        "id": "3O_6LYT9h-9C",
        "outputId": "bdb9c4e9-0621-4c3f-949d-9450ff2d0303"
      },
      "outputs": [
        {
          "data": {
            "text/plain": [
              "tensor([[ 1,  4],\n",
              "        [ 9, 16]])"
            ]
          },
          "execution_count": 534,
          "metadata": {},
          "output_type": "execute_result"
        }
      ],
      "source": [
        "twotwo * twotwo"
      ]
    },
    {
      "cell_type": "code",
      "execution_count": 535,
      "metadata": {
        "colab": {
          "base_uri": "https://localhost:8080/"
        },
        "id": "QuISKWPOh-_8",
        "outputId": "e453c3dd-4012-445b-e665-fe82bfefec17"
      },
      "outputs": [
        {
          "data": {
            "text/plain": [
              "tensor([[ 7, 10],\n",
              "        [15, 22]])"
            ]
          },
          "execution_count": 535,
          "metadata": {},
          "output_type": "execute_result"
        }
      ],
      "source": [
        "torch.matmul(twotwo, twotwo)"
      ]
    },
    {
      "cell_type": "code",
      "execution_count": 536,
      "metadata": {
        "colab": {
          "base_uri": "https://localhost:8080/"
        },
        "id": "K5joMSIxh_Cx",
        "outputId": "db9ab426-86a2-4f7d-f593-04c3ab6290d7"
      },
      "outputs": [
        {
          "data": {
            "text/plain": [
              "tensor(1694)"
            ]
          },
          "execution_count": 536,
          "metadata": {},
          "output_type": "execute_result"
        }
      ],
      "source": [
        "torch.matmul(ten, ten)"
      ]
    },
    {
      "cell_type": "code",
      "execution_count": 537,
      "metadata": {
        "colab": {
          "base_uri": "https://localhost:8080/"
        },
        "id": "U2tmCxDrh_Fb",
        "outputId": "860d9d17-0ab0-446d-ab74-6976a00c8e4e"
      },
      "outputs": [
        {
          "data": {
            "text/plain": [
              "torch.Size([10, 3])"
            ]
          },
          "execution_count": 537,
          "metadata": {},
          "output_type": "execute_result"
        }
      ],
      "source": [
        "tensor1 = torch.randn(10, 3, 4)\n",
        "tensor2 = torch.randn(4)\n",
        "torch.matmul(tensor1, tensor2).size()"
      ]
    },
    {
      "cell_type": "code",
      "execution_count": 538,
      "metadata": {
        "colab": {
          "base_uri": "https://localhost:8080/"
        },
        "id": "Gv8W6oAw_RQg",
        "outputId": "f19c9259-f982-4754-859d-8ec47bb5ecf3"
      },
      "outputs": [
        {
          "data": {
            "text/plain": [
              "torch.Size([10, 3, 4])"
            ]
          },
          "execution_count": 538,
          "metadata": {},
          "output_type": "execute_result"
        }
      ],
      "source": [
        "tensor1.size()"
      ]
    },
    {
      "cell_type": "code",
      "execution_count": 539,
      "metadata": {
        "colab": {
          "base_uri": "https://localhost:8080/"
        },
        "id": "dQ_kFUox_ZL2",
        "outputId": "839f616c-02f9-41b1-ea39-72ca17159986"
      },
      "outputs": [
        {
          "data": {
            "text/plain": [
              "torch.Size([4])"
            ]
          },
          "execution_count": 539,
          "metadata": {},
          "output_type": "execute_result"
        }
      ],
      "source": [
        "tensor2.size()"
      ]
    },
    {
      "cell_type": "code",
      "execution_count": 540,
      "metadata": {
        "colab": {
          "base_uri": "https://localhost:8080/"
        },
        "id": "BH-1s9NoAmU5",
        "outputId": "3653df97-f8bf-42a2-a4c2-708898d4cf5b"
      },
      "outputs": [
        {
          "data": {
            "text/plain": [
              "(tensor([[[-4.3747e-01, -1.2201e+00, -5.8542e-01,  6.6637e-01],\n",
              "          [-7.4266e-02, -2.0960e-01,  1.6632e-01,  1.4703e+00],\n",
              "          [ 3.5699e-01,  9.1429e-01,  2.1882e+00, -9.8515e-01]],\n",
              " \n",
              "         [[-2.4885e+00, -3.3132e-01,  8.4358e-01,  9.8745e-01],\n",
              "          [ 1.2154e+00,  1.4200e+00, -5.4650e-02,  2.4700e-02],\n",
              "          [-1.0641e+00, -7.6019e-01, -4.0751e-01,  9.6236e-01]],\n",
              " \n",
              "         [[ 3.7145e-01,  2.6968e-01,  7.8999e-01,  9.4461e-01],\n",
              "          [-1.5824e+00,  9.8713e-01,  1.1457e+00, -1.4181e-01],\n",
              "          [-6.1301e-01,  1.3917e+00,  2.2285e-01,  6.8388e-01]],\n",
              " \n",
              "         [[-1.3246e+00, -5.1608e-01,  6.0018e-01, -4.7022e-01],\n",
              "          [ 1.3664e+00,  1.3947e+00, -7.3959e-01, -4.8333e-01],\n",
              "          [-7.4029e-01,  3.1428e-01,  1.4156e-01,  1.0348e+00]],\n",
              " \n",
              "         [[-1.4033e+00, -1.3271e+00, -9.9475e-01, -4.9400e-01],\n",
              "          [ 1.1366e+00, -4.6184e-01,  1.4200e+00,  8.4852e-01],\n",
              "          [-6.7529e-02,  9.4907e-01, -3.9834e-01,  6.8990e-01]],\n",
              " \n",
              "         [[-1.3129e+00,  3.7804e-02, -1.1702e+00, -1.0319e-01],\n",
              "          [-6.3234e-01, -3.6152e-01, -1.6917e+00, -1.3839e+00],\n",
              "          [ 4.8687e-01, -1.0020e+00,  3.2949e-02, -4.2920e-01]],\n",
              " \n",
              "         [[-4.3893e-01, -3.9991e-01, -1.3291e+00,  1.5914e+00],\n",
              "          [-1.2081e-01, -4.8302e-01,  1.1330e-01,  7.7151e-02],\n",
              "          [ 1.2491e+00,  1.4194e+00,  1.5193e-01,  1.0966e+00]],\n",
              " \n",
              "         [[-6.8369e-01,  6.6043e-02, -7.7414e-04,  1.6206e-01],\n",
              "          [-6.1262e-01, -4.8355e-01, -5.4189e-01, -1.0597e+00],\n",
              "          [ 3.0573e-01,  4.1506e-01, -7.1741e-01,  2.8340e+00]],\n",
              " \n",
              "         [[ 2.7220e-01,  6.0855e-02, -1.1774e+00,  1.6217e+00],\n",
              "          [ 8.5127e-01, -4.0047e-01, -6.0883e-01, -5.0810e-01],\n",
              "          [-6.4723e-01, -1.2823e+00,  1.9653e+00, -1.1766e+00]],\n",
              " \n",
              "         [[ 1.1889e+00,  2.1555e-01,  6.2646e-01,  9.1435e-01],\n",
              "          [ 4.2319e-01, -3.3890e-01,  5.1797e-01, -1.7459e+00],\n",
              "          [ 1.0964e+00,  4.8656e-01,  3.6682e-01, -3.9118e-01]]]),\n",
              " tensor([ 0.4708,  1.9471, -1.1920, -0.0143]))"
            ]
          },
          "execution_count": 540,
          "metadata": {},
          "output_type": "execute_result"
        }
      ],
      "source": [
        "tensor1, tensor2"
      ]
    },
    {
      "cell_type": "code",
      "execution_count": 541,
      "metadata": {
        "colab": {
          "base_uri": "https://localhost:8080/"
        },
        "id": "dZ8TMTM6h_Hx",
        "outputId": "c697299c-e58d-43b2-f16c-4aad5de2611a"
      },
      "outputs": [
        {
          "data": {
            "text/plain": [
              "tensor([[-1.8934, -0.6624, -0.6460],\n",
              "        [-2.8364,  3.4018, -1.5092],\n",
              "        [-0.2552, -0.1866,  2.1458],\n",
              "        [-2.3372,  4.2475,  0.0798],\n",
              "        [-2.0518, -2.0689,  2.2811],\n",
              "        [ 0.8518,  1.0347, -1.7549],\n",
              "        [ 0.5762, -1.1335,  3.1549],\n",
              "        [-0.1947, -0.5688,  1.7666],\n",
              "        [ 1.6269,  0.3540, -5.1272],\n",
              "        [ 0.2196, -1.0530,  1.0319]])"
            ]
          },
          "execution_count": 541,
          "metadata": {},
          "output_type": "execute_result"
        }
      ],
      "source": [
        "torch.matmul(tensor1, tensor2)"
      ]
    },
    {
      "cell_type": "code",
      "execution_count": 542,
      "metadata": {
        "colab": {
          "base_uri": "https://localhost:8080/"
        },
        "id": "FJ2RgUkj_TFS",
        "outputId": "052945e4-a23b-4f4f-c8a0-eac8fa3e2df5"
      },
      "outputs": [
        {
          "data": {
            "text/plain": [
              "tensor([[0.5959, 0.3619, 0.0848],\n",
              "        [0.6621, 0.5515, 0.5976],\n",
              "        [0.6810, 0.5563, 0.5776]])"
            ]
          },
          "execution_count": 542,
          "metadata": {},
          "output_type": "execute_result"
        }
      ],
      "source": [
        "torch.matmul(torch.rand(3,2),torch.rand(2,3))"
      ]
    },
    {
      "cell_type": "code",
      "execution_count": null,
      "metadata": {
        "id": "hS6YnsZ1_PtU"
      },
      "outputs": [],
      "source": []
    },
    {
      "cell_type": "code",
      "execution_count": 543,
      "metadata": {
        "colab": {
          "base_uri": "https://localhost:8080/"
        },
        "id": "Ie85jLFBPvKS",
        "outputId": "d26b57fd-7f67-40e0-a6b5-310a54787b81"
      },
      "outputs": [
        {
          "data": {
            "text/plain": [
              "tensor([ 0, 10, 20, 30, 40, 50, 60, 70, 80, 90])"
            ]
          },
          "execution_count": 543,
          "metadata": {},
          "output_type": "execute_result"
        }
      ],
      "source": [
        "x = torch.arange(0, 100, 10)\n",
        "x"
      ]
    },
    {
      "cell_type": "code",
      "execution_count": 544,
      "metadata": {
        "colab": {
          "base_uri": "https://localhost:8080/"
        },
        "id": "ClbYlzuXt8WV",
        "outputId": "d064eacb-aa7d-4d12-eae8-afe81835298b"
      },
      "outputs": [
        {
          "data": {
            "text/plain": [
              "tensor(9)"
            ]
          },
          "execution_count": 544,
          "metadata": {},
          "output_type": "execute_result"
        }
      ],
      "source": [
        "x.argmax()"
      ]
    },
    {
      "cell_type": "code",
      "execution_count": 545,
      "metadata": {
        "colab": {
          "base_uri": "https://localhost:8080/"
        },
        "id": "dLg4mgJiIyBG",
        "outputId": "3ccb5d28-7c55-4d91-825d-9201460f1dc7"
      },
      "outputs": [
        {
          "data": {
            "text/plain": [
              "tensor([[ 0, 10],\n",
              "        [20, 30],\n",
              "        [40, 50],\n",
              "        [60, 70],\n",
              "        [80, 90]])"
            ]
          },
          "execution_count": 545,
          "metadata": {},
          "output_type": "execute_result"
        }
      ],
      "source": [
        "x.reshape(5,2)"
      ]
    },
    {
      "cell_type": "code",
      "execution_count": 546,
      "metadata": {
        "colab": {
          "base_uri": "https://localhost:8080/"
        },
        "id": "VFUtKcZnI_8l",
        "outputId": "f5e4261c-d72c-4f41-8907-b6586e9ab10f"
      },
      "outputs": [
        {
          "data": {
            "text/plain": [
              "tensor([ 0, 10, 20, 30, 40, 50, 60, 70, 80, 90])"
            ]
          },
          "execution_count": 546,
          "metadata": {},
          "output_type": "execute_result"
        }
      ],
      "source": [
        "x"
      ]
    },
    {
      "cell_type": "code",
      "execution_count": 547,
      "metadata": {
        "colab": {
          "base_uri": "https://localhost:8080/"
        },
        "id": "EIFfNJQiJrV3",
        "outputId": "f3927737-4f1b-4796-eafd-6a34bd767c04"
      },
      "outputs": [
        {
          "data": {
            "text/plain": [
              "tensor([[ 0, 10],\n",
              "        [20, 30],\n",
              "        [40, 50],\n",
              "        [60, 70],\n",
              "        [80, 90]])"
            ]
          },
          "execution_count": 547,
          "metadata": {},
          "output_type": "execute_result"
        }
      ],
      "source": [
        "torch.reshape(x, (5,2))"
      ]
    },
    {
      "cell_type": "code",
      "execution_count": 548,
      "metadata": {
        "colab": {
          "base_uri": "https://localhost:8080/"
        },
        "id": "m7q3TiHtJzZa",
        "outputId": "217d58d5-eae3-4545-a1b4-52611de35a85"
      },
      "outputs": [
        {
          "data": {
            "text/plain": [
              "tensor([ 0, 10, 20, 30, 40, 50, 60, 70, 80, 90])"
            ]
          },
          "execution_count": 548,
          "metadata": {},
          "output_type": "execute_result"
        }
      ],
      "source": [
        "x"
      ]
    },
    {
      "cell_type": "code",
      "execution_count": 549,
      "metadata": {
        "colab": {
          "base_uri": "https://localhost:8080/"
        },
        "id": "g0_EJjadMv5R",
        "outputId": "cc6894be-a14a-4d5d-b404-cbb8b302f59c"
      },
      "outputs": [
        {
          "data": {
            "text/plain": [
              "tensor([[ 0,  0,  0],\n",
              "        [10, 10, 10],\n",
              "        [20, 20, 20],\n",
              "        [30, 30, 30],\n",
              "        [40, 40, 40],\n",
              "        [50, 50, 50],\n",
              "        [60, 60, 60],\n",
              "        [70, 70, 70],\n",
              "        [80, 80, 80],\n",
              "        [90, 90, 90]])"
            ]
          },
          "execution_count": 549,
          "metadata": {},
          "output_type": "execute_result"
        }
      ],
      "source": [
        "torch.stack([x,x,x], dim= 1)"
      ]
    },
    {
      "cell_type": "code",
      "execution_count": 550,
      "metadata": {
        "colab": {
          "base_uri": "https://localhost:8080/"
        },
        "id": "duX576JCOB5C",
        "outputId": "812dd220-600a-4f95-8ed9-c54a91a2fe0b"
      },
      "outputs": [
        {
          "data": {
            "text/plain": [
              "tensor([[[[[0., 0.]],\n",
              "\n",
              "          [[0., 0.]]]],\n",
              "\n",
              "\n",
              "\n",
              "        [[[[0., 0.]],\n",
              "\n",
              "          [[0., 0.]]]]])"
            ]
          },
          "execution_count": 550,
          "metadata": {},
          "output_type": "execute_result"
        }
      ],
      "source": [
        "x = torch.zeros(2, 1, 2, 1, 2)\n",
        "x"
      ]
    },
    {
      "cell_type": "code",
      "execution_count": 551,
      "metadata": {
        "colab": {
          "base_uri": "https://localhost:8080/"
        },
        "id": "WLw_5MKkOExm",
        "outputId": "ba625c26-0bfa-4578-c5b3-a83ebac5c14e"
      },
      "outputs": [
        {
          "data": {
            "text/plain": [
              "tensor([[[0., 0.],\n",
              "         [0., 0.]],\n",
              "\n",
              "        [[0., 0.],\n",
              "         [0., 0.]]])"
            ]
          },
          "execution_count": 551,
          "metadata": {},
          "output_type": "execute_result"
        }
      ],
      "source": [
        "y = torch.squeeze(x)\n",
        "y"
      ]
    },
    {
      "cell_type": "code",
      "execution_count": 552,
      "metadata": {
        "colab": {
          "base_uri": "https://localhost:8080/"
        },
        "id": "POYXoVIySURb",
        "outputId": "d05aa14d-11b7-47cc-f491-d368e75a60f3"
      },
      "outputs": [
        {
          "data": {
            "text/plain": [
              "(tensor([[[[[1., 1.]],\n",
              " \n",
              "           [[1., 1.]]]],\n",
              " \n",
              " \n",
              " \n",
              "         [[[[1., 1.]],\n",
              " \n",
              "           [[1., 1.]]]]]),\n",
              " tensor([[[1., 1.],\n",
              "          [1., 1.]],\n",
              " \n",
              "         [[1., 1.],\n",
              "          [1., 1.]]]))"
            ]
          },
          "execution_count": 552,
          "metadata": {},
          "output_type": "execute_result"
        }
      ],
      "source": [
        "x[:, 0] = 1\n",
        "x , y"
      ]
    },
    {
      "cell_type": "code",
      "execution_count": 553,
      "metadata": {
        "colab": {
          "base_uri": "https://localhost:8080/"
        },
        "id": "rt96UWYtRUId",
        "outputId": "d1124c20-2153-45a8-9fee-798492d9eea9"
      },
      "outputs": [
        {
          "data": {
            "text/plain": [
              "tensor([[[[1., 1.],\n",
              "          [1., 1.]]],\n",
              "\n",
              "\n",
              "        [[[1., 1.],\n",
              "          [1., 1.]]]])"
            ]
          },
          "execution_count": 553,
          "metadata": {},
          "output_type": "execute_result"
        }
      ],
      "source": [
        "z = torch.unsqueeze(y, dim=1)\n",
        "z"
      ]
    },
    {
      "cell_type": "code",
      "execution_count": 554,
      "metadata": {
        "colab": {
          "base_uri": "https://localhost:8080/"
        },
        "id": "i-ZkBOZdRjHc",
        "outputId": "4a18e035-1048-455a-ce08-ea7f880241c7"
      },
      "outputs": [
        {
          "data": {
            "text/plain": [
              "tensor([[[[1., 1.],\n",
              "          [1., 1.]],\n",
              "\n",
              "         [[1., 1.],\n",
              "          [1., 1.]]]])"
            ]
          },
          "execution_count": 554,
          "metadata": {},
          "output_type": "execute_result"
        }
      ],
      "source": [
        "torch.unsqueeze(y, dim=0)"
      ]
    },
    {
      "cell_type": "code",
      "execution_count": 555,
      "metadata": {
        "colab": {
          "base_uri": "https://localhost:8080/"
        },
        "id": "juye9XG8RmPK",
        "outputId": "a5ed186e-3f0a-4eea-dd4b-f9e4307511ad"
      },
      "outputs": [
        {
          "data": {
            "text/plain": [
              "tensor([[[[1., 1.],\n",
              "          [1., 1.]]],\n",
              "\n",
              "\n",
              "        [[[1., 1.],\n",
              "          [1., 1.]]]])"
            ]
          },
          "execution_count": 555,
          "metadata": {},
          "output_type": "execute_result"
        }
      ],
      "source": [
        "torch.unsqueeze(y, dim=1)"
      ]
    },
    {
      "cell_type": "code",
      "execution_count": 556,
      "metadata": {
        "colab": {
          "base_uri": "https://localhost:8080/"
        },
        "id": "Jr4MluOzRnP6",
        "outputId": "f97bd87c-ae29-440c-8367-9b31561ef098"
      },
      "outputs": [
        {
          "data": {
            "text/plain": [
              "tensor([[[[1.],\n",
              "          [1.]],\n",
              "\n",
              "         [[1.],\n",
              "          [1.]]],\n",
              "\n",
              "\n",
              "        [[[1.],\n",
              "          [1.]],\n",
              "\n",
              "         [[1.],\n",
              "          [1.]]]])"
            ]
          },
          "execution_count": 556,
          "metadata": {},
          "output_type": "execute_result"
        }
      ],
      "source": [
        "torch.unsqueeze(y, dim=3)"
      ]
    },
    {
      "cell_type": "markdown",
      "metadata": {
        "id": "XvrZAcogS99y"
      },
      "source": [
        "#### to check if squeeze shares memory"
      ]
    },
    {
      "cell_type": "code",
      "execution_count": 557,
      "metadata": {
        "colab": {
          "base_uri": "https://localhost:8080/"
        },
        "id": "BU3qIIg4S9fZ",
        "outputId": "6471ae2b-a1a3-4f63-f17b-eee8c00f1821"
      },
      "outputs": [
        {
          "data": {
            "text/plain": [
              "tensor([ 0,  2,  4,  6,  8, 10])"
            ]
          },
          "execution_count": 557,
          "metadata": {},
          "output_type": "execute_result"
        }
      ],
      "source": [
        "sqz = torch.arange(0,12, 2)\n",
        "sqz"
      ]
    },
    {
      "cell_type": "code",
      "execution_count": 558,
      "metadata": {
        "id": "4uRVvsPhTred"
      },
      "outputs": [],
      "source": [
        "sqz = sqz.unsqueeze(dim=0)"
      ]
    },
    {
      "cell_type": "code",
      "execution_count": 559,
      "metadata": {
        "colab": {
          "base_uri": "https://localhost:8080/"
        },
        "id": "D3keTncgYjjH",
        "outputId": "47d9c0cd-6b91-4ba0-bf24-ab88be0bd0dc"
      },
      "outputs": [
        {
          "data": {
            "text/plain": [
              "tensor([[ 0,  2,  4,  6,  8, 10]])"
            ]
          },
          "execution_count": 559,
          "metadata": {},
          "output_type": "execute_result"
        }
      ],
      "source": [
        "sqz"
      ]
    },
    {
      "cell_type": "code",
      "execution_count": 560,
      "metadata": {
        "colab": {
          "base_uri": "https://localhost:8080/"
        },
        "id": "8mnih3ChUDz6",
        "outputId": "06b6524f-40e2-4fe3-c0c6-7b97f16fd1a9"
      },
      "outputs": [
        {
          "data": {
            "text/plain": [
              "tensor([ 0,  2,  4,  6,  8, 10])"
            ]
          },
          "execution_count": 560,
          "metadata": {},
          "output_type": "execute_result"
        }
      ],
      "source": [
        "sqz2 = sqz.squeeze( dim = 0)\n",
        "sqz2"
      ]
    },
    {
      "cell_type": "code",
      "execution_count": 561,
      "metadata": {
        "colab": {
          "base_uri": "https://localhost:8080/"
        },
        "id": "NPUCSOi1ULBS",
        "outputId": "1c5467f6-8625-4177-e265-fd12d4d24497"
      },
      "outputs": [
        {
          "data": {
            "text/plain": [
              "tensor([ 0, 69,  4,  6,  8, 10])"
            ]
          },
          "execution_count": 561,
          "metadata": {},
          "output_type": "execute_result"
        }
      ],
      "source": [
        "sqz2[1] = 69\n",
        "sqz2"
      ]
    },
    {
      "cell_type": "code",
      "execution_count": 562,
      "metadata": {
        "colab": {
          "base_uri": "https://localhost:8080/"
        },
        "id": "TZk5Uw9DVJYf",
        "outputId": "556447e8-42d5-4a99-bc56-3ea9ae2779aa"
      },
      "outputs": [
        {
          "data": {
            "text/plain": [
              "tensor([[ 0, 69,  4,  6,  8, 10]])"
            ]
          },
          "execution_count": 562,
          "metadata": {},
          "output_type": "execute_result"
        }
      ],
      "source": [
        "sqz"
      ]
    },
    {
      "cell_type": "markdown",
      "metadata": {
        "id": "yyGUo-izq01k"
      },
      "source": [
        "Reproducablity. random seed"
      ]
    },
    {
      "cell_type": "code",
      "execution_count": 563,
      "metadata": {
        "colab": {
          "base_uri": "https://localhost:8080/"
        },
        "id": "0UB_RKc5q0W4",
        "outputId": "9866c56a-b864-4932-919a-88b55e86ebfc"
      },
      "outputs": [
        {
          "data": {
            "text/plain": [
              "tensor([[0.8823, 0.9150],\n",
              "        [0.3829, 0.9593],\n",
              "        [0.3904, 0.6009]])"
            ]
          },
          "execution_count": 563,
          "metadata": {},
          "output_type": "execute_result"
        }
      ],
      "source": [
        "r_seed = 42\n",
        "torch.manual_seed(r_seed)\n",
        "rand_a = torch.rand(3,2)\n",
        "rand_a"
      ]
    },
    {
      "cell_type": "code",
      "execution_count": 564,
      "metadata": {
        "colab": {
          "base_uri": "https://localhost:8080/"
        },
        "id": "s4-X-t8Sz06D",
        "outputId": "92d4c2e6-bbcb-4e7c-8b5a-c14f035ee44f"
      },
      "outputs": [
        {
          "data": {
            "text/plain": [
              "tensor([[0.2566, 0.7936],\n",
              "        [0.9408, 0.1332],\n",
              "        [0.9346, 0.5936]])"
            ]
          },
          "execution_count": 564,
          "metadata": {},
          "output_type": "execute_result"
        }
      ],
      "source": [
        "torch.rand(3,2)"
      ]
    },
    {
      "cell_type": "code",
      "execution_count": 565,
      "metadata": {
        "colab": {
          "base_uri": "https://localhost:8080/"
        },
        "id": "VoVaN5SHz5fO",
        "outputId": "b428a2e4-00e8-430e-e6f0-242c555f7cb5"
      },
      "outputs": [
        {
          "data": {
            "text/plain": [
              "tensor([[0.8823, 0.9150],\n",
              "        [0.3829, 0.9593],\n",
              "        [0.3904, 0.6009]])"
            ]
          },
          "execution_count": 565,
          "metadata": {},
          "output_type": "execute_result"
        }
      ],
      "source": [
        "torch.manual_seed(42)\n",
        "torch.rand(3,2)"
      ]
    },
    {
      "cell_type": "code",
      "execution_count": 566,
      "metadata": {
        "colab": {
          "base_uri": "https://localhost:8080/"
        },
        "id": "JufPTb3d0ADE",
        "outputId": "a2a61cfa-7f46-438f-fb16-c5984510832b"
      },
      "outputs": [
        {
          "data": {
            "text/plain": [
              "tensor([[True, True],\n",
              "        [True, True],\n",
              "        [True, True]])"
            ]
          },
          "execution_count": 566,
          "metadata": {},
          "output_type": "execute_result"
        }
      ],
      "source": [
        "torch.manual_seed(42)\n",
        "rand_a == torch.rand(3,2)"
      ]
    },
    {
      "cell_type": "code",
      "execution_count": 567,
      "metadata": {
        "colab": {
          "base_uri": "https://localhost:8080/"
        },
        "id": "gf601w6TAe4n",
        "outputId": "0ca9a9a3-2798-418a-a5b4-4cca15af26fc"
      },
      "outputs": [
        {
          "data": {
            "text/plain": [
              "device(type='cpu')"
            ]
          },
          "execution_count": 567,
          "metadata": {},
          "output_type": "execute_result"
        }
      ],
      "source": [
        "rand_a.device"
      ]
    },
    {
      "cell_type": "code",
      "execution_count": 568,
      "metadata": {
        "id": "hYEf8LItAe4n"
      },
      "outputs": [],
      "source": [
        "# mps_rans = rand_a.to(mps_device)"
      ]
    },
    {
      "cell_type": "markdown",
      "metadata": {
        "id": "UqtLD8Y0Ae4n"
      },
      "source": [
        "rand_a still stays on CPU. have to assign it to a variable to hold the migrated tensor on `mps` like above"
      ]
    },
    {
      "cell_type": "code",
      "execution_count": 569,
      "metadata": {
        "id": "vyhgMoXDAe4o",
        "outputId": "782a16a0-b465-4497-b563-ec31e6e76a5c"
      },
      "outputs": [],
      "source": [
        "# mps_rans.device"
      ]
    },
    {
      "cell_type": "code",
      "execution_count": 570,
      "metadata": {
        "colab": {
          "base_uri": "https://localhost:8080/"
        },
        "id": "4HzNF4CGA37y",
        "outputId": "4a3bba70-5ba0-4275-8513-bfecab9540e2"
      },
      "outputs": [
        {
          "name": "stdout",
          "output_type": "stream",
          "text": [
            "zsh:1: command not found: nvidia-smi\n"
          ]
        }
      ],
      "source": [
        "!nvidia-smi"
      ]
    },
    {
      "cell_type": "markdown",
      "metadata": {
        "id": "HoiMJJ0YF6WA"
      },
      "source": [
        "# Practice"
      ]
    },
    {
      "cell_type": "markdown",
      "metadata": {
        "id": "z0ETrauOF74g"
      },
      "source": [
        "using template given in course for ease"
      ]
    },
    {
      "cell_type": "code",
      "execution_count": 571,
      "metadata": {},
      "outputs": [],
      "source": [
        "import torch\n",
        "seed = 42"
      ]
    },
    {
      "cell_type": "code",
      "execution_count": 572,
      "metadata": {},
      "outputs": [
        {
          "name": "stdout",
          "output_type": "stream",
          "text": [
            "without setting any prior manual seed \n",
            "tensor([[0.2566, 0.7936, 0.9408],\n",
            "        [0.1332, 0.9346, 0.5936],\n",
            "        [0.8694, 0.5677, 0.7411]])\n"
          ]
        }
      ],
      "source": [
        "print(f'without setting any prior manual seed \\n{torch.rand(3,3)}') #RANDOM"
      ]
    },
    {
      "cell_type": "markdown",
      "metadata": {},
      "source": [
        "### torch.`random`.manual_seed()"
      ]
    },
    {
      "cell_type": "code",
      "execution_count": 573,
      "metadata": {},
      "outputs": [
        {
          "name": "stdout",
          "output_type": "stream",
          "text": [
            "with random manual seed \n",
            "tensor([[0.8823, 0.9150, 0.3829],\n",
            "        [0.9593, 0.3904, 0.6009],\n",
            "        [0.2566, 0.7936, 0.9408]])\n",
            "\n",
            "without manual seed \n",
            "tensor([[0.1332, 0.9346, 0.5936],\n",
            "        [0.8694, 0.5677, 0.7411],\n",
            "        [0.4294, 0.8854, 0.5739]])\n",
            "without manual seed \n",
            "tensor([[0.2666, 0.6274, 0.2696],\n",
            "        [0.4414, 0.2969, 0.8317],\n",
            "        [0.1053, 0.2695, 0.3588]])\n"
          ]
        }
      ],
      "source": [
        "torch.random.manual_seed(seed)\n",
        "print(f'with random manual seed \\n{torch.rand(3,3)}\\n') # gave required values\n",
        "print(f'without manual seed \\n{torch.rand(3,3)}') #Different than above,but NOT SO RANDOM, FIXED VALUES\n",
        "print(f'without manual seed \\n{torch.rand(3,3)}')"
      ]
    },
    {
      "cell_type": "markdown",
      "metadata": {},
      "source": [
        "### torch.manual_seed()"
      ]
    },
    {
      "cell_type": "code",
      "execution_count": 574,
      "metadata": {},
      "outputs": [
        {
          "name": "stdout",
          "output_type": "stream",
          "text": [
            "with global manual seed \n",
            "tensor([[0.8823, 0.9150, 0.3829],\n",
            "        [0.9593, 0.3904, 0.6009],\n",
            "        [0.2566, 0.7936, 0.9408]]) \n",
            "\n",
            "without manual seed \n",
            "tensor([[0.1332, 0.9346, 0.5936],\n",
            "        [0.8694, 0.5677, 0.7411],\n",
            "        [0.4294, 0.8854, 0.5739]])\n",
            "without manual seed \n",
            "tensor([[0.2666, 0.6274, 0.2696],\n",
            "        [0.4414, 0.2969, 0.8317],\n",
            "        [0.1053, 0.2695, 0.3588]])\n"
          ]
        }
      ],
      "source": [
        "torch.manual_seed(seed)\n",
        "print(f'with global manual seed \\n{torch.rand(3,3)} \\n') # gave required values\n",
        "print(f'without manual seed \\n{torch.rand(3,3)}') #Different than above,but NOT SO RANDOM, FIXED VALUES\n",
        "print(f'without manual seed \\n{torch.rand(3,3)}')"
      ]
    },
    {
      "cell_type": "code",
      "execution_count": 575,
      "metadata": {},
      "outputs": [
        {
          "name": "stdout",
          "output_type": "stream",
          "text": [
            "without any random seen in new notebook block \n",
            "tensor([[0.1994, 0.5472, 0.0062],\n",
            "        [0.9516, 0.0753, 0.8860],\n",
            "        [0.5832, 0.3376, 0.8090]])\n"
          ]
        }
      ],
      "source": [
        "print(f'without any random seen in new notebook block \\n{torch.rand(3,3)}') #totally random"
      ]
    }
  ],
  "metadata": {
    "colab": {
      "include_colab_link": true,
      "provenance": []
    },
    "kernelspec": {
      "display_name": "Python 3",
      "name": "python3"
    },
    "language_info": {
      "codemirror_mode": {
        "name": "ipython",
        "version": 3
      },
      "file_extension": ".py",
      "mimetype": "text/x-python",
      "name": "python",
      "nbconvert_exporter": "python",
      "pygments_lexer": "ipython3",
      "version": "3.11.4"
    }
  },
  "nbformat": 4,
  "nbformat_minor": 0
}
