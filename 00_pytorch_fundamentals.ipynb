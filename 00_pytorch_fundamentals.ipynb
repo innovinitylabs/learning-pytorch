{
  "cells": [
    {
      "cell_type": "markdown",
      "metadata": {
        "id": "view-in-github",
        "colab_type": "text"
      },
      "source": [
        "<a href=\"https://colab.research.google.com/github/innovinitylabs/learning-pytorch/blob/main/00_pytorch_fundamentals.ipynb\" target=\"_parent\"><img src=\"https://colab.research.google.com/assets/colab-badge.svg\" alt=\"Open In Colab\"/></a>"
      ]
    },
    {
      "cell_type": "code",
      "execution_count": null,
      "metadata": {
        "id": "bL3q2I2G-CTz"
      },
      "outputs": [],
      "source": [
        "import torch"
      ]
    },
    {
      "cell_type": "code",
      "execution_count": null,
      "metadata": {
        "id": "aeX3jaOcAe4c"
      },
      "outputs": [],
      "source": [
        "# mps_device = torch.device('mps')"
      ]
    },
    {
      "cell_type": "code",
      "execution_count": null,
      "metadata": {
        "id": "TJkPnd0dAe4c"
      },
      "outputs": [],
      "source": [
        "# class Conf: dev = torch.device(\"mps\")"
      ]
    },
    {
      "cell_type": "markdown",
      "metadata": {
        "id": "53BSJktv-nkG"
      },
      "source": [
        "# introduction to tensors\n",
        "\n",
        "## creating tensors\n",
        "\n",
        "pytorch tensors are created using `torch.tensors`"
      ]
    },
    {
      "cell_type": "markdown",
      "metadata": {
        "id": "haIIhNt_-9gd"
      },
      "source": [
        "### Scalar"
      ]
    },
    {
      "cell_type": "code",
      "execution_count": null,
      "metadata": {
        "colab": {
          "base_uri": "https://localhost:8080/"
        },
        "id": "mEveGowX_L4g",
        "outputId": "f28036a8-73e8-41e4-ec57-b4e2aec83e93"
      },
      "outputs": [
        {
          "data": {
            "text/plain": [
              "tensor(7)"
            ]
          },
          "execution_count": 75,
          "metadata": {},
          "output_type": "execute_result"
        }
      ],
      "source": [
        "scalar = torch.tensor(7)\n",
        "scalar"
      ]
    },
    {
      "cell_type": "markdown",
      "metadata": {
        "id": "Xpr7qHOV_meT"
      },
      "source": [
        "to get dimensions"
      ]
    },
    {
      "cell_type": "code",
      "execution_count": null,
      "metadata": {
        "colab": {
          "base_uri": "https://localhost:8080/"
        },
        "id": "MBjcvHUe_l8P",
        "outputId": "16a16f48-0ce8-46e5-9356-da7814703c92"
      },
      "outputs": [
        {
          "data": {
            "text/plain": [
              "0"
            ]
          },
          "execution_count": 76,
          "metadata": {},
          "output_type": "execute_result"
        }
      ],
      "source": [
        "scalar.ndim"
      ]
    },
    {
      "cell_type": "markdown",
      "metadata": {
        "id": "1XaNRdxp_9aj"
      },
      "source": [
        "to get the number without type"
      ]
    },
    {
      "cell_type": "code",
      "execution_count": null,
      "metadata": {
        "colab": {
          "base_uri": "https://localhost:8080/"
        },
        "id": "5Ndr2b5N__iG",
        "outputId": "142ab1f2-a83c-4629-b0e6-73ecc7c318c2"
      },
      "outputs": [
        {
          "data": {
            "text/plain": [
              "7"
            ]
          },
          "execution_count": 77,
          "metadata": {},
          "output_type": "execute_result"
        }
      ],
      "source": [
        "scalar.item()"
      ]
    },
    {
      "cell_type": "markdown",
      "metadata": {
        "id": "vvRkPB46ADDv"
      },
      "source": [
        "### Vector"
      ]
    },
    {
      "cell_type": "code",
      "execution_count": null,
      "metadata": {
        "colab": {
          "base_uri": "https://localhost:8080/"
        },
        "id": "icjipOj4AQvy",
        "outputId": "c4887a6a-bf08-44e4-d16f-f4c4fb153574"
      },
      "outputs": [
        {
          "data": {
            "text/plain": [
              "tensor([7, 7])"
            ]
          },
          "execution_count": 78,
          "metadata": {},
          "output_type": "execute_result"
        }
      ],
      "source": [
        "vector = torch.tensor([7, 7])\n",
        "vector"
      ]
    },
    {
      "cell_type": "code",
      "execution_count": null,
      "metadata": {
        "colab": {
          "base_uri": "https://localhost:8080/"
        },
        "id": "H4i6gmL7AWh5",
        "outputId": "1235f3ab-1c04-466f-da47-43d705ce4894"
      },
      "outputs": [
        {
          "data": {
            "text/plain": [
              "1"
            ]
          },
          "execution_count": 79,
          "metadata": {},
          "output_type": "execute_result"
        }
      ],
      "source": [
        "vector.ndim"
      ]
    },
    {
      "cell_type": "markdown",
      "metadata": {
        "id": "8HFqI45RAmHz"
      },
      "source": [
        "easy way to remember dimension is by number of square brackets"
      ]
    },
    {
      "cell_type": "code",
      "execution_count": null,
      "metadata": {
        "colab": {
          "base_uri": "https://localhost:8080/"
        },
        "id": "Wl0QyL2aArdp",
        "outputId": "1f43cd70-b76e-4065-8259-306e788e37ee"
      },
      "outputs": [
        {
          "data": {
            "text/plain": [
              "torch.Size([2])"
            ]
          },
          "execution_count": 80,
          "metadata": {},
          "output_type": "execute_result"
        }
      ],
      "source": [
        "vector.shape"
      ]
    },
    {
      "cell_type": "markdown",
      "metadata": {
        "id": "n1SiV0cfA0ju"
      },
      "source": [
        "shape gives how elements in tensor are arranged."
      ]
    },
    {
      "cell_type": "markdown",
      "metadata": {
        "id": "1AIeE7GjA3zP"
      },
      "source": [
        "### MATRIX"
      ]
    },
    {
      "cell_type": "code",
      "execution_count": null,
      "metadata": {
        "colab": {
          "base_uri": "https://localhost:8080/"
        },
        "id": "d5-GAI6AA5q2",
        "outputId": "df65a29d-45aa-4deb-fce3-93b68b060c7d"
      },
      "outputs": [
        {
          "data": {
            "text/plain": [
              "tensor([[ 7,  8],\n",
              "        [ 9, 10]])"
            ]
          },
          "execution_count": 81,
          "metadata": {},
          "output_type": "execute_result"
        }
      ],
      "source": [
        "MATRIX = torch.tensor([[7, 8],\n",
        "                       [9,10]])\n",
        "MATRIX"
      ]
    },
    {
      "cell_type": "code",
      "execution_count": null,
      "metadata": {
        "colab": {
          "base_uri": "https://localhost:8080/"
        },
        "id": "B-lUBOI3BEJI",
        "outputId": "861c7e64-762b-4310-8bf7-090614fa8e66"
      },
      "outputs": [
        {
          "data": {
            "text/plain": [
              "2"
            ]
          },
          "execution_count": 82,
          "metadata": {},
          "output_type": "execute_result"
        }
      ],
      "source": [
        "MATRIX.ndim"
      ]
    },
    {
      "cell_type": "code",
      "execution_count": null,
      "metadata": {
        "colab": {
          "base_uri": "https://localhost:8080/"
        },
        "id": "F7bPB3kNBG_4",
        "outputId": "48dcddd9-f83a-4818-897c-e1975c2df455"
      },
      "outputs": [
        {
          "data": {
            "text/plain": [
              "torch.Size([2, 2])"
            ]
          },
          "execution_count": 83,
          "metadata": {},
          "output_type": "execute_result"
        }
      ],
      "source": [
        "MATRIX.shape"
      ]
    },
    {
      "cell_type": "code",
      "execution_count": null,
      "metadata": {
        "colab": {
          "base_uri": "https://localhost:8080/"
        },
        "id": "biKuYTdoBVa2",
        "outputId": "ced17f06-2982-457c-85c6-e21984f91fb5"
      },
      "outputs": [
        {
          "data": {
            "text/plain": [
              "tensor([7, 8])"
            ]
          },
          "execution_count": 84,
          "metadata": {},
          "output_type": "execute_result"
        }
      ],
      "source": [
        "MATRIX[0]"
      ]
    },
    {
      "cell_type": "markdown",
      "metadata": {
        "id": "rvtnNucMBcJC"
      },
      "source": [
        "### TENSOR"
      ]
    },
    {
      "cell_type": "code",
      "execution_count": null,
      "metadata": {
        "colab": {
          "base_uri": "https://localhost:8080/"
        },
        "id": "MV0uXDRCBejP",
        "outputId": "dba3a96a-4fa5-4c05-db9d-ad5c03eef5b5"
      },
      "outputs": [
        {
          "data": {
            "text/plain": [
              "tensor([[[1, 2, 3],\n",
              "         [3, 6, 9],\n",
              "         [2, 4, 5]]])"
            ]
          },
          "execution_count": 85,
          "metadata": {},
          "output_type": "execute_result"
        }
      ],
      "source": [
        "TENSOR = torch.tensor([[[1, 2, 3],\n",
        "                        [3, 6, 9],\n",
        "                        [2, 4, 5]]])\n",
        "TENSOR"
      ]
    },
    {
      "cell_type": "code",
      "execution_count": null,
      "metadata": {
        "colab": {
          "base_uri": "https://localhost:8080/"
        },
        "id": "hFgwGP07Bupb",
        "outputId": "45e57d92-f534-4aeb-fb9e-a2ede30f6ac8"
      },
      "outputs": [
        {
          "data": {
            "text/plain": [
              "3"
            ]
          },
          "execution_count": 86,
          "metadata": {},
          "output_type": "execute_result"
        }
      ],
      "source": [
        "TENSOR.ndim"
      ]
    },
    {
      "cell_type": "code",
      "execution_count": null,
      "metadata": {
        "colab": {
          "base_uri": "https://localhost:8080/"
        },
        "id": "Lqzfo32jBwNn",
        "outputId": "0d1815a0-59a0-44e8-9bda-f5bbcc994b06"
      },
      "outputs": [
        {
          "data": {
            "text/plain": [
              "torch.Size([1, 3, 3])"
            ]
          },
          "execution_count": 87,
          "metadata": {},
          "output_type": "execute_result"
        }
      ],
      "source": [
        "TENSOR.shape"
      ]
    },
    {
      "cell_type": "code",
      "execution_count": null,
      "metadata": {
        "colab": {
          "base_uri": "https://localhost:8080/"
        },
        "id": "D3jJot78B96S",
        "outputId": "3688cd10-38c3-4dcb-f051-1451f98dead0"
      },
      "outputs": [
        {
          "data": {
            "text/plain": [
              "tensor([[1, 2, 3],\n",
              "        [3, 6, 9],\n",
              "        [2, 4, 5]])"
            ]
          },
          "execution_count": 88,
          "metadata": {},
          "output_type": "execute_result"
        }
      ],
      "source": [
        "TENSOR[0]\n"
      ]
    },
    {
      "cell_type": "code",
      "execution_count": null,
      "metadata": {
        "id": "_IpL9h7JCE6T"
      },
      "outputs": [],
      "source": []
    },
    {
      "cell_type": "markdown",
      "metadata": {
        "id": "glCzzQblMV-S"
      },
      "source": [
        "### Random Tensors"
      ]
    },
    {
      "cell_type": "markdown",
      "metadata": {
        "id": "ZPIKGmOwMYjd"
      },
      "source": [
        "random tensors are important because many Neural networks starts with random numbers"
      ]
    },
    {
      "cell_type": "code",
      "execution_count": null,
      "metadata": {
        "colab": {
          "base_uri": "https://localhost:8080/"
        },
        "id": "eDZoSoU6NCgh",
        "outputId": "bf295dc9-ef60-457f-9f7c-437d1872d1aa"
      },
      "outputs": [
        {
          "data": {
            "text/plain": [
              "tensor([[0.2566, 0.7936, 0.9408, 0.1332],\n",
              "        [0.9346, 0.5936, 0.8694, 0.5677],\n",
              "        [0.7411, 0.4294, 0.8854, 0.5739]])"
            ]
          },
          "execution_count": 89,
          "metadata": {},
          "output_type": "execute_result"
        }
      ],
      "source": [
        "random_tensor = torch.rand(3, 4)\n",
        "random_tensor"
      ]
    },
    {
      "cell_type": "code",
      "execution_count": null,
      "metadata": {
        "colab": {
          "base_uri": "https://localhost:8080/"
        },
        "id": "E00OP2NtNQ2d",
        "outputId": "ce2679f3-3e3d-43ee-ce28-b839ad0f669c"
      },
      "outputs": [
        {
          "data": {
            "text/plain": [
              "2"
            ]
          },
          "execution_count": 90,
          "metadata": {},
          "output_type": "execute_result"
        }
      ],
      "source": [
        "random_tensor.ndim"
      ]
    },
    {
      "cell_type": "code",
      "execution_count": null,
      "metadata": {
        "colab": {
          "base_uri": "https://localhost:8080/"
        },
        "id": "wXw7fx18NUcJ",
        "outputId": "2d58b0ae-65a3-44db-92d1-ceebb2747c7f"
      },
      "outputs": [
        {
          "data": {
            "text/plain": [
              "tensor([[0., 0., 0., 0., 0.],\n",
              "        [0., 0., 0., 0., 0.],\n",
              "        [0., 0., 0., 0., 0.],\n",
              "        [0., 0., 0., 0., 0.]])"
            ]
          },
          "execution_count": 91,
          "metadata": {},
          "output_type": "execute_result"
        }
      ],
      "source": [
        "random_huge_tensor = torch.zeros(4,5)\n",
        "random_huge_tensor"
      ]
    },
    {
      "cell_type": "code",
      "execution_count": null,
      "metadata": {
        "colab": {
          "base_uri": "https://localhost:8080/"
        },
        "id": "pDqtZvHUPDCh",
        "outputId": "df96a93d-28f9-4665-9f9f-7c35ae72e871"
      },
      "outputs": [
        {
          "data": {
            "text/plain": [
              "torch.float32"
            ]
          },
          "execution_count": 92,
          "metadata": {},
          "output_type": "execute_result"
        }
      ],
      "source": [
        "random_huge_tensor.dtype"
      ]
    },
    {
      "cell_type": "code",
      "execution_count": null,
      "metadata": {
        "colab": {
          "base_uri": "https://localhost:8080/",
          "height": 36
        },
        "id": "oC2LGnG5Phbc",
        "outputId": "f5b5bfea-4022-4973-8292-b2836b5d9691"
      },
      "outputs": [
        {
          "data": {
            "text/plain": [
              "'2.1.0'"
            ]
          },
          "execution_count": 93,
          "metadata": {},
          "output_type": "execute_result"
        }
      ],
      "source": [
        "torch.__version__"
      ]
    },
    {
      "cell_type": "code",
      "execution_count": null,
      "metadata": {
        "colab": {
          "base_uri": "https://localhost:8080/"
        },
        "id": "ZIitMXi3PpkW",
        "outputId": "b304c1b1-8086-46e1-b1f8-bfab7fb1933f"
      },
      "outputs": [
        {
          "data": {
            "text/plain": [
              "tensor([0, 1, 2, 3, 4, 5, 6, 7, 8, 9])"
            ]
          },
          "execution_count": 94,
          "metadata": {},
          "output_type": "execute_result"
        }
      ],
      "source": [
        "zttendep = torch.arange(0, 10)\n",
        "zttendep"
      ]
    },
    {
      "cell_type": "code",
      "execution_count": null,
      "metadata": {
        "id": "mAWD4ss1h7p6"
      },
      "outputs": [],
      "source": [
        "ten = torch.tensor([11, 22, 33])"
      ]
    },
    {
      "cell_type": "code",
      "execution_count": null,
      "metadata": {
        "colab": {
          "base_uri": "https://localhost:8080/"
        },
        "id": "DP-Au6Fth-I-",
        "outputId": "cff4bfaa-d9b1-4690-bd49-7cbabca59a2b"
      },
      "outputs": [
        {
          "data": {
            "text/plain": [
              "tensor([110, 220, 330])"
            ]
          },
          "execution_count": 96,
          "metadata": {},
          "output_type": "execute_result"
        }
      ],
      "source": [
        "ten * 10"
      ]
    },
    {
      "cell_type": "code",
      "execution_count": null,
      "metadata": {
        "colab": {
          "base_uri": "https://localhost:8080/"
        },
        "id": "TODZPkRTh-0H",
        "outputId": "bb1bedec-3f4f-448f-faf9-dc8bc5759bd5"
      },
      "outputs": [
        {
          "data": {
            "text/plain": [
              "tensor([121, 242, 363])"
            ]
          },
          "execution_count": 97,
          "metadata": {},
          "output_type": "execute_result"
        }
      ],
      "source": [
        "torch.mul(ten, 11)"
      ]
    },
    {
      "cell_type": "code",
      "execution_count": null,
      "metadata": {
        "colab": {
          "base_uri": "https://localhost:8080/"
        },
        "id": "s6FapKaCh-3B",
        "outputId": "e960e083-874e-4679-a651-77a5418e499e"
      },
      "outputs": [
        {
          "data": {
            "text/plain": [
              "tensor([ 121,  484, 1089])"
            ]
          },
          "execution_count": 98,
          "metadata": {},
          "output_type": "execute_result"
        }
      ],
      "source": [
        "ten * ten"
      ]
    },
    {
      "cell_type": "code",
      "execution_count": null,
      "metadata": {
        "id": "BeiJoQ5Ch-55"
      },
      "outputs": [],
      "source": [
        "twotwo = torch.tensor([[1, 2],\n",
        "                       [3, 4]])"
      ]
    },
    {
      "cell_type": "code",
      "execution_count": null,
      "metadata": {
        "colab": {
          "base_uri": "https://localhost:8080/"
        },
        "id": "3O_6LYT9h-9C",
        "outputId": "bdb9c4e9-0621-4c3f-949d-9450ff2d0303"
      },
      "outputs": [
        {
          "data": {
            "text/plain": [
              "tensor([[ 1,  4],\n",
              "        [ 9, 16]])"
            ]
          },
          "execution_count": 100,
          "metadata": {},
          "output_type": "execute_result"
        }
      ],
      "source": [
        "twotwo * twotwo"
      ]
    },
    {
      "cell_type": "code",
      "execution_count": null,
      "metadata": {
        "colab": {
          "base_uri": "https://localhost:8080/"
        },
        "id": "QuISKWPOh-_8",
        "outputId": "e453c3dd-4012-445b-e665-fe82bfefec17"
      },
      "outputs": [
        {
          "data": {
            "text/plain": [
              "tensor([[ 7, 10],\n",
              "        [15, 22]])"
            ]
          },
          "execution_count": 101,
          "metadata": {},
          "output_type": "execute_result"
        }
      ],
      "source": [
        "torch.matmul(twotwo, twotwo)"
      ]
    },
    {
      "cell_type": "code",
      "execution_count": null,
      "metadata": {
        "colab": {
          "base_uri": "https://localhost:8080/"
        },
        "id": "K5joMSIxh_Cx",
        "outputId": "db9ab426-86a2-4f7d-f593-04c3ab6290d7"
      },
      "outputs": [
        {
          "data": {
            "text/plain": [
              "tensor(1694)"
            ]
          },
          "execution_count": 102,
          "metadata": {},
          "output_type": "execute_result"
        }
      ],
      "source": [
        "torch.matmul(ten, ten)"
      ]
    },
    {
      "cell_type": "code",
      "execution_count": null,
      "metadata": {
        "colab": {
          "base_uri": "https://localhost:8080/"
        },
        "id": "U2tmCxDrh_Fb",
        "outputId": "860d9d17-0ab0-446d-ab74-6976a00c8e4e"
      },
      "outputs": [
        {
          "data": {
            "text/plain": [
              "torch.Size([10, 3])"
            ]
          },
          "execution_count": 103,
          "metadata": {},
          "output_type": "execute_result"
        }
      ],
      "source": [
        "tensor1 = torch.randn(10, 3, 4)\n",
        "tensor2 = torch.randn(4)\n",
        "torch.matmul(tensor1, tensor2).size()"
      ]
    },
    {
      "cell_type": "code",
      "execution_count": null,
      "metadata": {
        "colab": {
          "base_uri": "https://localhost:8080/"
        },
        "id": "Gv8W6oAw_RQg",
        "outputId": "f19c9259-f982-4754-859d-8ec47bb5ecf3"
      },
      "outputs": [
        {
          "data": {
            "text/plain": [
              "torch.Size([10, 3, 4])"
            ]
          },
          "execution_count": 104,
          "metadata": {},
          "output_type": "execute_result"
        }
      ],
      "source": [
        "tensor1.size()"
      ]
    },
    {
      "cell_type": "code",
      "execution_count": null,
      "metadata": {
        "colab": {
          "base_uri": "https://localhost:8080/"
        },
        "id": "dQ_kFUox_ZL2",
        "outputId": "839f616c-02f9-41b1-ea39-72ca17159986"
      },
      "outputs": [
        {
          "data": {
            "text/plain": [
              "torch.Size([4])"
            ]
          },
          "execution_count": 105,
          "metadata": {},
          "output_type": "execute_result"
        }
      ],
      "source": [
        "tensor2.size()"
      ]
    },
    {
      "cell_type": "code",
      "execution_count": null,
      "metadata": {
        "colab": {
          "base_uri": "https://localhost:8080/"
        },
        "id": "BH-1s9NoAmU5",
        "outputId": "3653df97-f8bf-42a2-a4c2-708898d4cf5b"
      },
      "outputs": [
        {
          "data": {
            "text/plain": [
              "(tensor([[[-4.9740e-01,  4.3959e-01, -7.5813e-01,  1.0783e+00],\n",
              "          [ 8.0080e-01,  1.6806e+00,  3.5586e-01, -6.8662e-01],\n",
              "          [ 6.1047e-01,  1.3347e+00, -2.3162e-01,  4.1759e-02]],\n",
              " \n",
              "         [[-2.5158e-01,  8.5986e-01, -3.0973e-01, -3.9571e-01],\n",
              "          [-2.2337e-01,  1.7174e+00,  3.1888e-01, -4.2452e-01],\n",
              "          [ 3.0572e-01, -7.7459e-01,  3.4912e-02,  3.2110e-01]],\n",
              " \n",
              "         [[-8.7979e-01, -6.0114e-01, -1.2742e+00,  2.1228e+00],\n",
              "          [-1.2347e+00, -4.8791e-01, -1.4181e+00,  8.9627e-01],\n",
              "          [ 7.8024e-02,  5.2581e-01, -4.8799e-01,  1.1914e+00]],\n",
              " \n",
              "         [[-8.1401e-01, -7.3599e-01, -8.3713e-01, -9.2239e-01],\n",
              "          [-6.3477e-02,  6.7561e-01, -9.7807e-02,  1.8446e+00],\n",
              "          [-1.1845e+00,  1.3835e+00, -1.2024e+00,  7.0781e-01]],\n",
              " \n",
              "         [[ 2.2181e+00,  5.2317e-01,  3.4665e-01, -1.9733e-01],\n",
              "          [-1.0546e+00,  1.2780e+00,  1.4534e-01,  2.3105e-01],\n",
              "          [ 5.6622e-02,  4.2630e-01,  5.7501e-01, -6.4172e-01]],\n",
              " \n",
              "         [[-2.2064e+00, -7.5080e-01,  2.8140e+00,  3.5979e-01],\n",
              "          [-1.3407e+00, -5.8537e-01,  5.3619e-01,  5.2462e-01],\n",
              "          [ 1.1412e+00,  5.1644e-02,  7.2811e-01, -7.1064e-01]],\n",
              " \n",
              "         [[-1.0495e+00,  6.0390e-01, -1.7223e+00, -8.2777e-01],\n",
              "          [ 1.3347e+00,  4.8354e-01, -1.9756e-01,  1.2683e+00],\n",
              "          [ 7.8459e-01,  2.8647e-02,  6.4076e-01,  5.8325e-01]],\n",
              " \n",
              "         [[ 1.0669e+00, -4.5015e-01, -6.7875e-01,  5.7432e-01],\n",
              "          [ 4.0476e-01,  1.7847e-01,  2.6491e-01,  1.2732e+00],\n",
              "          [-1.3109e-03, -3.0360e-01, -9.8644e-01,  1.2330e-01]],\n",
              " \n",
              "         [[-5.9915e-01,  4.7706e-01,  7.2618e-01,  9.1152e-02],\n",
              "          [-3.8907e-01,  5.2792e-01,  1.0311e+00, -7.0477e-01],\n",
              "          [ 7.3254e-02,  8.1865e-01,  1.4805e+00,  3.4493e-01]],\n",
              " \n",
              "         [[-1.4241e+00, -1.1633e-01, -9.7267e-01,  9.5846e-01],\n",
              "          [-1.4335e+00, -5.6653e-01, -4.2528e-01,  2.6252e-01],\n",
              "          [-1.4391e+00,  5.2138e-01,  3.4875e-01,  9.6759e-01]]]),\n",
              " tensor([-0.3380, -0.4270, -0.4377,  1.3522]))"
            ]
          },
          "execution_count": 106,
          "metadata": {},
          "output_type": "execute_result"
        }
      ],
      "source": [
        "tensor1, tensor2"
      ]
    },
    {
      "cell_type": "code",
      "execution_count": null,
      "metadata": {
        "colab": {
          "base_uri": "https://localhost:8080/"
        },
        "id": "dZ8TMTM6h_Hx",
        "outputId": "c697299c-e58d-43b2-f16c-4aad5de2611a"
      },
      "outputs": [
        {
          "data": {
            "text/plain": [
              "tensor([[ 1.7704, -2.0725, -0.6184],\n",
              "        [-0.6816, -1.3714,  0.6463],\n",
              "        [ 3.9823,  2.4583,  1.5737],\n",
              "        [-0.2915,  2.2701,  1.2931],\n",
              "        [-1.3916,  0.0596, -1.3206],\n",
              "        [ 0.3211,  1.1778, -1.6874],\n",
              "        [-0.2686,  1.1440,  0.2308],\n",
              "        [ 0.9053,  1.3927,  0.7286],\n",
              "        [-0.1958, -1.4983, -0.5559],\n",
              "        [ 2.2528,  1.2675,  1.4195]])"
            ]
          },
          "execution_count": 107,
          "metadata": {},
          "output_type": "execute_result"
        }
      ],
      "source": [
        "torch.matmul(tensor1, tensor2)"
      ]
    },
    {
      "cell_type": "code",
      "execution_count": null,
      "metadata": {
        "colab": {
          "base_uri": "https://localhost:8080/"
        },
        "id": "FJ2RgUkj_TFS",
        "outputId": "052945e4-a23b-4f4f-c8a0-eac8fa3e2df5"
      },
      "outputs": [
        {
          "data": {
            "text/plain": [
              "tensor([[0.3733, 0.1723, 0.1614],\n",
              "        [0.6364, 0.4897, 0.3335],\n",
              "        [0.6082, 0.7847, 0.4129]])"
            ]
          },
          "execution_count": 108,
          "metadata": {},
          "output_type": "execute_result"
        }
      ],
      "source": [
        "torch.matmul(torch.rand(3,2),torch.rand(2,3))"
      ]
    },
    {
      "cell_type": "code",
      "execution_count": null,
      "metadata": {
        "id": "hS6YnsZ1_PtU"
      },
      "outputs": [],
      "source": []
    },
    {
      "cell_type": "code",
      "execution_count": null,
      "metadata": {
        "colab": {
          "base_uri": "https://localhost:8080/"
        },
        "id": "Ie85jLFBPvKS",
        "outputId": "d26b57fd-7f67-40e0-a6b5-310a54787b81"
      },
      "outputs": [
        {
          "data": {
            "text/plain": [
              "tensor([ 0, 10, 20, 30, 40, 50, 60, 70, 80, 90])"
            ]
          },
          "execution_count": 109,
          "metadata": {},
          "output_type": "execute_result"
        }
      ],
      "source": [
        "x = torch.arange(0, 100, 10)\n",
        "x"
      ]
    },
    {
      "cell_type": "code",
      "execution_count": null,
      "metadata": {
        "colab": {
          "base_uri": "https://localhost:8080/"
        },
        "id": "ClbYlzuXt8WV",
        "outputId": "d064eacb-aa7d-4d12-eae8-afe81835298b"
      },
      "outputs": [
        {
          "data": {
            "text/plain": [
              "tensor(9)"
            ]
          },
          "execution_count": 110,
          "metadata": {},
          "output_type": "execute_result"
        }
      ],
      "source": [
        "x.argmax()"
      ]
    },
    {
      "cell_type": "code",
      "execution_count": null,
      "metadata": {
        "colab": {
          "base_uri": "https://localhost:8080/"
        },
        "id": "dLg4mgJiIyBG",
        "outputId": "3ccb5d28-7c55-4d91-825d-9201460f1dc7"
      },
      "outputs": [
        {
          "data": {
            "text/plain": [
              "tensor([[ 0, 10],\n",
              "        [20, 30],\n",
              "        [40, 50],\n",
              "        [60, 70],\n",
              "        [80, 90]])"
            ]
          },
          "execution_count": 111,
          "metadata": {},
          "output_type": "execute_result"
        }
      ],
      "source": [
        "x.reshape(5,2)"
      ]
    },
    {
      "cell_type": "code",
      "execution_count": null,
      "metadata": {
        "colab": {
          "base_uri": "https://localhost:8080/"
        },
        "id": "VFUtKcZnI_8l",
        "outputId": "f5e4261c-d72c-4f41-8907-b6586e9ab10f"
      },
      "outputs": [
        {
          "data": {
            "text/plain": [
              "tensor([ 0, 10, 20, 30, 40, 50, 60, 70, 80, 90])"
            ]
          },
          "execution_count": 112,
          "metadata": {},
          "output_type": "execute_result"
        }
      ],
      "source": [
        "x"
      ]
    },
    {
      "cell_type": "code",
      "execution_count": null,
      "metadata": {
        "colab": {
          "base_uri": "https://localhost:8080/"
        },
        "id": "EIFfNJQiJrV3",
        "outputId": "f3927737-4f1b-4796-eafd-6a34bd767c04"
      },
      "outputs": [
        {
          "data": {
            "text/plain": [
              "tensor([[ 0, 10],\n",
              "        [20, 30],\n",
              "        [40, 50],\n",
              "        [60, 70],\n",
              "        [80, 90]])"
            ]
          },
          "execution_count": 113,
          "metadata": {},
          "output_type": "execute_result"
        }
      ],
      "source": [
        "torch.reshape(x, (5,2))"
      ]
    },
    {
      "cell_type": "code",
      "execution_count": null,
      "metadata": {
        "colab": {
          "base_uri": "https://localhost:8080/"
        },
        "id": "m7q3TiHtJzZa",
        "outputId": "217d58d5-eae3-4545-a1b4-52611de35a85"
      },
      "outputs": [
        {
          "data": {
            "text/plain": [
              "tensor([ 0, 10, 20, 30, 40, 50, 60, 70, 80, 90])"
            ]
          },
          "execution_count": 114,
          "metadata": {},
          "output_type": "execute_result"
        }
      ],
      "source": [
        "x"
      ]
    },
    {
      "cell_type": "code",
      "execution_count": null,
      "metadata": {
        "colab": {
          "base_uri": "https://localhost:8080/"
        },
        "id": "g0_EJjadMv5R",
        "outputId": "cc6894be-a14a-4d5d-b404-cbb8b302f59c"
      },
      "outputs": [
        {
          "data": {
            "text/plain": [
              "tensor([[ 0,  0,  0],\n",
              "        [10, 10, 10],\n",
              "        [20, 20, 20],\n",
              "        [30, 30, 30],\n",
              "        [40, 40, 40],\n",
              "        [50, 50, 50],\n",
              "        [60, 60, 60],\n",
              "        [70, 70, 70],\n",
              "        [80, 80, 80],\n",
              "        [90, 90, 90]])"
            ]
          },
          "execution_count": 115,
          "metadata": {},
          "output_type": "execute_result"
        }
      ],
      "source": [
        "torch.stack([x,x,x], dim= 1)"
      ]
    },
    {
      "cell_type": "code",
      "execution_count": null,
      "metadata": {
        "colab": {
          "base_uri": "https://localhost:8080/"
        },
        "id": "duX576JCOB5C",
        "outputId": "812dd220-600a-4f95-8ed9-c54a91a2fe0b"
      },
      "outputs": [
        {
          "data": {
            "text/plain": [
              "tensor([[[[[0., 0.]],\n",
              "\n",
              "          [[0., 0.]]]],\n",
              "\n",
              "\n",
              "\n",
              "        [[[[0., 0.]],\n",
              "\n",
              "          [[0., 0.]]]]])"
            ]
          },
          "execution_count": 116,
          "metadata": {},
          "output_type": "execute_result"
        }
      ],
      "source": [
        "x = torch.zeros(2, 1, 2, 1, 2)\n",
        "x"
      ]
    },
    {
      "cell_type": "code",
      "execution_count": null,
      "metadata": {
        "colab": {
          "base_uri": "https://localhost:8080/"
        },
        "id": "WLw_5MKkOExm",
        "outputId": "ba625c26-0bfa-4578-c5b3-a83ebac5c14e"
      },
      "outputs": [
        {
          "data": {
            "text/plain": [
              "tensor([[[0., 0.],\n",
              "         [0., 0.]],\n",
              "\n",
              "        [[0., 0.],\n",
              "         [0., 0.]]])"
            ]
          },
          "execution_count": 117,
          "metadata": {},
          "output_type": "execute_result"
        }
      ],
      "source": [
        "y = torch.squeeze(x)\n",
        "y"
      ]
    },
    {
      "cell_type": "code",
      "execution_count": null,
      "metadata": {
        "colab": {
          "base_uri": "https://localhost:8080/"
        },
        "id": "POYXoVIySURb",
        "outputId": "d05aa14d-11b7-47cc-f491-d368e75a60f3"
      },
      "outputs": [
        {
          "data": {
            "text/plain": [
              "(tensor([[[[[1., 1.]],\n",
              " \n",
              "           [[1., 1.]]]],\n",
              " \n",
              " \n",
              " \n",
              "         [[[[1., 1.]],\n",
              " \n",
              "           [[1., 1.]]]]]),\n",
              " tensor([[[1., 1.],\n",
              "          [1., 1.]],\n",
              " \n",
              "         [[1., 1.],\n",
              "          [1., 1.]]]))"
            ]
          },
          "execution_count": 118,
          "metadata": {},
          "output_type": "execute_result"
        }
      ],
      "source": [
        "x[:, 0] = 1\n",
        "x , y"
      ]
    },
    {
      "cell_type": "code",
      "execution_count": null,
      "metadata": {
        "colab": {
          "base_uri": "https://localhost:8080/"
        },
        "id": "rt96UWYtRUId",
        "outputId": "d1124c20-2153-45a8-9fee-798492d9eea9"
      },
      "outputs": [
        {
          "data": {
            "text/plain": [
              "tensor([[[[1., 1.],\n",
              "          [1., 1.]]],\n",
              "\n",
              "\n",
              "        [[[1., 1.],\n",
              "          [1., 1.]]]])"
            ]
          },
          "execution_count": 119,
          "metadata": {},
          "output_type": "execute_result"
        }
      ],
      "source": [
        "z = torch.unsqueeze(y, dim=1)\n",
        "z"
      ]
    },
    {
      "cell_type": "code",
      "execution_count": null,
      "metadata": {
        "colab": {
          "base_uri": "https://localhost:8080/"
        },
        "id": "i-ZkBOZdRjHc",
        "outputId": "4a18e035-1048-455a-ce08-ea7f880241c7"
      },
      "outputs": [
        {
          "data": {
            "text/plain": [
              "tensor([[[[1., 1.],\n",
              "          [1., 1.]],\n",
              "\n",
              "         [[1., 1.],\n",
              "          [1., 1.]]]])"
            ]
          },
          "execution_count": 120,
          "metadata": {},
          "output_type": "execute_result"
        }
      ],
      "source": [
        "torch.unsqueeze(y, dim=0)"
      ]
    },
    {
      "cell_type": "code",
      "execution_count": null,
      "metadata": {
        "colab": {
          "base_uri": "https://localhost:8080/"
        },
        "id": "juye9XG8RmPK",
        "outputId": "a5ed186e-3f0a-4eea-dd4b-f9e4307511ad"
      },
      "outputs": [
        {
          "data": {
            "text/plain": [
              "tensor([[[[1., 1.],\n",
              "          [1., 1.]]],\n",
              "\n",
              "\n",
              "        [[[1., 1.],\n",
              "          [1., 1.]]]])"
            ]
          },
          "execution_count": 121,
          "metadata": {},
          "output_type": "execute_result"
        }
      ],
      "source": [
        "torch.unsqueeze(y, dim=1)"
      ]
    },
    {
      "cell_type": "code",
      "execution_count": null,
      "metadata": {
        "colab": {
          "base_uri": "https://localhost:8080/"
        },
        "id": "Jr4MluOzRnP6",
        "outputId": "f97bd87c-ae29-440c-8367-9b31561ef098"
      },
      "outputs": [
        {
          "data": {
            "text/plain": [
              "tensor([[[[1.],\n",
              "          [1.]],\n",
              "\n",
              "         [[1.],\n",
              "          [1.]]],\n",
              "\n",
              "\n",
              "        [[[1.],\n",
              "          [1.]],\n",
              "\n",
              "         [[1.],\n",
              "          [1.]]]])"
            ]
          },
          "execution_count": 122,
          "metadata": {},
          "output_type": "execute_result"
        }
      ],
      "source": [
        "torch.unsqueeze(y, dim=3)"
      ]
    },
    {
      "cell_type": "markdown",
      "metadata": {
        "id": "XvrZAcogS99y"
      },
      "source": [
        "#### to check if squeeze shares memory"
      ]
    },
    {
      "cell_type": "code",
      "execution_count": null,
      "metadata": {
        "colab": {
          "base_uri": "https://localhost:8080/"
        },
        "id": "BU3qIIg4S9fZ",
        "outputId": "6471ae2b-a1a3-4f63-f17b-eee8c00f1821"
      },
      "outputs": [
        {
          "data": {
            "text/plain": [
              "tensor([ 0,  2,  4,  6,  8, 10])"
            ]
          },
          "execution_count": 123,
          "metadata": {},
          "output_type": "execute_result"
        }
      ],
      "source": [
        "sqz = torch.arange(0,12, 2)\n",
        "sqz"
      ]
    },
    {
      "cell_type": "code",
      "execution_count": null,
      "metadata": {
        "id": "4uRVvsPhTred"
      },
      "outputs": [],
      "source": [
        "sqz = sqz.unsqueeze(dim=0)"
      ]
    },
    {
      "cell_type": "code",
      "execution_count": null,
      "metadata": {
        "colab": {
          "base_uri": "https://localhost:8080/"
        },
        "id": "D3keTncgYjjH",
        "outputId": "47d9c0cd-6b91-4ba0-bf24-ab88be0bd0dc"
      },
      "outputs": [
        {
          "data": {
            "text/plain": [
              "tensor([[ 0,  2,  4,  6,  8, 10]])"
            ]
          },
          "execution_count": 125,
          "metadata": {},
          "output_type": "execute_result"
        }
      ],
      "source": [
        "sqz"
      ]
    },
    {
      "cell_type": "code",
      "execution_count": null,
      "metadata": {
        "colab": {
          "base_uri": "https://localhost:8080/"
        },
        "id": "8mnih3ChUDz6",
        "outputId": "06b6524f-40e2-4fe3-c0c6-7b97f16fd1a9"
      },
      "outputs": [
        {
          "data": {
            "text/plain": [
              "tensor([ 0,  2,  4,  6,  8, 10])"
            ]
          },
          "execution_count": 126,
          "metadata": {},
          "output_type": "execute_result"
        }
      ],
      "source": [
        "sqz2 = sqz.squeeze( dim = 0)\n",
        "sqz2"
      ]
    },
    {
      "cell_type": "code",
      "execution_count": null,
      "metadata": {
        "colab": {
          "base_uri": "https://localhost:8080/"
        },
        "id": "NPUCSOi1ULBS",
        "outputId": "1c5467f6-8625-4177-e265-fd12d4d24497"
      },
      "outputs": [
        {
          "data": {
            "text/plain": [
              "tensor([ 0, 69,  4,  6,  8, 10])"
            ]
          },
          "execution_count": 127,
          "metadata": {},
          "output_type": "execute_result"
        }
      ],
      "source": [
        "sqz2[1] = 69\n",
        "sqz2"
      ]
    },
    {
      "cell_type": "code",
      "execution_count": null,
      "metadata": {
        "colab": {
          "base_uri": "https://localhost:8080/"
        },
        "id": "TZk5Uw9DVJYf",
        "outputId": "556447e8-42d5-4a99-bc56-3ea9ae2779aa"
      },
      "outputs": [
        {
          "data": {
            "text/plain": [
              "tensor([[ 0, 69,  4,  6,  8, 10]])"
            ]
          },
          "execution_count": 128,
          "metadata": {},
          "output_type": "execute_result"
        }
      ],
      "source": [
        "sqz"
      ]
    },
    {
      "cell_type": "markdown",
      "metadata": {
        "id": "yyGUo-izq01k"
      },
      "source": [
        "Reproducablity. random seed"
      ]
    },
    {
      "cell_type": "code",
      "execution_count": null,
      "metadata": {
        "colab": {
          "base_uri": "https://localhost:8080/"
        },
        "id": "0UB_RKc5q0W4",
        "outputId": "9866c56a-b864-4932-919a-88b55e86ebfc"
      },
      "outputs": [
        {
          "data": {
            "text/plain": [
              "tensor([[0.8823, 0.9150],\n",
              "        [0.3829, 0.9593],\n",
              "        [0.3904, 0.6009]])"
            ]
          },
          "execution_count": 129,
          "metadata": {},
          "output_type": "execute_result"
        }
      ],
      "source": [
        "r_seed = 42\n",
        "torch.manual_seed(r_seed)\n",
        "rand_a = torch.rand(3,2)\n",
        "rand_a"
      ]
    },
    {
      "cell_type": "code",
      "execution_count": null,
      "metadata": {
        "colab": {
          "base_uri": "https://localhost:8080/"
        },
        "id": "s4-X-t8Sz06D",
        "outputId": "92d4c2e6-bbcb-4e7c-8b5a-c14f035ee44f"
      },
      "outputs": [
        {
          "data": {
            "text/plain": [
              "tensor([[0.2566, 0.7936],\n",
              "        [0.9408, 0.1332],\n",
              "        [0.9346, 0.5936]])"
            ]
          },
          "execution_count": 130,
          "metadata": {},
          "output_type": "execute_result"
        }
      ],
      "source": [
        "torch.rand(3,2)"
      ]
    },
    {
      "cell_type": "code",
      "execution_count": null,
      "metadata": {
        "colab": {
          "base_uri": "https://localhost:8080/"
        },
        "id": "VoVaN5SHz5fO",
        "outputId": "b428a2e4-00e8-430e-e6f0-242c555f7cb5"
      },
      "outputs": [
        {
          "data": {
            "text/plain": [
              "tensor([[0.8823, 0.9150],\n",
              "        [0.3829, 0.9593],\n",
              "        [0.3904, 0.6009]])"
            ]
          },
          "execution_count": 131,
          "metadata": {},
          "output_type": "execute_result"
        }
      ],
      "source": [
        "torch.manual_seed(42)\n",
        "torch.rand(3,2)"
      ]
    },
    {
      "cell_type": "code",
      "execution_count": null,
      "metadata": {
        "colab": {
          "base_uri": "https://localhost:8080/"
        },
        "id": "JufPTb3d0ADE",
        "outputId": "a2a61cfa-7f46-438f-fb16-c5984510832b"
      },
      "outputs": [
        {
          "data": {
            "text/plain": [
              "tensor([[True, True],\n",
              "        [True, True],\n",
              "        [True, True]])"
            ]
          },
          "execution_count": 132,
          "metadata": {},
          "output_type": "execute_result"
        }
      ],
      "source": [
        "torch.manual_seed(42)\n",
        "rand_a == torch.rand(3,2)"
      ]
    },
    {
      "cell_type": "code",
      "execution_count": 62,
      "metadata": {
        "id": "gf601w6TAe4n",
        "outputId": "0ca9a9a3-2798-418a-a5b4-4cca15af26fc",
        "colab": {
          "base_uri": "https://localhost:8080/"
        }
      },
      "outputs": [
        {
          "output_type": "execute_result",
          "data": {
            "text/plain": [
              "device(type='cpu')"
            ]
          },
          "metadata": {},
          "execution_count": 62
        }
      ],
      "source": [
        "rand_a.device"
      ]
    },
    {
      "cell_type": "code",
      "execution_count": null,
      "metadata": {
        "id": "hYEf8LItAe4n"
      },
      "outputs": [],
      "source": [
        "# mps_rans = rand_a.to(mps_device)"
      ]
    },
    {
      "cell_type": "markdown",
      "metadata": {
        "id": "UqtLD8Y0Ae4n"
      },
      "source": [
        "rand_a still stays on CPU. have to assign it to a variable to hold the migrated tensor on `mps` like above"
      ]
    },
    {
      "cell_type": "code",
      "execution_count": null,
      "metadata": {
        "id": "vyhgMoXDAe4o",
        "outputId": "782a16a0-b465-4497-b563-ec31e6e76a5c"
      },
      "outputs": [
        {
          "data": {
            "text/plain": [
              "device(type='mps', index=0)"
            ]
          },
          "execution_count": 135,
          "metadata": {},
          "output_type": "execute_result"
        }
      ],
      "source": [
        "# mps_rans.device"
      ]
    },
    {
      "cell_type": "code",
      "source": [
        "!nvidia-smi"
      ],
      "metadata": {
        "id": "4HzNF4CGA37y",
        "outputId": "4a3bba70-5ba0-4275-8513-bfecab9540e2",
        "colab": {
          "base_uri": "https://localhost:8080/"
        }
      },
      "execution_count": 63,
      "outputs": [
        {
          "output_type": "stream",
          "name": "stdout",
          "text": [
            "/bin/bash: line 1: nvidia-smi: command not found\n"
          ]
        }
      ]
    },
    {
      "cell_type": "markdown",
      "source": [
        "# Practice"
      ],
      "metadata": {
        "id": "HoiMJJ0YF6WA"
      }
    },
    {
      "cell_type": "markdown",
      "source": [
        "using template given in course for ease"
      ],
      "metadata": {
        "id": "z0ETrauOF74g"
      }
    }
  ],
  "metadata": {
    "colab": {
      "provenance": [],
      "include_colab_link": true
    },
    "kernelspec": {
      "display_name": "Python 3",
      "name": "python3"
    },
    "language_info": {
      "codemirror_mode": {
        "name": "ipython",
        "version": 3
      },
      "file_extension": ".py",
      "mimetype": "text/x-python",
      "name": "python",
      "nbconvert_exporter": "python",
      "pygments_lexer": "ipython3",
      "version": "3.11.4"
    }
  },
  "nbformat": 4,
  "nbformat_minor": 0
}