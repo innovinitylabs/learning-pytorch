{
  "cells": [
    {
      "cell_type": "markdown",
      "metadata": {
        "colab_type": "text",
        "id": "view-in-github"
      },
      "source": [
        "<a href=\"https://colab.research.google.com/github/innovinitylabs/learning-pytorch/blob/main/00_pytorch_fundamentals.ipynb\" target=\"_parent\"><img src=\"https://colab.research.google.com/assets/colab-badge.svg\" alt=\"Open In Colab\"/></a>"
      ]
    },
    {
      "cell_type": "code",
      "execution_count": 231,
      "metadata": {
        "id": "bL3q2I2G-CTz"
      },
      "outputs": [],
      "source": [
        "import torch"
      ]
    },
    {
      "cell_type": "code",
      "execution_count": 232,
      "metadata": {
        "id": "aeX3jaOcAe4c"
      },
      "outputs": [],
      "source": [
        "# mps_device = torch.device('mps')"
      ]
    },
    {
      "cell_type": "code",
      "execution_count": 233,
      "metadata": {
        "id": "TJkPnd0dAe4c"
      },
      "outputs": [],
      "source": [
        "# class Conf: dev = torch.device(\"mps\")"
      ]
    },
    {
      "cell_type": "markdown",
      "metadata": {
        "id": "53BSJktv-nkG"
      },
      "source": [
        "# introduction to tensors\n",
        "\n",
        "## creating tensors\n",
        "\n",
        "pytorch tensors are created using `torch.tensors`"
      ]
    },
    {
      "cell_type": "markdown",
      "metadata": {
        "id": "haIIhNt_-9gd"
      },
      "source": [
        "### Scalar"
      ]
    },
    {
      "cell_type": "code",
      "execution_count": 234,
      "metadata": {
        "colab": {
          "base_uri": "https://localhost:8080/"
        },
        "id": "mEveGowX_L4g",
        "outputId": "eeb1f409-95c2-4e98-c4d8-5ff6319f1961"
      },
      "outputs": [
        {
          "data": {
            "text/plain": [
              "tensor(7)"
            ]
          },
          "execution_count": 234,
          "metadata": {},
          "output_type": "execute_result"
        }
      ],
      "source": [
        "scalar = torch.tensor(7)\n",
        "scalar"
      ]
    },
    {
      "cell_type": "markdown",
      "metadata": {
        "id": "Xpr7qHOV_meT"
      },
      "source": [
        "to get dimensions"
      ]
    },
    {
      "cell_type": "code",
      "execution_count": 235,
      "metadata": {
        "colab": {
          "base_uri": "https://localhost:8080/"
        },
        "id": "MBjcvHUe_l8P",
        "outputId": "8ac817d9-858c-422a-c9ad-6c019fad28b0"
      },
      "outputs": [
        {
          "data": {
            "text/plain": [
              "0"
            ]
          },
          "execution_count": 235,
          "metadata": {},
          "output_type": "execute_result"
        }
      ],
      "source": [
        "scalar.ndim"
      ]
    },
    {
      "cell_type": "markdown",
      "metadata": {
        "id": "1XaNRdxp_9aj"
      },
      "source": [
        "to get the number without type"
      ]
    },
    {
      "cell_type": "code",
      "execution_count": 236,
      "metadata": {
        "colab": {
          "base_uri": "https://localhost:8080/"
        },
        "id": "5Ndr2b5N__iG",
        "outputId": "7e17049e-f8bf-47d5-a4e5-27851b3ddf49"
      },
      "outputs": [
        {
          "data": {
            "text/plain": [
              "7"
            ]
          },
          "execution_count": 236,
          "metadata": {},
          "output_type": "execute_result"
        }
      ],
      "source": [
        "scalar.item()"
      ]
    },
    {
      "cell_type": "markdown",
      "metadata": {
        "id": "vvRkPB46ADDv"
      },
      "source": [
        "### Vector"
      ]
    },
    {
      "cell_type": "code",
      "execution_count": 237,
      "metadata": {
        "colab": {
          "base_uri": "https://localhost:8080/"
        },
        "id": "icjipOj4AQvy",
        "outputId": "6d4cfd1d-8b6d-454a-f281-0f944cdb536f"
      },
      "outputs": [
        {
          "data": {
            "text/plain": [
              "tensor([7, 7])"
            ]
          },
          "execution_count": 237,
          "metadata": {},
          "output_type": "execute_result"
        }
      ],
      "source": [
        "vector = torch.tensor([7, 7])\n",
        "vector"
      ]
    },
    {
      "cell_type": "code",
      "execution_count": 238,
      "metadata": {
        "colab": {
          "base_uri": "https://localhost:8080/"
        },
        "id": "H4i6gmL7AWh5",
        "outputId": "f752beca-dea3-4960-f16e-f96a3a4fee67"
      },
      "outputs": [
        {
          "data": {
            "text/plain": [
              "1"
            ]
          },
          "execution_count": 238,
          "metadata": {},
          "output_type": "execute_result"
        }
      ],
      "source": [
        "vector.ndim"
      ]
    },
    {
      "cell_type": "markdown",
      "metadata": {
        "id": "8HFqI45RAmHz"
      },
      "source": [
        "easy way to remember dimension is by number of square brackets"
      ]
    },
    {
      "cell_type": "code",
      "execution_count": 239,
      "metadata": {
        "colab": {
          "base_uri": "https://localhost:8080/"
        },
        "id": "Wl0QyL2aArdp",
        "outputId": "2a61f177-7a1b-432c-efb3-ec2b5859ed6e"
      },
      "outputs": [
        {
          "data": {
            "text/plain": [
              "torch.Size([2])"
            ]
          },
          "execution_count": 239,
          "metadata": {},
          "output_type": "execute_result"
        }
      ],
      "source": [
        "vector.shape"
      ]
    },
    {
      "cell_type": "markdown",
      "metadata": {
        "id": "n1SiV0cfA0ju"
      },
      "source": [
        "shape gives how elements in tensor are arranged."
      ]
    },
    {
      "cell_type": "markdown",
      "metadata": {
        "id": "1AIeE7GjA3zP"
      },
      "source": [
        "### MATRIX"
      ]
    },
    {
      "cell_type": "code",
      "execution_count": 240,
      "metadata": {
        "colab": {
          "base_uri": "https://localhost:8080/"
        },
        "id": "d5-GAI6AA5q2",
        "outputId": "e1dd66fe-5785-4c60-b16c-f08793f20785"
      },
      "outputs": [
        {
          "data": {
            "text/plain": [
              "tensor([[ 7,  8],\n",
              "        [ 9, 10]])"
            ]
          },
          "execution_count": 240,
          "metadata": {},
          "output_type": "execute_result"
        }
      ],
      "source": [
        "MATRIX = torch.tensor([[7, 8],\n",
        "                       [9,10]])\n",
        "MATRIX"
      ]
    },
    {
      "cell_type": "code",
      "execution_count": 241,
      "metadata": {
        "colab": {
          "base_uri": "https://localhost:8080/"
        },
        "id": "B-lUBOI3BEJI",
        "outputId": "4c5ad1be-9fc7-4c46-a6a6-90ab9ab8833f"
      },
      "outputs": [
        {
          "data": {
            "text/plain": [
              "2"
            ]
          },
          "execution_count": 241,
          "metadata": {},
          "output_type": "execute_result"
        }
      ],
      "source": [
        "MATRIX.ndim"
      ]
    },
    {
      "cell_type": "code",
      "execution_count": 242,
      "metadata": {
        "colab": {
          "base_uri": "https://localhost:8080/"
        },
        "id": "F7bPB3kNBG_4",
        "outputId": "2bb7a9c7-b9c2-4252-bfa7-a1a4d4800033"
      },
      "outputs": [
        {
          "data": {
            "text/plain": [
              "torch.Size([2, 2])"
            ]
          },
          "execution_count": 242,
          "metadata": {},
          "output_type": "execute_result"
        }
      ],
      "source": [
        "MATRIX.shape"
      ]
    },
    {
      "cell_type": "code",
      "execution_count": 243,
      "metadata": {
        "colab": {
          "base_uri": "https://localhost:8080/"
        },
        "id": "biKuYTdoBVa2",
        "outputId": "56bd3401-298e-47b4-8bc2-310e369a55ca"
      },
      "outputs": [
        {
          "data": {
            "text/plain": [
              "tensor([7, 8])"
            ]
          },
          "execution_count": 243,
          "metadata": {},
          "output_type": "execute_result"
        }
      ],
      "source": [
        "MATRIX[0]"
      ]
    },
    {
      "cell_type": "markdown",
      "metadata": {
        "id": "rvtnNucMBcJC"
      },
      "source": [
        "### TENSOR"
      ]
    },
    {
      "cell_type": "code",
      "execution_count": 244,
      "metadata": {
        "colab": {
          "base_uri": "https://localhost:8080/"
        },
        "id": "MV0uXDRCBejP",
        "outputId": "0ef900a7-65d1-46e1-ae04-f69cf6988dbe"
      },
      "outputs": [
        {
          "data": {
            "text/plain": [
              "tensor([[[1, 2, 3],\n",
              "         [3, 6, 9],\n",
              "         [2, 4, 5]]])"
            ]
          },
          "execution_count": 244,
          "metadata": {},
          "output_type": "execute_result"
        }
      ],
      "source": [
        "TENSOR = torch.tensor([[[1, 2, 3],\n",
        "                        [3, 6, 9],\n",
        "                        [2, 4, 5]]])\n",
        "TENSOR"
      ]
    },
    {
      "cell_type": "code",
      "execution_count": 245,
      "metadata": {
        "colab": {
          "base_uri": "https://localhost:8080/"
        },
        "id": "hFgwGP07Bupb",
        "outputId": "6a2f6c17-fcd5-43ce-ebfd-aedf1829db83"
      },
      "outputs": [
        {
          "data": {
            "text/plain": [
              "3"
            ]
          },
          "execution_count": 245,
          "metadata": {},
          "output_type": "execute_result"
        }
      ],
      "source": [
        "TENSOR.ndim"
      ]
    },
    {
      "cell_type": "code",
      "execution_count": 246,
      "metadata": {
        "colab": {
          "base_uri": "https://localhost:8080/"
        },
        "id": "Lqzfo32jBwNn",
        "outputId": "00737d94-7906-48d0-d50a-12d9f98e8710"
      },
      "outputs": [
        {
          "data": {
            "text/plain": [
              "torch.Size([1, 3, 3])"
            ]
          },
          "execution_count": 246,
          "metadata": {},
          "output_type": "execute_result"
        }
      ],
      "source": [
        "TENSOR.shape"
      ]
    },
    {
      "cell_type": "code",
      "execution_count": 247,
      "metadata": {
        "colab": {
          "base_uri": "https://localhost:8080/"
        },
        "id": "D3jJot78B96S",
        "outputId": "c67221ea-a619-4691-9ab1-9e3d04ab1676"
      },
      "outputs": [
        {
          "data": {
            "text/plain": [
              "tensor([[1, 2, 3],\n",
              "        [3, 6, 9],\n",
              "        [2, 4, 5]])"
            ]
          },
          "execution_count": 247,
          "metadata": {},
          "output_type": "execute_result"
        }
      ],
      "source": [
        "TENSOR[0]\n"
      ]
    },
    {
      "cell_type": "code",
      "execution_count": null,
      "metadata": {
        "id": "_IpL9h7JCE6T"
      },
      "outputs": [],
      "source": []
    },
    {
      "cell_type": "markdown",
      "metadata": {
        "id": "glCzzQblMV-S"
      },
      "source": [
        "### Random Tensors"
      ]
    },
    {
      "cell_type": "markdown",
      "metadata": {
        "id": "ZPIKGmOwMYjd"
      },
      "source": [
        "random tensors are important because many Neural networks starts with random numbers"
      ]
    },
    {
      "cell_type": "code",
      "execution_count": 248,
      "metadata": {
        "colab": {
          "base_uri": "https://localhost:8080/"
        },
        "id": "eDZoSoU6NCgh",
        "outputId": "4e89f14f-63a6-4ef1-f3a0-80ff6f951e5f"
      },
      "outputs": [
        {
          "data": {
            "text/plain": [
              "tensor([[0.0183, 0.5854, 0.6620, 0.0158],\n",
              "        [0.5309, 0.9056, 0.6011, 0.6072],\n",
              "        [0.5147, 0.7654, 0.5434, 0.3774]])"
            ]
          },
          "execution_count": 248,
          "metadata": {},
          "output_type": "execute_result"
        }
      ],
      "source": [
        "random_tensor = torch.rand(3, 4)\n",
        "random_tensor"
      ]
    },
    {
      "cell_type": "code",
      "execution_count": 249,
      "metadata": {
        "colab": {
          "base_uri": "https://localhost:8080/"
        },
        "id": "E00OP2NtNQ2d",
        "outputId": "b43c05cc-8e4a-4b4b-8f62-b50d62a03703"
      },
      "outputs": [
        {
          "data": {
            "text/plain": [
              "2"
            ]
          },
          "execution_count": 249,
          "metadata": {},
          "output_type": "execute_result"
        }
      ],
      "source": [
        "random_tensor.ndim"
      ]
    },
    {
      "cell_type": "code",
      "execution_count": 250,
      "metadata": {
        "colab": {
          "base_uri": "https://localhost:8080/"
        },
        "id": "wXw7fx18NUcJ",
        "outputId": "26b8943b-bf91-4e67-c608-6a4641da69b8"
      },
      "outputs": [
        {
          "data": {
            "text/plain": [
              "tensor([[0., 0., 0., 0., 0.],\n",
              "        [0., 0., 0., 0., 0.],\n",
              "        [0., 0., 0., 0., 0.],\n",
              "        [0., 0., 0., 0., 0.]])"
            ]
          },
          "execution_count": 250,
          "metadata": {},
          "output_type": "execute_result"
        }
      ],
      "source": [
        "random_huge_tensor = torch.zeros(4,5)\n",
        "random_huge_tensor"
      ]
    },
    {
      "cell_type": "code",
      "execution_count": 251,
      "metadata": {
        "colab": {
          "base_uri": "https://localhost:8080/"
        },
        "id": "pDqtZvHUPDCh",
        "outputId": "b55b0460-3031-4ad1-d0d6-aca36a964c2e"
      },
      "outputs": [
        {
          "data": {
            "text/plain": [
              "torch.float32"
            ]
          },
          "execution_count": 251,
          "metadata": {},
          "output_type": "execute_result"
        }
      ],
      "source": [
        "random_huge_tensor.dtype"
      ]
    },
    {
      "cell_type": "code",
      "execution_count": 252,
      "metadata": {
        "colab": {
          "base_uri": "https://localhost:8080/",
          "height": 36
        },
        "id": "oC2LGnG5Phbc",
        "outputId": "a0e1ae95-7191-42ce-db29-feec684d50c9"
      },
      "outputs": [
        {
          "data": {
            "text/plain": [
              "'2.1.0'"
            ]
          },
          "execution_count": 252,
          "metadata": {},
          "output_type": "execute_result"
        }
      ],
      "source": [
        "torch.__version__"
      ]
    },
    {
      "cell_type": "code",
      "execution_count": 253,
      "metadata": {
        "colab": {
          "base_uri": "https://localhost:8080/"
        },
        "id": "ZIitMXi3PpkW",
        "outputId": "e3fb0f07-4c58-4c1c-bb66-6b7171b50766"
      },
      "outputs": [
        {
          "data": {
            "text/plain": [
              "tensor([0, 1, 2, 3, 4, 5, 6, 7, 8, 9])"
            ]
          },
          "execution_count": 253,
          "metadata": {},
          "output_type": "execute_result"
        }
      ],
      "source": [
        "zttendep = torch.arange(0, 10)\n",
        "zttendep"
      ]
    },
    {
      "cell_type": "code",
      "execution_count": 254,
      "metadata": {
        "id": "mAWD4ss1h7p6"
      },
      "outputs": [],
      "source": [
        "ten = torch.tensor([11, 22, 33])"
      ]
    },
    {
      "cell_type": "code",
      "execution_count": 255,
      "metadata": {
        "colab": {
          "base_uri": "https://localhost:8080/"
        },
        "id": "DP-Au6Fth-I-",
        "outputId": "88e8d037-f6e3-434b-f14e-a8bd43e5bd2e"
      },
      "outputs": [
        {
          "data": {
            "text/plain": [
              "tensor([110, 220, 330])"
            ]
          },
          "execution_count": 255,
          "metadata": {},
          "output_type": "execute_result"
        }
      ],
      "source": [
        "ten * 10"
      ]
    },
    {
      "cell_type": "code",
      "execution_count": 256,
      "metadata": {
        "colab": {
          "base_uri": "https://localhost:8080/"
        },
        "id": "TODZPkRTh-0H",
        "outputId": "c8cc5f7a-0153-413b-fa03-530235210c93"
      },
      "outputs": [
        {
          "data": {
            "text/plain": [
              "tensor([121, 242, 363])"
            ]
          },
          "execution_count": 256,
          "metadata": {},
          "output_type": "execute_result"
        }
      ],
      "source": [
        "torch.mul(ten, 11)"
      ]
    },
    {
      "cell_type": "code",
      "execution_count": 257,
      "metadata": {
        "colab": {
          "base_uri": "https://localhost:8080/"
        },
        "id": "s6FapKaCh-3B",
        "outputId": "7c8d28a1-02d2-4470-fb17-633be945a10b"
      },
      "outputs": [
        {
          "data": {
            "text/plain": [
              "tensor([ 121,  484, 1089])"
            ]
          },
          "execution_count": 257,
          "metadata": {},
          "output_type": "execute_result"
        }
      ],
      "source": [
        "ten * ten"
      ]
    },
    {
      "cell_type": "code",
      "execution_count": 258,
      "metadata": {
        "id": "BeiJoQ5Ch-55"
      },
      "outputs": [],
      "source": [
        "twotwo = torch.tensor([[1, 2],\n",
        "                       [3, 4]])"
      ]
    },
    {
      "cell_type": "code",
      "execution_count": 259,
      "metadata": {
        "colab": {
          "base_uri": "https://localhost:8080/"
        },
        "id": "3O_6LYT9h-9C",
        "outputId": "f6369e22-52f6-48d0-8c58-ea25af01f2d2"
      },
      "outputs": [
        {
          "data": {
            "text/plain": [
              "tensor([[ 1,  4],\n",
              "        [ 9, 16]])"
            ]
          },
          "execution_count": 259,
          "metadata": {},
          "output_type": "execute_result"
        }
      ],
      "source": [
        "twotwo * twotwo"
      ]
    },
    {
      "cell_type": "code",
      "execution_count": 260,
      "metadata": {
        "colab": {
          "base_uri": "https://localhost:8080/"
        },
        "id": "QuISKWPOh-_8",
        "outputId": "38d47980-fa13-4a89-9a04-e0a8fc729c13"
      },
      "outputs": [
        {
          "data": {
            "text/plain": [
              "tensor([[ 7, 10],\n",
              "        [15, 22]])"
            ]
          },
          "execution_count": 260,
          "metadata": {},
          "output_type": "execute_result"
        }
      ],
      "source": [
        "torch.matmul(twotwo, twotwo)"
      ]
    },
    {
      "cell_type": "code",
      "execution_count": 261,
      "metadata": {
        "colab": {
          "base_uri": "https://localhost:8080/"
        },
        "id": "K5joMSIxh_Cx",
        "outputId": "288708be-fe7d-4c18-8cd0-e0ce2e357f7f"
      },
      "outputs": [
        {
          "data": {
            "text/plain": [
              "tensor(1694)"
            ]
          },
          "execution_count": 261,
          "metadata": {},
          "output_type": "execute_result"
        }
      ],
      "source": [
        "torch.matmul(ten, ten)"
      ]
    },
    {
      "cell_type": "code",
      "execution_count": 262,
      "metadata": {
        "colab": {
          "base_uri": "https://localhost:8080/"
        },
        "id": "U2tmCxDrh_Fb",
        "outputId": "7bf62038-18af-4d7c-b732-8223b42b0498"
      },
      "outputs": [
        {
          "data": {
            "text/plain": [
              "torch.Size([10, 3])"
            ]
          },
          "execution_count": 262,
          "metadata": {},
          "output_type": "execute_result"
        }
      ],
      "source": [
        "tensor1 = torch.randn(10, 3, 4)\n",
        "tensor2 = torch.randn(4)\n",
        "torch.matmul(tensor1, tensor2).size()"
      ]
    },
    {
      "cell_type": "code",
      "execution_count": 263,
      "metadata": {
        "colab": {
          "base_uri": "https://localhost:8080/"
        },
        "id": "Gv8W6oAw_RQg",
        "outputId": "c9f6e6dc-2995-4e9c-8305-2d31bf9b0f3b"
      },
      "outputs": [
        {
          "data": {
            "text/plain": [
              "torch.Size([10, 3, 4])"
            ]
          },
          "execution_count": 263,
          "metadata": {},
          "output_type": "execute_result"
        }
      ],
      "source": [
        "tensor1.size()"
      ]
    },
    {
      "cell_type": "code",
      "execution_count": 264,
      "metadata": {
        "colab": {
          "base_uri": "https://localhost:8080/"
        },
        "id": "dQ_kFUox_ZL2",
        "outputId": "0f5b235d-504b-4264-c320-072f3e37c697"
      },
      "outputs": [
        {
          "data": {
            "text/plain": [
              "torch.Size([4])"
            ]
          },
          "execution_count": 264,
          "metadata": {},
          "output_type": "execute_result"
        }
      ],
      "source": [
        "tensor2.size()"
      ]
    },
    {
      "cell_type": "code",
      "execution_count": 265,
      "metadata": {
        "colab": {
          "base_uri": "https://localhost:8080/"
        },
        "id": "BH-1s9NoAmU5",
        "outputId": "a27692cd-6f82-482c-f917-54039c15ac70"
      },
      "outputs": [
        {
          "data": {
            "text/plain": [
              "(tensor([[[ 0.8256,  0.8756,  0.2960,  0.6394],\n",
              "          [ 1.2406,  0.7299, -0.8683,  0.6726],\n",
              "          [ 0.2188, -1.2224, -0.9322, -0.3832]],\n",
              " \n",
              "         [[ 1.4027,  1.9010, -1.1275,  0.7207],\n",
              "          [-0.8487,  1.8939, -0.0325,  0.3191],\n",
              "          [-0.5700,  0.9400,  1.5548, -0.3399]],\n",
              " \n",
              "         [[ 1.6272, -0.2411, -2.1021, -0.0179],\n",
              "          [ 0.2241,  1.8586, -1.3166,  1.6165],\n",
              "          [-1.6016,  0.4660, -0.1961,  0.3063]],\n",
              " \n",
              "         [[-1.8420,  0.8163, -0.4833,  0.0640],\n",
              "          [ 1.3794,  1.1527,  0.0762,  0.0557],\n",
              "          [-0.6163, -1.8684, -0.0034, -1.0512]],\n",
              " \n",
              "         [[ 0.0517,  0.7329, -0.7448,  2.2900],\n",
              "          [ 0.1214,  0.4600,  0.1848,  0.4180],\n",
              "          [ 1.5207,  0.5975,  0.5968, -0.5111]],\n",
              " \n",
              "         [[-0.2617, -1.3285,  0.6058,  1.5191],\n",
              "          [-0.2140, -1.0078,  0.8051,  0.7826],\n",
              "          [-0.8145, -1.4938, -0.5081,  0.2437]],\n",
              " \n",
              "         [[-0.3933,  0.2791,  0.8211,  0.6328],\n",
              "          [ 0.8020, -0.4726, -0.1192,  0.4446],\n",
              "          [ 0.9207, -0.2210, -1.2322,  1.3270]],\n",
              " \n",
              "         [[-0.6450, -0.8438, -1.1487, -0.0070],\n",
              "          [ 2.1283,  0.0063,  0.5087, -1.4697],\n",
              "          [ 0.6544, -0.5944,  0.5611, -0.1201]],\n",
              " \n",
              "         [[-0.1020, -1.0190,  1.2218, -0.3401],\n",
              "          [-0.3922, -1.4664, -0.3337,  0.2545],\n",
              "          [-0.3442, -0.9858, -0.3640, -0.4063]],\n",
              " \n",
              "         [[-0.2708,  2.3422,  0.5845,  0.4533],\n",
              "          [ 0.2693,  1.0670,  0.0287, -0.6572],\n",
              "          [ 0.1181,  0.3076, -0.4516,  0.4074]]]),\n",
              " tensor([-0.7894, -1.9208, -0.3189, -1.1454]))"
            ]
          },
          "execution_count": 265,
          "metadata": {},
          "output_type": "execute_result"
        }
      ],
      "source": [
        "tensor1, tensor2"
      ]
    },
    {
      "cell_type": "code",
      "execution_count": 266,
      "metadata": {
        "colab": {
          "base_uri": "https://localhost:8080/"
        },
        "id": "dZ8TMTM6h_Hx",
        "outputId": "7576f2d4-07bd-4eab-a3c7-0432ec32ef4d"
      },
      "outputs": [
        {
          "data": {
            "text/plain": [
              "tensor([[-3.1603, -2.8748,  2.9114],\n",
              "        [-5.2247, -3.3230, -1.4621],\n",
              "        [-0.1308, -5.1787,  0.0810],\n",
              "        [-0.0331, -3.3911,  5.2804],\n",
              "        [-3.8339, -1.5171, -1.9530],\n",
              "        [ 0.8253,  0.9516,  3.3952],\n",
              "        [-1.2122, -0.1965, -1.4294],\n",
              "        [ 2.5041, -0.1711,  0.5837],\n",
              "        [ 2.0377,  2.9412,  2.7466],\n",
              "        [-4.9906, -1.5184, -1.0068]])"
            ]
          },
          "execution_count": 266,
          "metadata": {},
          "output_type": "execute_result"
        }
      ],
      "source": [
        "torch.matmul(tensor1, tensor2)"
      ]
    },
    {
      "cell_type": "code",
      "execution_count": 267,
      "metadata": {
        "colab": {
          "base_uri": "https://localhost:8080/"
        },
        "id": "FJ2RgUkj_TFS",
        "outputId": "2ea71097-54cc-488d-eb72-f62c00cdf961"
      },
      "outputs": [
        {
          "data": {
            "text/plain": [
              "tensor([[0.3304, 0.2364, 0.3512],\n",
              "        [0.1830, 0.1345, 0.1965],\n",
              "        [0.6208, 0.5125, 0.6981]])"
            ]
          },
          "execution_count": 267,
          "metadata": {},
          "output_type": "execute_result"
        }
      ],
      "source": [
        "torch.matmul(torch.rand(3,2),torch.rand(2,3))"
      ]
    },
    {
      "cell_type": "code",
      "execution_count": null,
      "metadata": {
        "id": "hS6YnsZ1_PtU"
      },
      "outputs": [],
      "source": []
    },
    {
      "cell_type": "code",
      "execution_count": 268,
      "metadata": {
        "colab": {
          "base_uri": "https://localhost:8080/"
        },
        "id": "Ie85jLFBPvKS",
        "outputId": "48c13c03-53b3-4d7c-f30a-801a12c0999d"
      },
      "outputs": [
        {
          "data": {
            "text/plain": [
              "tensor([ 0, 10, 20, 30, 40, 50, 60, 70, 80, 90])"
            ]
          },
          "execution_count": 268,
          "metadata": {},
          "output_type": "execute_result"
        }
      ],
      "source": [
        "x = torch.arange(0, 100, 10)\n",
        "x"
      ]
    },
    {
      "cell_type": "code",
      "execution_count": 269,
      "metadata": {
        "colab": {
          "base_uri": "https://localhost:8080/"
        },
        "id": "ClbYlzuXt8WV",
        "outputId": "c11161ed-18ad-4678-98c6-401990f2ee76"
      },
      "outputs": [
        {
          "data": {
            "text/plain": [
              "tensor(9)"
            ]
          },
          "execution_count": 269,
          "metadata": {},
          "output_type": "execute_result"
        }
      ],
      "source": [
        "x.argmax()"
      ]
    },
    {
      "cell_type": "code",
      "execution_count": 270,
      "metadata": {
        "colab": {
          "base_uri": "https://localhost:8080/"
        },
        "id": "dLg4mgJiIyBG",
        "outputId": "b28ebc0a-38d4-4556-d6cf-ec86eaa91218"
      },
      "outputs": [
        {
          "data": {
            "text/plain": [
              "tensor([[ 0, 10],\n",
              "        [20, 30],\n",
              "        [40, 50],\n",
              "        [60, 70],\n",
              "        [80, 90]])"
            ]
          },
          "execution_count": 270,
          "metadata": {},
          "output_type": "execute_result"
        }
      ],
      "source": [
        "x.reshape(5,2)"
      ]
    },
    {
      "cell_type": "code",
      "execution_count": 271,
      "metadata": {
        "colab": {
          "base_uri": "https://localhost:8080/"
        },
        "id": "VFUtKcZnI_8l",
        "outputId": "ee45b297-4de6-4890-c2f8-fe71224ea29a"
      },
      "outputs": [
        {
          "data": {
            "text/plain": [
              "tensor([ 0, 10, 20, 30, 40, 50, 60, 70, 80, 90])"
            ]
          },
          "execution_count": 271,
          "metadata": {},
          "output_type": "execute_result"
        }
      ],
      "source": [
        "x"
      ]
    },
    {
      "cell_type": "code",
      "execution_count": 272,
      "metadata": {
        "colab": {
          "base_uri": "https://localhost:8080/"
        },
        "id": "EIFfNJQiJrV3",
        "outputId": "e4aa5bd6-63a5-484f-c98c-ce384a0f4bca"
      },
      "outputs": [
        {
          "data": {
            "text/plain": [
              "tensor([[ 0, 10],\n",
              "        [20, 30],\n",
              "        [40, 50],\n",
              "        [60, 70],\n",
              "        [80, 90]])"
            ]
          },
          "execution_count": 272,
          "metadata": {},
          "output_type": "execute_result"
        }
      ],
      "source": [
        "torch.reshape(x, (5,2))"
      ]
    },
    {
      "cell_type": "code",
      "execution_count": 273,
      "metadata": {
        "colab": {
          "base_uri": "https://localhost:8080/"
        },
        "id": "m7q3TiHtJzZa",
        "outputId": "f50a216a-12ae-4481-e654-c04329b147f3"
      },
      "outputs": [
        {
          "data": {
            "text/plain": [
              "tensor([ 0, 10, 20, 30, 40, 50, 60, 70, 80, 90])"
            ]
          },
          "execution_count": 273,
          "metadata": {},
          "output_type": "execute_result"
        }
      ],
      "source": [
        "x"
      ]
    },
    {
      "cell_type": "code",
      "execution_count": 274,
      "metadata": {},
      "outputs": [
        {
          "data": {
            "text/plain": [
              "tensor([[ 0, 10, 20, 30, 40, 50, 60, 70, 80, 90],\n",
              "        [ 0, 10, 20, 30, 40, 50, 60, 70, 80, 90],\n",
              "        [ 0, 10, 20, 30, 40, 50, 60, 70, 80, 90]])"
            ]
          },
          "execution_count": 274,
          "metadata": {},
          "output_type": "execute_result"
        }
      ],
      "source": [
        "torch.stack([x,x,x], dim= 0)"
      ]
    },
    {
      "cell_type": "code",
      "execution_count": 275,
      "metadata": {
        "colab": {
          "base_uri": "https://localhost:8080/"
        },
        "id": "g0_EJjadMv5R",
        "outputId": "f287fa6b-2ce3-482d-d367-89de755fc164"
      },
      "outputs": [
        {
          "data": {
            "text/plain": [
              "tensor([[ 0,  0,  0],\n",
              "        [10, 10, 10],\n",
              "        [20, 20, 20],\n",
              "        [30, 30, 30],\n",
              "        [40, 40, 40],\n",
              "        [50, 50, 50],\n",
              "        [60, 60, 60],\n",
              "        [70, 70, 70],\n",
              "        [80, 80, 80],\n",
              "        [90, 90, 90]])"
            ]
          },
          "execution_count": 275,
          "metadata": {},
          "output_type": "execute_result"
        }
      ],
      "source": [
        "torch.stack([x,x,x], dim= 1)"
      ]
    },
    {
      "cell_type": "code",
      "execution_count": 276,
      "metadata": {
        "colab": {
          "base_uri": "https://localhost:8080/"
        },
        "id": "duX576JCOB5C",
        "outputId": "16152574-3dce-4e2f-ae35-f1ed91c721c6"
      },
      "outputs": [
        {
          "data": {
            "text/plain": [
              "tensor([[[[[0., 0.]],\n",
              "\n",
              "          [[0., 0.]]]],\n",
              "\n",
              "\n",
              "\n",
              "        [[[[0., 0.]],\n",
              "\n",
              "          [[0., 0.]]]]])"
            ]
          },
          "execution_count": 276,
          "metadata": {},
          "output_type": "execute_result"
        }
      ],
      "source": [
        "x = torch.zeros(2, 1, 2, 1, 2)\n",
        "x"
      ]
    },
    {
      "cell_type": "code",
      "execution_count": 277,
      "metadata": {
        "colab": {
          "base_uri": "https://localhost:8080/"
        },
        "id": "WLw_5MKkOExm",
        "outputId": "2e8c72f1-b338-4542-a981-b5140ff3cd65"
      },
      "outputs": [
        {
          "data": {
            "text/plain": [
              "tensor([[[0., 0.],\n",
              "         [0., 0.]],\n",
              "\n",
              "        [[0., 0.],\n",
              "         [0., 0.]]])"
            ]
          },
          "execution_count": 277,
          "metadata": {},
          "output_type": "execute_result"
        }
      ],
      "source": [
        "y = torch.squeeze(x)\n",
        "y"
      ]
    },
    {
      "cell_type": "code",
      "execution_count": 278,
      "metadata": {
        "colab": {
          "base_uri": "https://localhost:8080/"
        },
        "id": "POYXoVIySURb",
        "outputId": "d55dedb0-b9c0-41cd-943e-2dbebf76663d"
      },
      "outputs": [
        {
          "data": {
            "text/plain": [
              "(tensor([[[[[1., 1.]],\n",
              " \n",
              "           [[1., 1.]]]],\n",
              " \n",
              " \n",
              " \n",
              "         [[[[1., 1.]],\n",
              " \n",
              "           [[1., 1.]]]]]),\n",
              " tensor([[[1., 1.],\n",
              "          [1., 1.]],\n",
              " \n",
              "         [[1., 1.],\n",
              "          [1., 1.]]]))"
            ]
          },
          "execution_count": 278,
          "metadata": {},
          "output_type": "execute_result"
        }
      ],
      "source": [
        "x[:, 0] = 1\n",
        "x , y"
      ]
    },
    {
      "cell_type": "code",
      "execution_count": 279,
      "metadata": {
        "colab": {
          "base_uri": "https://localhost:8080/"
        },
        "id": "rt96UWYtRUId",
        "outputId": "7a036b78-173a-4c5e-a404-cb75ffa9b855"
      },
      "outputs": [
        {
          "data": {
            "text/plain": [
              "tensor([[[[1., 1.],\n",
              "          [1., 1.]]],\n",
              "\n",
              "\n",
              "        [[[1., 1.],\n",
              "          [1., 1.]]]])"
            ]
          },
          "execution_count": 279,
          "metadata": {},
          "output_type": "execute_result"
        }
      ],
      "source": [
        "z = torch.unsqueeze(y, dim=1)\n",
        "z"
      ]
    },
    {
      "cell_type": "code",
      "execution_count": 280,
      "metadata": {
        "colab": {
          "base_uri": "https://localhost:8080/"
        },
        "id": "i-ZkBOZdRjHc",
        "outputId": "4073b845-424d-4468-e831-06d24ff408cc"
      },
      "outputs": [
        {
          "data": {
            "text/plain": [
              "tensor([[[[1., 1.],\n",
              "          [1., 1.]],\n",
              "\n",
              "         [[1., 1.],\n",
              "          [1., 1.]]]])"
            ]
          },
          "execution_count": 280,
          "metadata": {},
          "output_type": "execute_result"
        }
      ],
      "source": [
        "torch.unsqueeze(y, dim=0)"
      ]
    },
    {
      "cell_type": "code",
      "execution_count": 281,
      "metadata": {
        "colab": {
          "base_uri": "https://localhost:8080/"
        },
        "id": "juye9XG8RmPK",
        "outputId": "139e4d5f-0d7a-4596-9ca6-5ac7fa72748d"
      },
      "outputs": [
        {
          "data": {
            "text/plain": [
              "tensor([[[[1., 1.],\n",
              "          [1., 1.]]],\n",
              "\n",
              "\n",
              "        [[[1., 1.],\n",
              "          [1., 1.]]]])"
            ]
          },
          "execution_count": 281,
          "metadata": {},
          "output_type": "execute_result"
        }
      ],
      "source": [
        "torch.unsqueeze(y, dim=1)"
      ]
    },
    {
      "cell_type": "code",
      "execution_count": 282,
      "metadata": {
        "colab": {
          "base_uri": "https://localhost:8080/"
        },
        "id": "Jr4MluOzRnP6",
        "outputId": "54e928aa-e856-4a18-d335-68be5d17d4fb"
      },
      "outputs": [
        {
          "data": {
            "text/plain": [
              "tensor([[[[1.],\n",
              "          [1.]],\n",
              "\n",
              "         [[1.],\n",
              "          [1.]]],\n",
              "\n",
              "\n",
              "        [[[1.],\n",
              "          [1.]],\n",
              "\n",
              "         [[1.],\n",
              "          [1.]]]])"
            ]
          },
          "execution_count": 282,
          "metadata": {},
          "output_type": "execute_result"
        }
      ],
      "source": [
        "torch.unsqueeze(y, dim=3)"
      ]
    },
    {
      "cell_type": "markdown",
      "metadata": {
        "id": "XvrZAcogS99y"
      },
      "source": [
        "#### to check if squeeze shares memory"
      ]
    },
    {
      "cell_type": "code",
      "execution_count": 283,
      "metadata": {
        "colab": {
          "base_uri": "https://localhost:8080/"
        },
        "id": "BU3qIIg4S9fZ",
        "outputId": "306e3e16-b008-4b3c-cd1b-48401384cfe9"
      },
      "outputs": [
        {
          "data": {
            "text/plain": [
              "tensor([ 0,  2,  4,  6,  8, 10])"
            ]
          },
          "execution_count": 283,
          "metadata": {},
          "output_type": "execute_result"
        }
      ],
      "source": [
        "sqz = torch.arange(0,12, 2)\n",
        "sqz"
      ]
    },
    {
      "cell_type": "code",
      "execution_count": 284,
      "metadata": {
        "id": "4uRVvsPhTred"
      },
      "outputs": [],
      "source": [
        "sqz = sqz.unsqueeze(dim=0)"
      ]
    },
    {
      "cell_type": "code",
      "execution_count": 285,
      "metadata": {
        "colab": {
          "base_uri": "https://localhost:8080/"
        },
        "id": "D3keTncgYjjH",
        "outputId": "65e22ea6-ae74-4609-90ef-c90dea667249"
      },
      "outputs": [
        {
          "data": {
            "text/plain": [
              "tensor([[ 0,  2,  4,  6,  8, 10]])"
            ]
          },
          "execution_count": 285,
          "metadata": {},
          "output_type": "execute_result"
        }
      ],
      "source": [
        "sqz"
      ]
    },
    {
      "cell_type": "code",
      "execution_count": 286,
      "metadata": {
        "colab": {
          "base_uri": "https://localhost:8080/"
        },
        "id": "8mnih3ChUDz6",
        "outputId": "442d4156-64b1-43ad-ffa9-01a459ed2be9"
      },
      "outputs": [
        {
          "data": {
            "text/plain": [
              "tensor([ 0,  2,  4,  6,  8, 10])"
            ]
          },
          "execution_count": 286,
          "metadata": {},
          "output_type": "execute_result"
        }
      ],
      "source": [
        "sqz2 = sqz.squeeze( dim = 0)\n",
        "sqz2"
      ]
    },
    {
      "cell_type": "code",
      "execution_count": 287,
      "metadata": {
        "colab": {
          "base_uri": "https://localhost:8080/"
        },
        "id": "NPUCSOi1ULBS",
        "outputId": "ae0822db-7616-48d9-ca32-1a71115befee"
      },
      "outputs": [
        {
          "data": {
            "text/plain": [
              "tensor([ 0, 69,  4,  6,  8, 10])"
            ]
          },
          "execution_count": 287,
          "metadata": {},
          "output_type": "execute_result"
        }
      ],
      "source": [
        "sqz2[1] = 69\n",
        "sqz2"
      ]
    },
    {
      "cell_type": "code",
      "execution_count": 288,
      "metadata": {
        "colab": {
          "base_uri": "https://localhost:8080/"
        },
        "id": "TZk5Uw9DVJYf",
        "outputId": "cce0351a-b05f-4b7a-a983-5e7bc9080878"
      },
      "outputs": [
        {
          "data": {
            "text/plain": [
              "tensor([[ 0, 69,  4,  6,  8, 10]])"
            ]
          },
          "execution_count": 288,
          "metadata": {},
          "output_type": "execute_result"
        }
      ],
      "source": [
        "sqz"
      ]
    },
    {
      "cell_type": "markdown",
      "metadata": {
        "id": "yyGUo-izq01k"
      },
      "source": [
        "Reproducablity. random seed"
      ]
    },
    {
      "cell_type": "code",
      "execution_count": 289,
      "metadata": {
        "colab": {
          "base_uri": "https://localhost:8080/"
        },
        "id": "0UB_RKc5q0W4",
        "outputId": "976c20eb-17e5-4ed8-bbd8-eefb9d16f7eb"
      },
      "outputs": [
        {
          "data": {
            "text/plain": [
              "tensor([[0.8823, 0.9150],\n",
              "        [0.3829, 0.9593],\n",
              "        [0.3904, 0.6009]])"
            ]
          },
          "execution_count": 289,
          "metadata": {},
          "output_type": "execute_result"
        }
      ],
      "source": [
        "r_seed = 42\n",
        "torch.manual_seed(r_seed)\n",
        "rand_a = torch.rand(3,2)\n",
        "rand_a"
      ]
    },
    {
      "cell_type": "code",
      "execution_count": 290,
      "metadata": {
        "colab": {
          "base_uri": "https://localhost:8080/"
        },
        "id": "s4-X-t8Sz06D",
        "outputId": "31bdeaf9-112e-41e3-d8ef-2f9cc1f46b66"
      },
      "outputs": [
        {
          "data": {
            "text/plain": [
              "tensor([[0.2566, 0.7936],\n",
              "        [0.9408, 0.1332],\n",
              "        [0.9346, 0.5936]])"
            ]
          },
          "execution_count": 290,
          "metadata": {},
          "output_type": "execute_result"
        }
      ],
      "source": [
        "torch.rand(3,2)"
      ]
    },
    {
      "cell_type": "code",
      "execution_count": 291,
      "metadata": {
        "colab": {
          "base_uri": "https://localhost:8080/"
        },
        "id": "VoVaN5SHz5fO",
        "outputId": "d9ebb752-3d5e-497c-a60f-4be4fce2bf50"
      },
      "outputs": [
        {
          "data": {
            "text/plain": [
              "tensor([[0.8823, 0.9150],\n",
              "        [0.3829, 0.9593],\n",
              "        [0.3904, 0.6009]])"
            ]
          },
          "execution_count": 291,
          "metadata": {},
          "output_type": "execute_result"
        }
      ],
      "source": [
        "torch.manual_seed(42)\n",
        "torch.rand(3,2)"
      ]
    },
    {
      "cell_type": "code",
      "execution_count": 292,
      "metadata": {
        "colab": {
          "base_uri": "https://localhost:8080/"
        },
        "id": "JufPTb3d0ADE",
        "outputId": "3c18cb8d-c380-4877-9685-63ede36eca1d"
      },
      "outputs": [
        {
          "data": {
            "text/plain": [
              "tensor([[True, True],\n",
              "        [True, True],\n",
              "        [True, True]])"
            ]
          },
          "execution_count": 292,
          "metadata": {},
          "output_type": "execute_result"
        }
      ],
      "source": [
        "torch.manual_seed(42)\n",
        "rand_a == torch.rand(3,2)"
      ]
    },
    {
      "cell_type": "code",
      "execution_count": 293,
      "metadata": {
        "colab": {
          "base_uri": "https://localhost:8080/"
        },
        "id": "gf601w6TAe4n",
        "outputId": "4c6769d2-18f8-4407-9812-35cd569d551f"
      },
      "outputs": [
        {
          "data": {
            "text/plain": [
              "device(type='cpu')"
            ]
          },
          "execution_count": 293,
          "metadata": {},
          "output_type": "execute_result"
        }
      ],
      "source": [
        "rand_a.device"
      ]
    },
    {
      "cell_type": "code",
      "execution_count": 294,
      "metadata": {
        "id": "hYEf8LItAe4n"
      },
      "outputs": [],
      "source": [
        "# mps_rans = rand_a.to(mps_device)"
      ]
    },
    {
      "cell_type": "markdown",
      "metadata": {
        "id": "UqtLD8Y0Ae4n"
      },
      "source": [
        "rand_a still stays on CPU. have to assign it to a variable to hold the migrated tensor on `mps` like above"
      ]
    },
    {
      "cell_type": "code",
      "execution_count": 295,
      "metadata": {
        "id": "vyhgMoXDAe4o"
      },
      "outputs": [],
      "source": [
        "# mps_rans.device"
      ]
    },
    {
      "cell_type": "code",
      "execution_count": 296,
      "metadata": {
        "colab": {
          "base_uri": "https://localhost:8080/"
        },
        "id": "4HzNF4CGA37y",
        "outputId": "edb9e1e9-d9da-4913-dcf4-a961c8459184"
      },
      "outputs": [
        {
          "name": "stdout",
          "output_type": "stream",
          "text": [
            "zsh:1: command not found: nvidia-smi\n"
          ]
        }
      ],
      "source": [
        "!nvidia-smi"
      ]
    },
    {
      "cell_type": "markdown",
      "metadata": {
        "id": "HoiMJJ0YF6WA"
      },
      "source": [
        "# Practice"
      ]
    },
    {
      "cell_type": "markdown",
      "metadata": {
        "id": "z0ETrauOF74g"
      },
      "source": [
        "using template given in course for ease"
      ]
    },
    {
      "cell_type": "code",
      "execution_count": 297,
      "metadata": {
        "id": "K9MDbENRF4Ua"
      },
      "outputs": [],
      "source": [
        "import torch\n",
        "seed = 42"
      ]
    },
    {
      "cell_type": "code",
      "execution_count": 298,
      "metadata": {
        "colab": {
          "base_uri": "https://localhost:8080/"
        },
        "id": "R_ZR1Q_4F4Ua",
        "outputId": "061b6b7d-8dd5-4cb8-b16c-e4fee30636fd"
      },
      "outputs": [
        {
          "name": "stdout",
          "output_type": "stream",
          "text": [
            "without setting any prior manual seed \n",
            "tensor([[0.2566, 0.7936, 0.9408],\n",
            "        [0.1332, 0.9346, 0.5936],\n",
            "        [0.8694, 0.5677, 0.7411]])\n"
          ]
        }
      ],
      "source": [
        "print(f'without setting any prior manual seed \\n{torch.rand(3,3)}') #RANDOM"
      ]
    },
    {
      "cell_type": "markdown",
      "metadata": {
        "id": "JoyCoGx8F4Ua"
      },
      "source": [
        "### torch.`random`.manual_seed()"
      ]
    },
    {
      "cell_type": "code",
      "execution_count": 299,
      "metadata": {
        "colab": {
          "base_uri": "https://localhost:8080/"
        },
        "id": "0rnaSWDaF4Ua",
        "outputId": "40d04074-b41b-496b-c8da-097f36ab11a6"
      },
      "outputs": [
        {
          "name": "stdout",
          "output_type": "stream",
          "text": [
            "with random manual seed \n",
            "tensor([[0.8823, 0.9150, 0.3829],\n",
            "        [0.9593, 0.3904, 0.6009],\n",
            "        [0.2566, 0.7936, 0.9408]])\n",
            "\n",
            "call 1 \n",
            "tensor([[0.1332, 0.9346, 0.5936],\n",
            "        [0.8694, 0.5677, 0.7411],\n",
            "        [0.4294, 0.8854, 0.5739]])\n",
            "call 2 \n",
            "tensor([[0.2666, 0.6274, 0.2696],\n",
            "        [0.4414, 0.2969, 0.8317],\n",
            "        [0.1053, 0.2695, 0.3588]])\n"
          ]
        }
      ],
      "source": [
        "torch.random.manual_seed(seed)\n",
        "print(f'with random manual seed \\n{torch.rand(3,3)}\\n') #\n",
        "print(f'call 1 \\n{torch.rand(3,3)}')\n",
        "print(f'call 2 \\n{torch.rand(3,3)}')"
      ]
    },
    {
      "cell_type": "markdown",
      "metadata": {
        "id": "u3P5h8jbF4Ua"
      },
      "source": [
        "### torch.manual_seed()"
      ]
    },
    {
      "cell_type": "code",
      "execution_count": 300,
      "metadata": {
        "colab": {
          "base_uri": "https://localhost:8080/"
        },
        "id": "1W3DhwsJF4Ua",
        "outputId": "bec850e1-8fe6-4042-b6ba-6a7149008292"
      },
      "outputs": [
        {
          "name": "stdout",
          "output_type": "stream",
          "text": [
            "call 3 without setting seed above, call 1 if set \n",
            "tensor([[0.1994, 0.5472, 0.0062],\n",
            "        [0.9516, 0.0753, 0.8860],\n",
            "        [0.5832, 0.3376, 0.8090]]) \n",
            "\n",
            "call 4 without setting seed above, call 2 if set \n",
            "tensor([[0.5779, 0.9040, 0.5547],\n",
            "        [0.3423, 0.6343, 0.3644],\n",
            "        [0.7104, 0.9464, 0.7890]])\n",
            "call 4 without setting seed above, call 3 if set \n",
            "tensor([[0.2814, 0.7886, 0.5895],\n",
            "        [0.7539, 0.1952, 0.0050],\n",
            "        [0.3068, 0.1165, 0.9103]])\n"
          ]
        }
      ],
      "source": [
        "# torch.manual_seed(seed)\n",
        "print(f'call 3 without setting seed above, call 1 if set \\n{torch.rand(3,3)} \\n') #\n",
        "print(f'call 4 without setting seed above, call 2 if set \\n{torch.rand(3,3)}') #\n",
        "print(f'call 4 without setting seed above, call 3 if set \\n{torch.rand(3,3)}')"
      ]
    },
    {
      "cell_type": "code",
      "execution_count": 301,
      "metadata": {
        "colab": {
          "base_uri": "https://localhost:8080/"
        },
        "id": "CxaKUFAIF4Ua",
        "outputId": "04ca36fa-9f60-4858-83c7-2a006d47fe71"
      },
      "outputs": [
        {
          "name": "stdout",
          "output_type": "stream",
          "text": [
            "call n \n",
            "tensor([[0.6440, 0.7071, 0.6581],\n",
            "        [0.4913, 0.8913, 0.1447],\n",
            "        [0.5315, 0.1587, 0.6542]])\n"
          ]
        }
      ],
      "source": [
        "print(f'call n \\n{torch.rand(3,3)}') #totally random because it changes every time its called"
      ]
    },
    {
      "cell_type": "code",
      "execution_count": 302,
      "metadata": {
        "colab": {
          "base_uri": "https://localhost:8080/"
        },
        "id": "F3aX56baGd30",
        "outputId": "61f08f06-e4a1-45ad-f918-95069ca2731a"
      },
      "outputs": [
        {
          "data": {
            "text/plain": [
              "tensor([[0.8398, 0.8042, 0.1213],\n",
              "        [0.5309, 0.6646, 0.4077],\n",
              "        [0.0888, 0.2429, 0.7053]])"
            ]
          },
          "execution_count": 302,
          "metadata": {},
          "output_type": "execute_result"
        }
      ],
      "source": [
        "torch.manual_seed(69)\n",
        "torch.rand(3,3)"
      ]
    },
    {
      "cell_type": "code",
      "execution_count": 303,
      "metadata": {
        "colab": {
          "base_uri": "https://localhost:8080/"
        },
        "id": "cD6A9MtwGqFc",
        "outputId": "a9d62d0f-51af-4c94-978b-aae9025c9d22"
      },
      "outputs": [
        {
          "data": {
            "text/plain": [
              "tensor([[0.6216, 0.9188, 0.0185],\n",
              "        [0.8741, 0.0560, 0.9659],\n",
              "        [0.0073, 0.3628, 0.4197]])"
            ]
          },
          "execution_count": 303,
          "metadata": {},
          "output_type": "execute_result"
        }
      ],
      "source": [
        "torch.rand(3,3)"
      ]
    },
    {
      "cell_type": "code",
      "execution_count": 304,
      "metadata": {
        "colab": {
          "base_uri": "https://localhost:8080/"
        },
        "id": "olqEeoHpH3Nu",
        "outputId": "7d530546-59f4-47fd-f36d-924a0e2ee993"
      },
      "outputs": [
        {
          "data": {
            "text/plain": [
              "tensor([[0.8398, 0.8042, 0.1213],\n",
              "        [0.5309, 0.6646, 0.4077],\n",
              "        [0.0888, 0.2429, 0.7053]])"
            ]
          },
          "execution_count": 304,
          "metadata": {},
          "output_type": "execute_result"
        }
      ],
      "source": [
        "torch.manual_seed(69)\n",
        "torch.rand(3,3)"
      ]
    },
    {
      "cell_type": "code",
      "execution_count": 305,
      "metadata": {
        "colab": {
          "base_uri": "https://localhost:8080/"
        },
        "id": "me1-BhAxH5wb",
        "outputId": "591c591b-3f1e-4843-dcf6-06d1046318f4"
      },
      "outputs": [
        {
          "data": {
            "text/plain": [
              "tensor([[0.6216, 0.9188, 0.0185],\n",
              "        [0.8741, 0.0560, 0.9659],\n",
              "        [0.0073, 0.3628, 0.4197]])"
            ]
          },
          "execution_count": 305,
          "metadata": {},
          "output_type": "execute_result"
        }
      ],
      "source": [
        "torch.rand(3,3)"
      ]
    },
    {
      "cell_type": "code",
      "execution_count": null,
      "metadata": {
        "id": "d-sfCRc8V72c"
      },
      "outputs": [],
      "source": []
    },
    {
      "cell_type": "code",
      "execution_count": 306,
      "metadata": {
        "colab": {
          "base_uri": "https://localhost:8080/"
        },
        "id": "LfcpQqgNIP1u",
        "outputId": "aa900bb3-8cd5-4249-c350-46eb343f9236"
      },
      "outputs": [
        {
          "data": {
            "text/plain": [
              "tensor([[0.6444, 0.0099, 0.5925],\n",
              "        [0.9631, 0.6958, 0.9157],\n",
              "        [0.5523, 0.2344, 0.3262]])"
            ]
          },
          "execution_count": 306,
          "metadata": {},
          "output_type": "execute_result"
        }
      ],
      "source": [
        "torch.manual_seed(69)\n",
        "torch.rand(3,3)\n",
        "torch.rand(3,3)\n",
        "torch.rand(3,3)\n",
        "\n"
      ]
    },
    {
      "cell_type": "markdown",
      "metadata": {
        "id": "pLbe28vqWDL6"
      },
      "source": [
        "##### to reset the manual seed test"
      ]
    },
    {
      "cell_type": "code",
      "execution_count": 307,
      "metadata": {
        "id": "QqgFVexaWGif"
      },
      "outputs": [],
      "source": [
        "initialseed = torch.random.get_rng_state()"
      ]
    },
    {
      "cell_type": "code",
      "execution_count": 308,
      "metadata": {
        "colab": {
          "base_uri": "https://localhost:8080/"
        },
        "id": "QwTijUUaWY64",
        "outputId": "1152df60-a0ff-4a63-b3c8-9e10c7b12502"
      },
      "outputs": [
        {
          "name": "stdout",
          "output_type": "stream",
          "text": [
            "tensor([[0.8398, 0.8042, 0.1213],\n",
            "        [0.5309, 0.6646, 0.4077],\n",
            "        [0.0888, 0.2429, 0.7053]])\n"
          ]
        }
      ],
      "source": [
        "torch.manual_seed(69)\n",
        "print(torch.rand(3,3))\n",
        "\n"
      ]
    },
    {
      "cell_type": "code",
      "execution_count": 309,
      "metadata": {
        "colab": {
          "base_uri": "https://localhost:8080/"
        },
        "id": "642CeoRrWkY-",
        "outputId": "fe0a54ce-0eae-43c2-e882-91f58b608540"
      },
      "outputs": [
        {
          "name": "stdout",
          "output_type": "stream",
          "text": [
            "tensor([[0.6216, 0.9188, 0.0185],\n",
            "        [0.8741, 0.0560, 0.9659],\n",
            "        [0.0073, 0.3628, 0.4197]])\n"
          ]
        }
      ],
      "source": [
        "print(torch.rand(3,3))"
      ]
    },
    {
      "cell_type": "code",
      "execution_count": 310,
      "metadata": {
        "id": "DXNvVCpEXFmu"
      },
      "outputs": [],
      "source": [
        "# print(torch.rand(3,3))"
      ]
    },
    {
      "cell_type": "markdown",
      "metadata": {
        "id": "r0Hx2qDGWo4u"
      },
      "source": [
        "torch.random.set"
      ]
    },
    {
      "cell_type": "code",
      "execution_count": 311,
      "metadata": {
        "id": "T3_IOB6xW2cq"
      },
      "outputs": [],
      "source": [
        "torch.random.set_rng_state(initialseed)"
      ]
    },
    {
      "cell_type": "code",
      "execution_count": 312,
      "metadata": {
        "colab": {
          "base_uri": "https://localhost:8080/"
        },
        "id": "nAHWkNNJW-Pq",
        "outputId": "162d831d-1399-4c5e-be8a-2d2c1dd0e0bd"
      },
      "outputs": [
        {
          "name": "stdout",
          "output_type": "stream",
          "text": [
            "tensor([[0.4521, 0.7020, 0.6274],\n",
            "        [0.0945, 0.8525, 0.3572],\n",
            "        [0.7492, 0.3579, 0.5453]])\n"
          ]
        }
      ],
      "source": [
        "print(torch.rand(3,3))"
      ]
    },
    {
      "cell_type": "markdown",
      "metadata": {
        "id": "NvrdB2uSW2P5"
      },
      "source": [
        "\n",
        "# print(torch.rand(3,3)) 3rd call should be\n",
        "account_circle\n",
        "tensor([[0.6444, 0.0099, 0.5925],\n",
        "        [0.9631, 0.6958, 0.9157],\n",
        "        [0.5523, 0.2344, 0.3262]])"
      ]
    },
    {
      "cell_type": "markdown",
      "metadata": {
        "id": "_ecdvGXxYQmJ"
      },
      "source": [
        "# To reset manual seed\n",
        "\n",
        "has to get state of the seed and save it to variable and set back."
      ]
    },
    {
      "cell_type": "code",
      "execution_count": 313,
      "metadata": {
        "id": "IFkKSPe0YYBC"
      },
      "outputs": [],
      "source": [
        "initialseed = torch.random.get_rng_state()"
      ]
    },
    {
      "cell_type": "markdown",
      "metadata": {
        "id": "PtQH20jAYe8B"
      },
      "source": [
        "saving initial state"
      ]
    },
    {
      "cell_type": "code",
      "execution_count": 314,
      "metadata": {
        "colab": {
          "base_uri": "https://localhost:8080/"
        },
        "id": "8__hraNLYiBm",
        "outputId": "245ae6bf-6e6c-42f5-9f59-d38bf99a75b0"
      },
      "outputs": [
        {
          "name": "stdout",
          "output_type": "stream",
          "text": [
            "call 1 \n",
            "tensor([[0.8398, 0.8042, 0.1213]])\n",
            "call 2 \n",
            "tensor([[0.5309, 0.6646, 0.4077]])\n",
            "call 3 \n",
            "tensor([[0.0888, 0.2429, 0.7053]])\n"
          ]
        }
      ],
      "source": [
        "torch.manual_seed(69)\n",
        "print(f'call 1 \\n{torch.rand(1,3)}')\n",
        "print(f'call 2 \\n{torch.rand(1,3)}')\n",
        "print(f'call 3 \\n{torch.rand(1,3)}')"
      ]
    },
    {
      "cell_type": "code",
      "execution_count": 315,
      "metadata": {
        "colab": {
          "base_uri": "https://localhost:8080/"
        },
        "id": "C367SZlhY2pT",
        "outputId": "8b735ac5-6807-4915-8c0d-4cc1e629c74d"
      },
      "outputs": [
        {
          "name": "stdout",
          "output_type": "stream",
          "text": [
            "call 1 \n",
            "tensor([[0.8398, 0.8042, 0.1213]])\n",
            "call 2 \n",
            "tensor([[0.5309, 0.6646, 0.4077]])\n"
          ]
        }
      ],
      "source": [
        "torch.manual_seed(69)\n",
        "print(f'call 1 \\n{torch.rand(1,3)}')\n",
        "print(f'call 2 \\n{torch.rand(1,3)}')"
      ]
    },
    {
      "cell_type": "code",
      "execution_count": 316,
      "metadata": {
        "id": "EPJfQ-lAY3EQ"
      },
      "outputs": [],
      "source": [
        "torch.random.set_rng_state(initialseed)"
      ]
    },
    {
      "cell_type": "markdown",
      "metadata": {
        "id": "v-6TUI9RZJiF"
      },
      "source": [
        "reset seed state"
      ]
    },
    {
      "cell_type": "code",
      "execution_count": 317,
      "metadata": {
        "colab": {
          "base_uri": "https://localhost:8080/"
        },
        "id": "Fbg6pBo6Y5r5",
        "outputId": "f444f3d9-8898-4172-9d2a-3b577e5c9086"
      },
      "outputs": [
        {
          "name": "stdout",
          "output_type": "stream",
          "text": [
            "call 3 \n",
            "tensor([[0.8171, 0.0570, 0.4560]])\n"
          ]
        }
      ],
      "source": [
        "print(f'call 3 \\n{torch.rand(1,3)}')"
      ]
    }
  ],
  "metadata": {
    "colab": {
      "include_colab_link": true,
      "provenance": []
    },
    "kernelspec": {
      "display_name": "Python 3",
      "name": "python3"
    },
    "language_info": {
      "codemirror_mode": {
        "name": "ipython",
        "version": 3
      },
      "file_extension": ".py",
      "mimetype": "text/x-python",
      "name": "python",
      "nbconvert_exporter": "python",
      "pygments_lexer": "ipython3",
      "version": "3.11.5"
    }
  },
  "nbformat": 4,
  "nbformat_minor": 0
}
