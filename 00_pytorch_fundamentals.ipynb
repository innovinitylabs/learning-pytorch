{
  "cells": [
    {
      "cell_type": "markdown",
      "metadata": {
        "colab_type": "text",
        "id": "view-in-github"
      },
      "source": [
        "<a href=\"https://colab.research.google.com/github/innovinitylabs/learning-pytorch/blob/main/00_pytorch_fundamentals.ipynb\" target=\"_parent\"><img src=\"https://colab.research.google.com/assets/colab-badge.svg\" alt=\"Open In Colab\"/></a>"
      ]
    },
    {
      "cell_type": "code",
      "execution_count": 388,
      "metadata": {
        "id": "bL3q2I2G-CTz"
      },
      "outputs": [],
      "source": [
        "import torch"
      ]
    },
    {
      "cell_type": "code",
      "execution_count": 389,
      "metadata": {
        "id": "aeX3jaOcAe4c"
      },
      "outputs": [],
      "source": [
        "# mps_device = torch.device('mps')"
      ]
    },
    {
      "cell_type": "code",
      "execution_count": 390,
      "metadata": {
        "id": "TJkPnd0dAe4c"
      },
      "outputs": [],
      "source": [
        "# class Conf: dev = torch.device(\"mps\")"
      ]
    },
    {
      "cell_type": "markdown",
      "metadata": {
        "id": "53BSJktv-nkG"
      },
      "source": [
        "# introduction to tensors\n",
        "\n",
        "## creating tensors\n",
        "\n",
        "pytorch tensors are created using `torch.tensors`"
      ]
    },
    {
      "cell_type": "markdown",
      "metadata": {
        "id": "haIIhNt_-9gd"
      },
      "source": [
        "### Scalar"
      ]
    },
    {
      "cell_type": "code",
      "execution_count": 391,
      "metadata": {
        "colab": {
          "base_uri": "https://localhost:8080/"
        },
        "id": "mEveGowX_L4g",
        "outputId": "f28036a8-73e8-41e4-ec57-b4e2aec83e93"
      },
      "outputs": [
        {
          "data": {
            "text/plain": [
              "tensor(7)"
            ]
          },
          "execution_count": 391,
          "metadata": {},
          "output_type": "execute_result"
        }
      ],
      "source": [
        "scalar = torch.tensor(7)\n",
        "scalar"
      ]
    },
    {
      "cell_type": "markdown",
      "metadata": {
        "id": "Xpr7qHOV_meT"
      },
      "source": [
        "to get dimensions"
      ]
    },
    {
      "cell_type": "code",
      "execution_count": 392,
      "metadata": {
        "colab": {
          "base_uri": "https://localhost:8080/"
        },
        "id": "MBjcvHUe_l8P",
        "outputId": "16a16f48-0ce8-46e5-9356-da7814703c92"
      },
      "outputs": [
        {
          "data": {
            "text/plain": [
              "0"
            ]
          },
          "execution_count": 392,
          "metadata": {},
          "output_type": "execute_result"
        }
      ],
      "source": [
        "scalar.ndim"
      ]
    },
    {
      "cell_type": "markdown",
      "metadata": {
        "id": "1XaNRdxp_9aj"
      },
      "source": [
        "to get the number without type"
      ]
    },
    {
      "cell_type": "code",
      "execution_count": 393,
      "metadata": {
        "colab": {
          "base_uri": "https://localhost:8080/"
        },
        "id": "5Ndr2b5N__iG",
        "outputId": "142ab1f2-a83c-4629-b0e6-73ecc7c318c2"
      },
      "outputs": [
        {
          "data": {
            "text/plain": [
              "7"
            ]
          },
          "execution_count": 393,
          "metadata": {},
          "output_type": "execute_result"
        }
      ],
      "source": [
        "scalar.item()"
      ]
    },
    {
      "cell_type": "markdown",
      "metadata": {
        "id": "vvRkPB46ADDv"
      },
      "source": [
        "### Vector"
      ]
    },
    {
      "cell_type": "code",
      "execution_count": 394,
      "metadata": {
        "colab": {
          "base_uri": "https://localhost:8080/"
        },
        "id": "icjipOj4AQvy",
        "outputId": "c4887a6a-bf08-44e4-d16f-f4c4fb153574"
      },
      "outputs": [
        {
          "data": {
            "text/plain": [
              "tensor([7, 7])"
            ]
          },
          "execution_count": 394,
          "metadata": {},
          "output_type": "execute_result"
        }
      ],
      "source": [
        "vector = torch.tensor([7, 7])\n",
        "vector"
      ]
    },
    {
      "cell_type": "code",
      "execution_count": 395,
      "metadata": {
        "colab": {
          "base_uri": "https://localhost:8080/"
        },
        "id": "H4i6gmL7AWh5",
        "outputId": "1235f3ab-1c04-466f-da47-43d705ce4894"
      },
      "outputs": [
        {
          "data": {
            "text/plain": [
              "1"
            ]
          },
          "execution_count": 395,
          "metadata": {},
          "output_type": "execute_result"
        }
      ],
      "source": [
        "vector.ndim"
      ]
    },
    {
      "cell_type": "markdown",
      "metadata": {
        "id": "8HFqI45RAmHz"
      },
      "source": [
        "easy way to remember dimension is by number of square brackets"
      ]
    },
    {
      "cell_type": "code",
      "execution_count": 396,
      "metadata": {
        "colab": {
          "base_uri": "https://localhost:8080/"
        },
        "id": "Wl0QyL2aArdp",
        "outputId": "1f43cd70-b76e-4065-8259-306e788e37ee"
      },
      "outputs": [
        {
          "data": {
            "text/plain": [
              "torch.Size([2])"
            ]
          },
          "execution_count": 396,
          "metadata": {},
          "output_type": "execute_result"
        }
      ],
      "source": [
        "vector.shape"
      ]
    },
    {
      "cell_type": "markdown",
      "metadata": {
        "id": "n1SiV0cfA0ju"
      },
      "source": [
        "shape gives how elements in tensor are arranged."
      ]
    },
    {
      "cell_type": "markdown",
      "metadata": {
        "id": "1AIeE7GjA3zP"
      },
      "source": [
        "### MATRIX"
      ]
    },
    {
      "cell_type": "code",
      "execution_count": 397,
      "metadata": {
        "colab": {
          "base_uri": "https://localhost:8080/"
        },
        "id": "d5-GAI6AA5q2",
        "outputId": "df65a29d-45aa-4deb-fce3-93b68b060c7d"
      },
      "outputs": [
        {
          "data": {
            "text/plain": [
              "tensor([[ 7,  8],\n",
              "        [ 9, 10]])"
            ]
          },
          "execution_count": 397,
          "metadata": {},
          "output_type": "execute_result"
        }
      ],
      "source": [
        "MATRIX = torch.tensor([[7, 8],\n",
        "                       [9,10]])\n",
        "MATRIX"
      ]
    },
    {
      "cell_type": "code",
      "execution_count": 398,
      "metadata": {
        "colab": {
          "base_uri": "https://localhost:8080/"
        },
        "id": "B-lUBOI3BEJI",
        "outputId": "861c7e64-762b-4310-8bf7-090614fa8e66"
      },
      "outputs": [
        {
          "data": {
            "text/plain": [
              "2"
            ]
          },
          "execution_count": 398,
          "metadata": {},
          "output_type": "execute_result"
        }
      ],
      "source": [
        "MATRIX.ndim"
      ]
    },
    {
      "cell_type": "code",
      "execution_count": 399,
      "metadata": {
        "colab": {
          "base_uri": "https://localhost:8080/"
        },
        "id": "F7bPB3kNBG_4",
        "outputId": "48dcddd9-f83a-4818-897c-e1975c2df455"
      },
      "outputs": [
        {
          "data": {
            "text/plain": [
              "torch.Size([2, 2])"
            ]
          },
          "execution_count": 399,
          "metadata": {},
          "output_type": "execute_result"
        }
      ],
      "source": [
        "MATRIX.shape"
      ]
    },
    {
      "cell_type": "code",
      "execution_count": 400,
      "metadata": {
        "colab": {
          "base_uri": "https://localhost:8080/"
        },
        "id": "biKuYTdoBVa2",
        "outputId": "ced17f06-2982-457c-85c6-e21984f91fb5"
      },
      "outputs": [
        {
          "data": {
            "text/plain": [
              "tensor([7, 8])"
            ]
          },
          "execution_count": 400,
          "metadata": {},
          "output_type": "execute_result"
        }
      ],
      "source": [
        "MATRIX[0]"
      ]
    },
    {
      "cell_type": "markdown",
      "metadata": {
        "id": "rvtnNucMBcJC"
      },
      "source": [
        "### TENSOR"
      ]
    },
    {
      "cell_type": "code",
      "execution_count": 401,
      "metadata": {
        "colab": {
          "base_uri": "https://localhost:8080/"
        },
        "id": "MV0uXDRCBejP",
        "outputId": "dba3a96a-4fa5-4c05-db9d-ad5c03eef5b5"
      },
      "outputs": [
        {
          "data": {
            "text/plain": [
              "tensor([[[1, 2, 3],\n",
              "         [3, 6, 9],\n",
              "         [2, 4, 5]]])"
            ]
          },
          "execution_count": 401,
          "metadata": {},
          "output_type": "execute_result"
        }
      ],
      "source": [
        "TENSOR = torch.tensor([[[1, 2, 3],\n",
        "                        [3, 6, 9],\n",
        "                        [2, 4, 5]]])\n",
        "TENSOR"
      ]
    },
    {
      "cell_type": "code",
      "execution_count": 402,
      "metadata": {
        "colab": {
          "base_uri": "https://localhost:8080/"
        },
        "id": "hFgwGP07Bupb",
        "outputId": "45e57d92-f534-4aeb-fb9e-a2ede30f6ac8"
      },
      "outputs": [
        {
          "data": {
            "text/plain": [
              "3"
            ]
          },
          "execution_count": 402,
          "metadata": {},
          "output_type": "execute_result"
        }
      ],
      "source": [
        "TENSOR.ndim"
      ]
    },
    {
      "cell_type": "code",
      "execution_count": 403,
      "metadata": {
        "colab": {
          "base_uri": "https://localhost:8080/"
        },
        "id": "Lqzfo32jBwNn",
        "outputId": "0d1815a0-59a0-44e8-9bda-f5bbcc994b06"
      },
      "outputs": [
        {
          "data": {
            "text/plain": [
              "torch.Size([1, 3, 3])"
            ]
          },
          "execution_count": 403,
          "metadata": {},
          "output_type": "execute_result"
        }
      ],
      "source": [
        "TENSOR.shape"
      ]
    },
    {
      "cell_type": "code",
      "execution_count": 404,
      "metadata": {
        "colab": {
          "base_uri": "https://localhost:8080/"
        },
        "id": "D3jJot78B96S",
        "outputId": "3688cd10-38c3-4dcb-f051-1451f98dead0"
      },
      "outputs": [
        {
          "data": {
            "text/plain": [
              "tensor([[1, 2, 3],\n",
              "        [3, 6, 9],\n",
              "        [2, 4, 5]])"
            ]
          },
          "execution_count": 404,
          "metadata": {},
          "output_type": "execute_result"
        }
      ],
      "source": [
        "TENSOR[0]\n"
      ]
    },
    {
      "cell_type": "code",
      "execution_count": null,
      "metadata": {
        "id": "_IpL9h7JCE6T"
      },
      "outputs": [],
      "source": []
    },
    {
      "cell_type": "markdown",
      "metadata": {
        "id": "glCzzQblMV-S"
      },
      "source": [
        "### Random Tensors"
      ]
    },
    {
      "cell_type": "markdown",
      "metadata": {
        "id": "ZPIKGmOwMYjd"
      },
      "source": [
        "random tensors are important because many Neural networks starts with random numbers"
      ]
    },
    {
      "cell_type": "code",
      "execution_count": 405,
      "metadata": {
        "colab": {
          "base_uri": "https://localhost:8080/"
        },
        "id": "eDZoSoU6NCgh",
        "outputId": "bf295dc9-ef60-457f-9f7c-437d1872d1aa"
      },
      "outputs": [
        {
          "data": {
            "text/plain": [
              "tensor([[0.1994, 0.5472, 0.0062, 0.9516],\n",
              "        [0.0753, 0.8860, 0.5832, 0.3376],\n",
              "        [0.8090, 0.5779, 0.9040, 0.5547]])"
            ]
          },
          "execution_count": 405,
          "metadata": {},
          "output_type": "execute_result"
        }
      ],
      "source": [
        "random_tensor = torch.rand(3, 4)\n",
        "random_tensor"
      ]
    },
    {
      "cell_type": "code",
      "execution_count": 406,
      "metadata": {
        "colab": {
          "base_uri": "https://localhost:8080/"
        },
        "id": "E00OP2NtNQ2d",
        "outputId": "ce2679f3-3e3d-43ee-ce28-b839ad0f669c"
      },
      "outputs": [
        {
          "data": {
            "text/plain": [
              "2"
            ]
          },
          "execution_count": 406,
          "metadata": {},
          "output_type": "execute_result"
        }
      ],
      "source": [
        "random_tensor.ndim"
      ]
    },
    {
      "cell_type": "code",
      "execution_count": 407,
      "metadata": {
        "colab": {
          "base_uri": "https://localhost:8080/"
        },
        "id": "wXw7fx18NUcJ",
        "outputId": "2d58b0ae-65a3-44db-92d1-ceebb2747c7f"
      },
      "outputs": [
        {
          "data": {
            "text/plain": [
              "tensor([[0., 0., 0., 0., 0.],\n",
              "        [0., 0., 0., 0., 0.],\n",
              "        [0., 0., 0., 0., 0.],\n",
              "        [0., 0., 0., 0., 0.]])"
            ]
          },
          "execution_count": 407,
          "metadata": {},
          "output_type": "execute_result"
        }
      ],
      "source": [
        "random_huge_tensor = torch.zeros(4,5)\n",
        "random_huge_tensor"
      ]
    },
    {
      "cell_type": "code",
      "execution_count": 408,
      "metadata": {
        "colab": {
          "base_uri": "https://localhost:8080/"
        },
        "id": "pDqtZvHUPDCh",
        "outputId": "df96a93d-28f9-4665-9f9f-7c35ae72e871"
      },
      "outputs": [
        {
          "data": {
            "text/plain": [
              "torch.float32"
            ]
          },
          "execution_count": 408,
          "metadata": {},
          "output_type": "execute_result"
        }
      ],
      "source": [
        "random_huge_tensor.dtype"
      ]
    },
    {
      "cell_type": "code",
      "execution_count": 409,
      "metadata": {
        "colab": {
          "base_uri": "https://localhost:8080/",
          "height": 36
        },
        "id": "oC2LGnG5Phbc",
        "outputId": "f5b5bfea-4022-4973-8292-b2836b5d9691"
      },
      "outputs": [
        {
          "data": {
            "text/plain": [
              "'2.1.0'"
            ]
          },
          "execution_count": 409,
          "metadata": {},
          "output_type": "execute_result"
        }
      ],
      "source": [
        "torch.__version__"
      ]
    },
    {
      "cell_type": "code",
      "execution_count": 410,
      "metadata": {
        "colab": {
          "base_uri": "https://localhost:8080/"
        },
        "id": "ZIitMXi3PpkW",
        "outputId": "b304c1b1-8086-46e1-b1f8-bfab7fb1933f"
      },
      "outputs": [
        {
          "data": {
            "text/plain": [
              "tensor([0, 1, 2, 3, 4, 5, 6, 7, 8, 9])"
            ]
          },
          "execution_count": 410,
          "metadata": {},
          "output_type": "execute_result"
        }
      ],
      "source": [
        "zttendep = torch.arange(0, 10)\n",
        "zttendep"
      ]
    },
    {
      "cell_type": "code",
      "execution_count": 411,
      "metadata": {
        "id": "mAWD4ss1h7p6"
      },
      "outputs": [],
      "source": [
        "ten = torch.tensor([11, 22, 33])"
      ]
    },
    {
      "cell_type": "code",
      "execution_count": 412,
      "metadata": {
        "colab": {
          "base_uri": "https://localhost:8080/"
        },
        "id": "DP-Au6Fth-I-",
        "outputId": "cff4bfaa-d9b1-4690-bd49-7cbabca59a2b"
      },
      "outputs": [
        {
          "data": {
            "text/plain": [
              "tensor([110, 220, 330])"
            ]
          },
          "execution_count": 412,
          "metadata": {},
          "output_type": "execute_result"
        }
      ],
      "source": [
        "ten * 10"
      ]
    },
    {
      "cell_type": "code",
      "execution_count": 413,
      "metadata": {
        "colab": {
          "base_uri": "https://localhost:8080/"
        },
        "id": "TODZPkRTh-0H",
        "outputId": "bb1bedec-3f4f-448f-faf9-dc8bc5759bd5"
      },
      "outputs": [
        {
          "data": {
            "text/plain": [
              "tensor([121, 242, 363])"
            ]
          },
          "execution_count": 413,
          "metadata": {},
          "output_type": "execute_result"
        }
      ],
      "source": [
        "torch.mul(ten, 11)"
      ]
    },
    {
      "cell_type": "code",
      "execution_count": 414,
      "metadata": {
        "colab": {
          "base_uri": "https://localhost:8080/"
        },
        "id": "s6FapKaCh-3B",
        "outputId": "e960e083-874e-4679-a651-77a5418e499e"
      },
      "outputs": [
        {
          "data": {
            "text/plain": [
              "tensor([ 121,  484, 1089])"
            ]
          },
          "execution_count": 414,
          "metadata": {},
          "output_type": "execute_result"
        }
      ],
      "source": [
        "ten * ten"
      ]
    },
    {
      "cell_type": "code",
      "execution_count": 415,
      "metadata": {
        "id": "BeiJoQ5Ch-55"
      },
      "outputs": [],
      "source": [
        "twotwo = torch.tensor([[1, 2],\n",
        "                       [3, 4]])"
      ]
    },
    {
      "cell_type": "code",
      "execution_count": 416,
      "metadata": {
        "colab": {
          "base_uri": "https://localhost:8080/"
        },
        "id": "3O_6LYT9h-9C",
        "outputId": "bdb9c4e9-0621-4c3f-949d-9450ff2d0303"
      },
      "outputs": [
        {
          "data": {
            "text/plain": [
              "tensor([[ 1,  4],\n",
              "        [ 9, 16]])"
            ]
          },
          "execution_count": 416,
          "metadata": {},
          "output_type": "execute_result"
        }
      ],
      "source": [
        "twotwo * twotwo"
      ]
    },
    {
      "cell_type": "code",
      "execution_count": 417,
      "metadata": {
        "colab": {
          "base_uri": "https://localhost:8080/"
        },
        "id": "QuISKWPOh-_8",
        "outputId": "e453c3dd-4012-445b-e665-fe82bfefec17"
      },
      "outputs": [
        {
          "data": {
            "text/plain": [
              "tensor([[ 7, 10],\n",
              "        [15, 22]])"
            ]
          },
          "execution_count": 417,
          "metadata": {},
          "output_type": "execute_result"
        }
      ],
      "source": [
        "torch.matmul(twotwo, twotwo)"
      ]
    },
    {
      "cell_type": "code",
      "execution_count": 418,
      "metadata": {
        "colab": {
          "base_uri": "https://localhost:8080/"
        },
        "id": "K5joMSIxh_Cx",
        "outputId": "db9ab426-86a2-4f7d-f593-04c3ab6290d7"
      },
      "outputs": [
        {
          "data": {
            "text/plain": [
              "tensor(1694)"
            ]
          },
          "execution_count": 418,
          "metadata": {},
          "output_type": "execute_result"
        }
      ],
      "source": [
        "torch.matmul(ten, ten)"
      ]
    },
    {
      "cell_type": "code",
      "execution_count": 419,
      "metadata": {
        "colab": {
          "base_uri": "https://localhost:8080/"
        },
        "id": "U2tmCxDrh_Fb",
        "outputId": "860d9d17-0ab0-446d-ab74-6976a00c8e4e"
      },
      "outputs": [
        {
          "data": {
            "text/plain": [
              "torch.Size([10, 3])"
            ]
          },
          "execution_count": 419,
          "metadata": {},
          "output_type": "execute_result"
        }
      ],
      "source": [
        "tensor1 = torch.randn(10, 3, 4)\n",
        "tensor2 = torch.randn(4)\n",
        "torch.matmul(tensor1, tensor2).size()"
      ]
    },
    {
      "cell_type": "code",
      "execution_count": 420,
      "metadata": {
        "colab": {
          "base_uri": "https://localhost:8080/"
        },
        "id": "Gv8W6oAw_RQg",
        "outputId": "f19c9259-f982-4754-859d-8ec47bb5ecf3"
      },
      "outputs": [
        {
          "data": {
            "text/plain": [
              "torch.Size([10, 3, 4])"
            ]
          },
          "execution_count": 420,
          "metadata": {},
          "output_type": "execute_result"
        }
      ],
      "source": [
        "tensor1.size()"
      ]
    },
    {
      "cell_type": "code",
      "execution_count": 421,
      "metadata": {
        "colab": {
          "base_uri": "https://localhost:8080/"
        },
        "id": "dQ_kFUox_ZL2",
        "outputId": "839f616c-02f9-41b1-ea39-72ca17159986"
      },
      "outputs": [
        {
          "data": {
            "text/plain": [
              "torch.Size([4])"
            ]
          },
          "execution_count": 421,
          "metadata": {},
          "output_type": "execute_result"
        }
      ],
      "source": [
        "tensor2.size()"
      ]
    },
    {
      "cell_type": "code",
      "execution_count": 422,
      "metadata": {
        "colab": {
          "base_uri": "https://localhost:8080/"
        },
        "id": "BH-1s9NoAmU5",
        "outputId": "3653df97-f8bf-42a2-a4c2-708898d4cf5b"
      },
      "outputs": [
        {
          "data": {
            "text/plain": [
              "(tensor([[[-0.7746,  0.0349,  0.3211,  1.5736],\n",
              "          [-0.8455,  1.3123,  0.6872, -1.0892],\n",
              "          [-0.4879, -1.4181,  0.8963,  0.0499]],\n",
              " \n",
              "         [[ 2.2667,  1.1790, -0.4345, -1.3864],\n",
              "          [-0.7360, -0.8371, -0.9224,  1.8113],\n",
              "          [ 0.1606,  0.3672,  0.1754,  1.3852]],\n",
              " \n",
              "         [[ 1.3835, -1.2024,  0.7078, -1.0759],\n",
              "          [ 0.5357,  1.1754,  0.5612, -0.4527],\n",
              "          [ 1.2780,  0.1453,  0.2311,  0.0087]],\n",
              " \n",
              "         [[-0.1423,  0.1971, -1.1441,  0.3383],\n",
              "          [-0.7508,  2.8140,  0.3598, -0.0898],\n",
              "          [ 0.4584, -0.5644,  1.0563, -1.4692]],\n",
              " \n",
              "         [[ 0.0516,  0.7281, -0.7106, -0.6021],\n",
              "          [ 0.9604,  0.4048, -1.3543, -0.4976],\n",
              "          [ 0.4835, -0.1976,  1.2683,  1.2243]],\n",
              " \n",
              "         [[ 0.0981,  1.7423, -1.3527,  0.2191],\n",
              "          [-0.4502, -0.6788,  0.5743,  0.1877],\n",
              "          [-0.3576, -0.3165,  0.5886, -0.8905]],\n",
              " \n",
              "         [[-0.3036, -0.9864,  0.1233,  0.3499],\n",
              "          [ 0.6173, -0.1693,  0.2332,  4.0356],\n",
              "          [ 0.5279,  1.0311, -0.7048,  1.0131]],\n",
              " \n",
              "         [[-0.3308,  0.5177,  0.3878, -0.5797],\n",
              "          [ 0.4114, -0.5733,  0.5069, -0.4752],\n",
              "          [-0.4920,  0.2704, -0.5628,  0.6793]],\n",
              " \n",
              "         [[ 0.5760, -0.3609, -0.0606,  0.0733],\n",
              "          [ 0.8187,  1.4805,  0.3449, -1.4241],\n",
              "          [ 0.6526, -1.9006,  0.2286,  0.0249]],\n",
              " \n",
              "         [[-0.3460,  0.2868, -0.7308,  0.1748],\n",
              "          [-0.3098, -1.6022,  1.3529,  1.2888],\n",
              "          [ 0.0523, -1.5469,  0.7567,  0.7755]]]),\n",
              " tensor([-0.7208, -0.7698,  0.0366,  0.3688]))"
            ]
          },
          "execution_count": 422,
          "metadata": {},
          "output_type": "execute_result"
        }
      ],
      "source": [
        "tensor1, tensor2"
      ]
    },
    {
      "cell_type": "code",
      "execution_count": 423,
      "metadata": {
        "colab": {
          "base_uri": "https://localhost:8080/"
        },
        "id": "dZ8TMTM6h_Hx",
        "outputId": "c697299c-e58d-43b2-f16c-4aad5de2611a"
      },
      "outputs": [
        {
          "data": {
            "text/plain": [
              "tensor([[ 1.1235, -0.7773,  1.4945],\n",
              "        [-3.0686,  1.8091,  0.1188],\n",
              "        [-0.4425, -1.4373, -1.0214],\n",
              "        [ 0.0337, -1.6449, -0.3990],\n",
              "        [-0.8458, -1.2370,  0.3015],\n",
              "        [-1.3807,  0.9372,  0.1946],\n",
              "        [ 1.1117,  1.1822, -0.8264],\n",
              "        [-0.3596, -0.0119,  0.3764],\n",
              "        [-0.1126, -2.2423,  1.0101],\n",
              "        [ 0.0663,  1.9814,  1.4668]])"
            ]
          },
          "execution_count": 423,
          "metadata": {},
          "output_type": "execute_result"
        }
      ],
      "source": [
        "torch.matmul(tensor1, tensor2)"
      ]
    },
    {
      "cell_type": "code",
      "execution_count": 424,
      "metadata": {
        "colab": {
          "base_uri": "https://localhost:8080/"
        },
        "id": "FJ2RgUkj_TFS",
        "outputId": "052945e4-a23b-4f4f-c8a0-eac8fa3e2df5"
      },
      "outputs": [
        {
          "data": {
            "text/plain": [
              "tensor([[0.8019, 0.8400, 0.4558],\n",
              "        [0.9852, 0.9527, 0.5772],\n",
              "        [0.5294, 0.5114, 0.3103]])"
            ]
          },
          "execution_count": 424,
          "metadata": {},
          "output_type": "execute_result"
        }
      ],
      "source": [
        "torch.matmul(torch.rand(3,2),torch.rand(2,3))"
      ]
    },
    {
      "cell_type": "code",
      "execution_count": null,
      "metadata": {
        "id": "hS6YnsZ1_PtU"
      },
      "outputs": [],
      "source": []
    },
    {
      "cell_type": "code",
      "execution_count": 425,
      "metadata": {
        "colab": {
          "base_uri": "https://localhost:8080/"
        },
        "id": "Ie85jLFBPvKS",
        "outputId": "d26b57fd-7f67-40e0-a6b5-310a54787b81"
      },
      "outputs": [
        {
          "data": {
            "text/plain": [
              "tensor([ 0, 10, 20, 30, 40, 50, 60, 70, 80, 90])"
            ]
          },
          "execution_count": 425,
          "metadata": {},
          "output_type": "execute_result"
        }
      ],
      "source": [
        "x = torch.arange(0, 100, 10)\n",
        "x"
      ]
    },
    {
      "cell_type": "code",
      "execution_count": 426,
      "metadata": {
        "colab": {
          "base_uri": "https://localhost:8080/"
        },
        "id": "ClbYlzuXt8WV",
        "outputId": "d064eacb-aa7d-4d12-eae8-afe81835298b"
      },
      "outputs": [
        {
          "data": {
            "text/plain": [
              "tensor(9)"
            ]
          },
          "execution_count": 426,
          "metadata": {},
          "output_type": "execute_result"
        }
      ],
      "source": [
        "x.argmax()"
      ]
    },
    {
      "cell_type": "code",
      "execution_count": 427,
      "metadata": {
        "colab": {
          "base_uri": "https://localhost:8080/"
        },
        "id": "dLg4mgJiIyBG",
        "outputId": "3ccb5d28-7c55-4d91-825d-9201460f1dc7"
      },
      "outputs": [
        {
          "data": {
            "text/plain": [
              "tensor([[ 0, 10],\n",
              "        [20, 30],\n",
              "        [40, 50],\n",
              "        [60, 70],\n",
              "        [80, 90]])"
            ]
          },
          "execution_count": 427,
          "metadata": {},
          "output_type": "execute_result"
        }
      ],
      "source": [
        "x.reshape(5,2)"
      ]
    },
    {
      "cell_type": "code",
      "execution_count": 428,
      "metadata": {
        "colab": {
          "base_uri": "https://localhost:8080/"
        },
        "id": "VFUtKcZnI_8l",
        "outputId": "f5e4261c-d72c-4f41-8907-b6586e9ab10f"
      },
      "outputs": [
        {
          "data": {
            "text/plain": [
              "tensor([ 0, 10, 20, 30, 40, 50, 60, 70, 80, 90])"
            ]
          },
          "execution_count": 428,
          "metadata": {},
          "output_type": "execute_result"
        }
      ],
      "source": [
        "x"
      ]
    },
    {
      "cell_type": "code",
      "execution_count": 429,
      "metadata": {
        "colab": {
          "base_uri": "https://localhost:8080/"
        },
        "id": "EIFfNJQiJrV3",
        "outputId": "f3927737-4f1b-4796-eafd-6a34bd767c04"
      },
      "outputs": [
        {
          "data": {
            "text/plain": [
              "tensor([[ 0, 10],\n",
              "        [20, 30],\n",
              "        [40, 50],\n",
              "        [60, 70],\n",
              "        [80, 90]])"
            ]
          },
          "execution_count": 429,
          "metadata": {},
          "output_type": "execute_result"
        }
      ],
      "source": [
        "torch.reshape(x, (5,2))"
      ]
    },
    {
      "cell_type": "code",
      "execution_count": 430,
      "metadata": {
        "colab": {
          "base_uri": "https://localhost:8080/"
        },
        "id": "m7q3TiHtJzZa",
        "outputId": "217d58d5-eae3-4545-a1b4-52611de35a85"
      },
      "outputs": [
        {
          "data": {
            "text/plain": [
              "tensor([ 0, 10, 20, 30, 40, 50, 60, 70, 80, 90])"
            ]
          },
          "execution_count": 430,
          "metadata": {},
          "output_type": "execute_result"
        }
      ],
      "source": [
        "x"
      ]
    },
    {
      "cell_type": "code",
      "execution_count": 431,
      "metadata": {
        "colab": {
          "base_uri": "https://localhost:8080/"
        },
        "id": "g0_EJjadMv5R",
        "outputId": "cc6894be-a14a-4d5d-b404-cbb8b302f59c"
      },
      "outputs": [
        {
          "data": {
            "text/plain": [
              "tensor([[ 0,  0,  0],\n",
              "        [10, 10, 10],\n",
              "        [20, 20, 20],\n",
              "        [30, 30, 30],\n",
              "        [40, 40, 40],\n",
              "        [50, 50, 50],\n",
              "        [60, 60, 60],\n",
              "        [70, 70, 70],\n",
              "        [80, 80, 80],\n",
              "        [90, 90, 90]])"
            ]
          },
          "execution_count": 431,
          "metadata": {},
          "output_type": "execute_result"
        }
      ],
      "source": [
        "torch.stack([x,x,x], dim= 1)"
      ]
    },
    {
      "cell_type": "code",
      "execution_count": 432,
      "metadata": {
        "colab": {
          "base_uri": "https://localhost:8080/"
        },
        "id": "duX576JCOB5C",
        "outputId": "812dd220-600a-4f95-8ed9-c54a91a2fe0b"
      },
      "outputs": [
        {
          "data": {
            "text/plain": [
              "tensor([[[[[0., 0.]],\n",
              "\n",
              "          [[0., 0.]]]],\n",
              "\n",
              "\n",
              "\n",
              "        [[[[0., 0.]],\n",
              "\n",
              "          [[0., 0.]]]]])"
            ]
          },
          "execution_count": 432,
          "metadata": {},
          "output_type": "execute_result"
        }
      ],
      "source": [
        "x = torch.zeros(2, 1, 2, 1, 2)\n",
        "x"
      ]
    },
    {
      "cell_type": "code",
      "execution_count": 433,
      "metadata": {
        "colab": {
          "base_uri": "https://localhost:8080/"
        },
        "id": "WLw_5MKkOExm",
        "outputId": "ba625c26-0bfa-4578-c5b3-a83ebac5c14e"
      },
      "outputs": [
        {
          "data": {
            "text/plain": [
              "tensor([[[0., 0.],\n",
              "         [0., 0.]],\n",
              "\n",
              "        [[0., 0.],\n",
              "         [0., 0.]]])"
            ]
          },
          "execution_count": 433,
          "metadata": {},
          "output_type": "execute_result"
        }
      ],
      "source": [
        "y = torch.squeeze(x)\n",
        "y"
      ]
    },
    {
      "cell_type": "code",
      "execution_count": 434,
      "metadata": {
        "colab": {
          "base_uri": "https://localhost:8080/"
        },
        "id": "POYXoVIySURb",
        "outputId": "d05aa14d-11b7-47cc-f491-d368e75a60f3"
      },
      "outputs": [
        {
          "data": {
            "text/plain": [
              "(tensor([[[[[1., 1.]],\n",
              " \n",
              "           [[1., 1.]]]],\n",
              " \n",
              " \n",
              " \n",
              "         [[[[1., 1.]],\n",
              " \n",
              "           [[1., 1.]]]]]),\n",
              " tensor([[[1., 1.],\n",
              "          [1., 1.]],\n",
              " \n",
              "         [[1., 1.],\n",
              "          [1., 1.]]]))"
            ]
          },
          "execution_count": 434,
          "metadata": {},
          "output_type": "execute_result"
        }
      ],
      "source": [
        "x[:, 0] = 1\n",
        "x , y"
      ]
    },
    {
      "cell_type": "code",
      "execution_count": 435,
      "metadata": {
        "colab": {
          "base_uri": "https://localhost:8080/"
        },
        "id": "rt96UWYtRUId",
        "outputId": "d1124c20-2153-45a8-9fee-798492d9eea9"
      },
      "outputs": [
        {
          "data": {
            "text/plain": [
              "tensor([[[[1., 1.],\n",
              "          [1., 1.]]],\n",
              "\n",
              "\n",
              "        [[[1., 1.],\n",
              "          [1., 1.]]]])"
            ]
          },
          "execution_count": 435,
          "metadata": {},
          "output_type": "execute_result"
        }
      ],
      "source": [
        "z = torch.unsqueeze(y, dim=1)\n",
        "z"
      ]
    },
    {
      "cell_type": "code",
      "execution_count": 436,
      "metadata": {
        "colab": {
          "base_uri": "https://localhost:8080/"
        },
        "id": "i-ZkBOZdRjHc",
        "outputId": "4a18e035-1048-455a-ce08-ea7f880241c7"
      },
      "outputs": [
        {
          "data": {
            "text/plain": [
              "tensor([[[[1., 1.],\n",
              "          [1., 1.]],\n",
              "\n",
              "         [[1., 1.],\n",
              "          [1., 1.]]]])"
            ]
          },
          "execution_count": 436,
          "metadata": {},
          "output_type": "execute_result"
        }
      ],
      "source": [
        "torch.unsqueeze(y, dim=0)"
      ]
    },
    {
      "cell_type": "code",
      "execution_count": 437,
      "metadata": {
        "colab": {
          "base_uri": "https://localhost:8080/"
        },
        "id": "juye9XG8RmPK",
        "outputId": "a5ed186e-3f0a-4eea-dd4b-f9e4307511ad"
      },
      "outputs": [
        {
          "data": {
            "text/plain": [
              "tensor([[[[1., 1.],\n",
              "          [1., 1.]]],\n",
              "\n",
              "\n",
              "        [[[1., 1.],\n",
              "          [1., 1.]]]])"
            ]
          },
          "execution_count": 437,
          "metadata": {},
          "output_type": "execute_result"
        }
      ],
      "source": [
        "torch.unsqueeze(y, dim=1)"
      ]
    },
    {
      "cell_type": "code",
      "execution_count": 438,
      "metadata": {
        "colab": {
          "base_uri": "https://localhost:8080/"
        },
        "id": "Jr4MluOzRnP6",
        "outputId": "f97bd87c-ae29-440c-8367-9b31561ef098"
      },
      "outputs": [
        {
          "data": {
            "text/plain": [
              "tensor([[[[1.],\n",
              "          [1.]],\n",
              "\n",
              "         [[1.],\n",
              "          [1.]]],\n",
              "\n",
              "\n",
              "        [[[1.],\n",
              "          [1.]],\n",
              "\n",
              "         [[1.],\n",
              "          [1.]]]])"
            ]
          },
          "execution_count": 438,
          "metadata": {},
          "output_type": "execute_result"
        }
      ],
      "source": [
        "torch.unsqueeze(y, dim=3)"
      ]
    },
    {
      "cell_type": "markdown",
      "metadata": {
        "id": "XvrZAcogS99y"
      },
      "source": [
        "#### to check if squeeze shares memory"
      ]
    },
    {
      "cell_type": "code",
      "execution_count": 439,
      "metadata": {
        "colab": {
          "base_uri": "https://localhost:8080/"
        },
        "id": "BU3qIIg4S9fZ",
        "outputId": "6471ae2b-a1a3-4f63-f17b-eee8c00f1821"
      },
      "outputs": [
        {
          "data": {
            "text/plain": [
              "tensor([ 0,  2,  4,  6,  8, 10])"
            ]
          },
          "execution_count": 439,
          "metadata": {},
          "output_type": "execute_result"
        }
      ],
      "source": [
        "sqz = torch.arange(0,12, 2)\n",
        "sqz"
      ]
    },
    {
      "cell_type": "code",
      "execution_count": 440,
      "metadata": {
        "id": "4uRVvsPhTred"
      },
      "outputs": [],
      "source": [
        "sqz = sqz.unsqueeze(dim=0)"
      ]
    },
    {
      "cell_type": "code",
      "execution_count": 441,
      "metadata": {
        "colab": {
          "base_uri": "https://localhost:8080/"
        },
        "id": "D3keTncgYjjH",
        "outputId": "47d9c0cd-6b91-4ba0-bf24-ab88be0bd0dc"
      },
      "outputs": [
        {
          "data": {
            "text/plain": [
              "tensor([[ 0,  2,  4,  6,  8, 10]])"
            ]
          },
          "execution_count": 441,
          "metadata": {},
          "output_type": "execute_result"
        }
      ],
      "source": [
        "sqz"
      ]
    },
    {
      "cell_type": "code",
      "execution_count": 442,
      "metadata": {
        "colab": {
          "base_uri": "https://localhost:8080/"
        },
        "id": "8mnih3ChUDz6",
        "outputId": "06b6524f-40e2-4fe3-c0c6-7b97f16fd1a9"
      },
      "outputs": [
        {
          "data": {
            "text/plain": [
              "tensor([ 0,  2,  4,  6,  8, 10])"
            ]
          },
          "execution_count": 442,
          "metadata": {},
          "output_type": "execute_result"
        }
      ],
      "source": [
        "sqz2 = sqz.squeeze( dim = 0)\n",
        "sqz2"
      ]
    },
    {
      "cell_type": "code",
      "execution_count": 443,
      "metadata": {
        "colab": {
          "base_uri": "https://localhost:8080/"
        },
        "id": "NPUCSOi1ULBS",
        "outputId": "1c5467f6-8625-4177-e265-fd12d4d24497"
      },
      "outputs": [
        {
          "data": {
            "text/plain": [
              "tensor([ 0, 69,  4,  6,  8, 10])"
            ]
          },
          "execution_count": 443,
          "metadata": {},
          "output_type": "execute_result"
        }
      ],
      "source": [
        "sqz2[1] = 69\n",
        "sqz2"
      ]
    },
    {
      "cell_type": "code",
      "execution_count": 444,
      "metadata": {
        "colab": {
          "base_uri": "https://localhost:8080/"
        },
        "id": "TZk5Uw9DVJYf",
        "outputId": "556447e8-42d5-4a99-bc56-3ea9ae2779aa"
      },
      "outputs": [
        {
          "data": {
            "text/plain": [
              "tensor([[ 0, 69,  4,  6,  8, 10]])"
            ]
          },
          "execution_count": 444,
          "metadata": {},
          "output_type": "execute_result"
        }
      ],
      "source": [
        "sqz"
      ]
    },
    {
      "cell_type": "markdown",
      "metadata": {
        "id": "yyGUo-izq01k"
      },
      "source": [
        "Reproducablity. random seed"
      ]
    },
    {
      "cell_type": "code",
      "execution_count": 445,
      "metadata": {
        "colab": {
          "base_uri": "https://localhost:8080/"
        },
        "id": "0UB_RKc5q0W4",
        "outputId": "9866c56a-b864-4932-919a-88b55e86ebfc"
      },
      "outputs": [
        {
          "data": {
            "text/plain": [
              "tensor([[0.8823, 0.9150],\n",
              "        [0.3829, 0.9593],\n",
              "        [0.3904, 0.6009]])"
            ]
          },
          "execution_count": 445,
          "metadata": {},
          "output_type": "execute_result"
        }
      ],
      "source": [
        "r_seed = 42\n",
        "torch.manual_seed(r_seed)\n",
        "rand_a = torch.rand(3,2)\n",
        "rand_a"
      ]
    },
    {
      "cell_type": "code",
      "execution_count": 446,
      "metadata": {
        "colab": {
          "base_uri": "https://localhost:8080/"
        },
        "id": "s4-X-t8Sz06D",
        "outputId": "92d4c2e6-bbcb-4e7c-8b5a-c14f035ee44f"
      },
      "outputs": [
        {
          "data": {
            "text/plain": [
              "tensor([[0.2566, 0.7936],\n",
              "        [0.9408, 0.1332],\n",
              "        [0.9346, 0.5936]])"
            ]
          },
          "execution_count": 446,
          "metadata": {},
          "output_type": "execute_result"
        }
      ],
      "source": [
        "torch.rand(3,2)"
      ]
    },
    {
      "cell_type": "code",
      "execution_count": 447,
      "metadata": {
        "colab": {
          "base_uri": "https://localhost:8080/"
        },
        "id": "VoVaN5SHz5fO",
        "outputId": "b428a2e4-00e8-430e-e6f0-242c555f7cb5"
      },
      "outputs": [
        {
          "data": {
            "text/plain": [
              "tensor([[0.8823, 0.9150],\n",
              "        [0.3829, 0.9593],\n",
              "        [0.3904, 0.6009]])"
            ]
          },
          "execution_count": 447,
          "metadata": {},
          "output_type": "execute_result"
        }
      ],
      "source": [
        "torch.manual_seed(42)\n",
        "torch.rand(3,2)"
      ]
    },
    {
      "cell_type": "code",
      "execution_count": 448,
      "metadata": {
        "colab": {
          "base_uri": "https://localhost:8080/"
        },
        "id": "JufPTb3d0ADE",
        "outputId": "a2a61cfa-7f46-438f-fb16-c5984510832b"
      },
      "outputs": [
        {
          "data": {
            "text/plain": [
              "tensor([[True, True],\n",
              "        [True, True],\n",
              "        [True, True]])"
            ]
          },
          "execution_count": 448,
          "metadata": {},
          "output_type": "execute_result"
        }
      ],
      "source": [
        "torch.manual_seed(42)\n",
        "rand_a == torch.rand(3,2)"
      ]
    },
    {
      "cell_type": "code",
      "execution_count": 449,
      "metadata": {
        "colab": {
          "base_uri": "https://localhost:8080/"
        },
        "id": "gf601w6TAe4n",
        "outputId": "0ca9a9a3-2798-418a-a5b4-4cca15af26fc"
      },
      "outputs": [
        {
          "data": {
            "text/plain": [
              "device(type='cpu')"
            ]
          },
          "execution_count": 449,
          "metadata": {},
          "output_type": "execute_result"
        }
      ],
      "source": [
        "rand_a.device"
      ]
    },
    {
      "cell_type": "code",
      "execution_count": 450,
      "metadata": {
        "id": "hYEf8LItAe4n"
      },
      "outputs": [],
      "source": [
        "# mps_rans = rand_a.to(mps_device)"
      ]
    },
    {
      "cell_type": "markdown",
      "metadata": {
        "id": "UqtLD8Y0Ae4n"
      },
      "source": [
        "rand_a still stays on CPU. have to assign it to a variable to hold the migrated tensor on `mps` like above"
      ]
    },
    {
      "cell_type": "code",
      "execution_count": 451,
      "metadata": {
        "id": "vyhgMoXDAe4o",
        "outputId": "782a16a0-b465-4497-b563-ec31e6e76a5c"
      },
      "outputs": [],
      "source": [
        "# mps_rans.device"
      ]
    },
    {
      "cell_type": "code",
      "execution_count": 452,
      "metadata": {
        "colab": {
          "base_uri": "https://localhost:8080/"
        },
        "id": "4HzNF4CGA37y",
        "outputId": "4a3bba70-5ba0-4275-8513-bfecab9540e2"
      },
      "outputs": [
        {
          "name": "stdout",
          "output_type": "stream",
          "text": [
            "zsh:1: command not found: nvidia-smi\n"
          ]
        }
      ],
      "source": [
        "!nvidia-smi"
      ]
    },
    {
      "cell_type": "markdown",
      "metadata": {
        "id": "HoiMJJ0YF6WA"
      },
      "source": [
        "# Practice"
      ]
    },
    {
      "cell_type": "markdown",
      "metadata": {
        "id": "z0ETrauOF74g"
      },
      "source": [
        "using template given in course for ease"
      ]
    },
    {
      "cell_type": "code",
      "execution_count": 453,
      "metadata": {},
      "outputs": [],
      "source": [
        "import torch\n",
        "seed = 42"
      ]
    },
    {
      "cell_type": "code",
      "execution_count": 459,
      "metadata": {},
      "outputs": [
        {
          "name": "stdout",
          "output_type": "stream",
          "text": [
            "without setting any prior manual seed \n",
            "tensor([[0.5779, 0.9040, 0.5547],\n",
            "        [0.3423, 0.6343, 0.3644],\n",
            "        [0.7104, 0.9464, 0.7890]])\n"
          ]
        }
      ],
      "source": [
        "print(f'without setting any prior manual seed \\n{torch.rand(3,3)}') #RANDOM"
      ]
    },
    {
      "cell_type": "markdown",
      "metadata": {},
      "source": [
        "### torch.`random`.manual_seed()"
      ]
    },
    {
      "cell_type": "code",
      "execution_count": 465,
      "metadata": {},
      "outputs": [
        {
          "name": "stdout",
          "output_type": "stream",
          "text": [
            "with random manual seed \n",
            "tensor([[0.8823, 0.9150, 0.3829],\n",
            "        [0.9593, 0.3904, 0.6009],\n",
            "        [0.2566, 0.7936, 0.9408]])\n",
            "\n",
            "without manual seed \n",
            "tensor([[0.8823, 0.9150, 0.3829],\n",
            "        [0.9593, 0.3904, 0.6009],\n",
            "        [0.2566, 0.7936, 0.9408]])\n"
          ]
        }
      ],
      "source": [
        "torch.random.manual_seed(seed)\n",
        "print(f'with random manual seed \\n{torch.rand(3,3)}\\n') # gave required values\n",
        "print(f'without manual seed \\n{torch.rand(3,3)}') #Different than above,but NOT SO RANDOM, FIXED VALUES"
      ]
    },
    {
      "cell_type": "markdown",
      "metadata": {},
      "source": [
        "### torch.manual_seed()"
      ]
    },
    {
      "cell_type": "code",
      "execution_count": 464,
      "metadata": {},
      "outputs": [
        {
          "name": "stdout",
          "output_type": "stream",
          "text": [
            "with global manual seed \n",
            "tensor([[0.8823, 0.9150, 0.3829],\n",
            "        [0.9593, 0.3904, 0.6009],\n",
            "        [0.2566, 0.7936, 0.9408]]) \n",
            "\n",
            "without manual seed \n",
            "tensor([[0.1332, 0.9346, 0.5936],\n",
            "        [0.8694, 0.5677, 0.7411],\n",
            "        [0.4294, 0.8854, 0.5739]])\n"
          ]
        }
      ],
      "source": [
        "torch.manual_seed(seed)\n",
        "print(f'with global manual seed \\n{torch.rand(3,3)} \\n') # gave required values\n",
        "print(f'without manual seed \\n{torch.rand(3,3)}') #Different than above,but NOT SO RANDOM, FIXED VALUES"
      ]
    },
    {
      "cell_type": "code",
      "execution_count": 462,
      "metadata": {},
      "outputs": [
        {
          "name": "stdout",
          "output_type": "stream",
          "text": [
            "without any random seen in new notebook block \n",
            "tensor([[0.2666, 0.6274, 0.2696],\n",
            "        [0.4414, 0.2969, 0.8317],\n",
            "        [0.1053, 0.2695, 0.3588]])\n"
          ]
        }
      ],
      "source": [
        "print(f'without any random seen in new notebook block \\n{torch.rand(3,3)}') #totally random"
      ]
    }
  ],
  "metadata": {
    "colab": {
      "include_colab_link": true,
      "provenance": []
    },
    "kernelspec": {
      "display_name": "Python 3",
      "name": "python3"
    },
    "language_info": {
      "codemirror_mode": {
        "name": "ipython",
        "version": 3
      },
      "file_extension": ".py",
      "mimetype": "text/x-python",
      "name": "python",
      "nbconvert_exporter": "python",
      "pygments_lexer": "ipython3",
      "version": "3.11.4"
    }
  },
  "nbformat": 4,
  "nbformat_minor": 0
}
