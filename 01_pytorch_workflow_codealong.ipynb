{
  "cells": [
    {
      "cell_type": "markdown",
      "metadata": {
        "colab_type": "text",
        "id": "view-in-github"
      },
      "source": [
        "<a href=\"https://colab.research.google.com/github/innovinitylabs/learning-pytorch/blob/main/01_pytorch_workflow_codealong.ipynb\" target=\"_parent\"><img src=\"https://colab.research.google.com/assets/colab-badge.svg\" alt=\"Open In Colab\"/></a>"
      ]
    },
    {
      "cell_type": "code",
      "execution_count": 1,
      "metadata": {
        "colab": {
          "base_uri": "https://localhost:8080/",
          "height": 35
        },
        "id": "9iicrKm4IVjD",
        "outputId": "403117b3-0cb6-47bf-b089-fdcbb4e0f20b"
      },
      "outputs": [
        {
          "data": {
            "text/plain": [
              "'2.1.0'"
            ]
          },
          "execution_count": 1,
          "metadata": {},
          "output_type": "execute_result"
        }
      ],
      "source": [
        "import torch\n",
        "from torch import nn\n",
        "import matplotlib.pyplot as plt\n",
        "\n",
        "\n",
        "torch.__version__"
      ]
    },
    {
      "cell_type": "markdown",
      "metadata": {
        "id": "g27FjDsREmQS"
      },
      "source": [
        "\n"
      ]
    },
    {
      "cell_type": "code",
      "execution_count": 2,
      "metadata": {
        "id": "tVkgHFJWEmjj"
      },
      "outputs": [],
      "source": [
        "weight = 0.7\n",
        "bias = 0.3 # weight and bias are known parameters\n",
        "\n",
        "start = 0\n",
        "end = 1\n",
        "step = 0.02\n",
        "\n",
        "X = torch.arange(start, end, step).unsqueeze(dim= 1)\n",
        "\n"
      ]
    },
    {
      "cell_type": "code",
      "execution_count": 3,
      "metadata": {
        "colab": {
          "base_uri": "https://localhost:8080/"
        },
        "id": "InXMbb4jGDM3",
        "outputId": "62554896-04f5-4909-aee9-cd0e43ac947d"
      },
      "outputs": [
        {
          "data": {
            "text/plain": [
              "tensor([[0.0000, 0.0200, 0.0400, 0.0600, 0.0800, 0.1000, 0.1200, 0.1400, 0.1600,\n",
              "         0.1800, 0.2000, 0.2200, 0.2400, 0.2600, 0.2800, 0.3000, 0.3200, 0.3400,\n",
              "         0.3600, 0.3800, 0.4000, 0.4200, 0.4400, 0.4600, 0.4800, 0.5000, 0.5200,\n",
              "         0.5400, 0.5600, 0.5800, 0.6000, 0.6200, 0.6400, 0.6600, 0.6800, 0.7000,\n",
              "         0.7200, 0.7400, 0.7600, 0.7800, 0.8000, 0.8200, 0.8400, 0.8600, 0.8800,\n",
              "         0.9000, 0.9200, 0.9400, 0.9600, 0.9800]])"
            ]
          },
          "execution_count": 3,
          "metadata": {},
          "output_type": "execute_result"
        }
      ],
      "source": [
        "torch.arange(start, end, step).unsqueeze(dim = 0)[:10]"
      ]
    },
    {
      "cell_type": "code",
      "execution_count": 4,
      "metadata": {
        "colab": {
          "base_uri": "https://localhost:8080/"
        },
        "id": "YI1FJCb2GGmA",
        "outputId": "b69de093-1f6c-40cf-b3a6-021cd02a40dd"
      },
      "outputs": [
        {
          "data": {
            "text/plain": [
              "tensor([[0.0000],\n",
              "        [0.0200],\n",
              "        [0.0400],\n",
              "        [0.0600],\n",
              "        [0.0800],\n",
              "        [0.1000],\n",
              "        [0.1200],\n",
              "        [0.1400],\n",
              "        [0.1600],\n",
              "        [0.1800]])"
            ]
          },
          "execution_count": 4,
          "metadata": {},
          "output_type": "execute_result"
        }
      ],
      "source": [
        "torch.arange(start, end, step).unsqueeze(dim = -1)[:10]"
      ]
    },
    {
      "cell_type": "code",
      "execution_count": 5,
      "metadata": {
        "colab": {
          "base_uri": "https://localhost:8080/"
        },
        "id": "1JtZ5awUGO0C",
        "outputId": "b32e7711-2a87-496a-bf2d-7439d4d55094"
      },
      "outputs": [
        {
          "data": {
            "text/plain": [
              "tensor([[0.0000, 0.0200, 0.0400, 0.0600, 0.0800, 0.1000, 0.1200, 0.1400, 0.1600,\n",
              "         0.1800, 0.2000, 0.2200, 0.2400, 0.2600, 0.2800, 0.3000, 0.3200, 0.3400,\n",
              "         0.3600, 0.3800, 0.4000, 0.4200, 0.4400, 0.4600, 0.4800, 0.5000, 0.5200,\n",
              "         0.5400, 0.5600, 0.5800, 0.6000, 0.6200, 0.6400, 0.6600, 0.6800, 0.7000,\n",
              "         0.7200, 0.7400, 0.7600, 0.7800, 0.8000, 0.8200, 0.8400, 0.8600, 0.8800,\n",
              "         0.9000, 0.9200, 0.9400, 0.9600, 0.9800]])"
            ]
          },
          "execution_count": 5,
          "metadata": {},
          "output_type": "execute_result"
        }
      ],
      "source": [
        "torch.arange(start, end, step).unsqueeze(dim = -2)[:10]"
      ]
    },
    {
      "cell_type": "code",
      "execution_count": 6,
      "metadata": {
        "id": "40txHyrMG6Ee"
      },
      "outputs": [],
      "source": [
        "y = weight * X + bias"
      ]
    },
    {
      "cell_type": "code",
      "execution_count": 7,
      "metadata": {
        "colab": {
          "base_uri": "https://localhost:8080/"
        },
        "id": "AfYzODJvHCDm",
        "outputId": "17233f04-e87a-4568-8793-7554eb6fc0da"
      },
      "outputs": [
        {
          "data": {
            "text/plain": [
              "(tensor([[0.0000],\n",
              "         [0.0200],\n",
              "         [0.0400],\n",
              "         [0.0600],\n",
              "         [0.0800],\n",
              "         [0.1000],\n",
              "         [0.1200],\n",
              "         [0.1400],\n",
              "         [0.1600],\n",
              "         [0.1800]]),\n",
              " tensor([[0.3000],\n",
              "         [0.3140],\n",
              "         [0.3280],\n",
              "         [0.3420],\n",
              "         [0.3560],\n",
              "         [0.3700],\n",
              "         [0.3840],\n",
              "         [0.3980],\n",
              "         [0.4120],\n",
              "         [0.4260]]))"
            ]
          },
          "execution_count": 7,
          "metadata": {},
          "output_type": "execute_result"
        }
      ],
      "source": [
        "X[:10], y[:10]"
      ]
    },
    {
      "cell_type": "code",
      "execution_count": 8,
      "metadata": {
        "colab": {
          "base_uri": "https://localhost:8080/"
        },
        "id": "Xpxe5wQcHsyA",
        "outputId": "1d6921e3-9183-4066-a91c-2ab5f71a0eaa"
      },
      "outputs": [
        {
          "data": {
            "text/plain": [
              "(50, 50)"
            ]
          },
          "execution_count": 8,
          "metadata": {},
          "output_type": "execute_result"
        }
      ],
      "source": [
        "len(X), len(y)"
      ]
    },
    {
      "cell_type": "code",
      "execution_count": 9,
      "metadata": {
        "colab": {
          "base_uri": "https://localhost:8080/"
        },
        "id": "YUuR2rLl_ggt",
        "outputId": "278be613-2133-4fae-ca04-f7b5d056da86"
      },
      "outputs": [
        {
          "data": {
            "text/plain": [
              "(40, 40, 10, 10)"
            ]
          },
          "execution_count": 9,
          "metadata": {},
          "output_type": "execute_result"
        }
      ],
      "source": [
        "train_samp = int(.8 * len(X))\n",
        "X_train, y_train = X[:train_samp], y[:train_samp]\n",
        "X_test, y_test = X[train_samp:], y[train_samp:]\n",
        "\n",
        "len(X_train),len(y_train),len(X_test),len(y_test),"
      ]
    },
    {
      "cell_type": "markdown",
      "metadata": {
        "id": "KLF6KcInCYVY"
      },
      "source": [
        "to visualise data"
      ]
    },
    {
      "cell_type": "code",
      "execution_count": 10,
      "metadata": {
        "id": "9IduqDNvCais"
      },
      "outputs": [],
      "source": [
        "def plot_pred(train_data= X_train, train_labels= y_train,\n",
        "              test_data= X_test, test_labels= y_test,\n",
        "              predictions= None):\n",
        "  plt.figure(figsize=(10,7))\n",
        "\n",
        "  plt.scatter(train_data, train_labels, c='b', s=4, label='Training Data')\n",
        "\n",
        "  plt.scatter(test_data, test_labels, c='g', s=4, label='Test Data')\n",
        "\n",
        "  if predictions is not None:\n",
        "    plt.scatter(test_data, predictions, c='r', s=4, label='Prediction')\n",
        "\n",
        "  plt.legend(prop={'size': 14})\n"
      ]
    },
    {
      "cell_type": "code",
      "execution_count": 11,
      "metadata": {
        "colab": {
          "base_uri": "https://localhost:8080/",
          "height": 599
        },
        "id": "xF5hgrBiFCbN",
        "outputId": "2f91c72e-a823-4fdc-a7af-68dbb50ed88b"
      },
      "outputs": [
        {
          "data": {
            "image/png": "[encoded data removed]",
            "text/plain": [
              "<Figure size 1000x700 with 1 Axes>"
            ]
          },
          "metadata": {},
          "output_type": "display_data"
        }
      ],
      "source": [
        "plot_pred()"
      ]
    },
    {
      "cell_type": "markdown",
      "metadata": {
        "id": "lkmvZ2g2HVyA"
      },
      "source": [
        "## building first pytorch model"
      ]
    },
    {
      "cell_type": "code",
      "execution_count": 12,
      "metadata": {
        "id": "eCwO4lJcHYjp"
      },
      "outputs": [],
      "source": [
        "class LinearRegressionModel(nn.Module):\n",
        "  def __init__(self):\n",
        "    super().__init__()\n",
        "\n",
        "    self.weights = nn.Parameter(torch.randn(1, requires_grad=True, dtype=torch.float))\n",
        "    self.bias = nn.Parameter(torch.randn(1, requires_grad=True, dtype=torch.float))\n",
        "\n",
        "    #forward method\n",
        "  def forward(self, x: torch.Tensor) -> torch.Tensor:\n",
        "    return self.weights * x + self.bias\n"
      ]
    },
    {
      "cell_type": "code",
      "execution_count": 13,
      "metadata": {},
      "outputs": [
        {
          "data": {
            "text/plain": [
              "[Parameter containing:\n",
              " tensor([0.3367], requires_grad=True),\n",
              " Parameter containing:\n",
              " tensor([0.1288], requires_grad=True)]"
            ]
          },
          "execution_count": 13,
          "metadata": {},
          "output_type": "execute_result"
        }
      ],
      "source": [
        "torch.manual_seed(42)\n",
        "\n",
        "model_0 = LinearRegressionModel()\n",
        "\n",
        "list(model_0.parameters())"
      ]
    },
    {
      "cell_type": "code",
      "execution_count": 14,
      "metadata": {},
      "outputs": [
        {
          "data": {
            "text/plain": [
              "OrderedDict([('weights', tensor([0.3367])), ('bias', tensor([0.1288]))])"
            ]
          },
          "execution_count": 14,
          "metadata": {},
          "output_type": "execute_result"
        }
      ],
      "source": [
        "model_0.state_dict()\n"
      ]
    },
    {
      "cell_type": "markdown",
      "metadata": {},
      "source": [
        "makign predictions with inference mode"
      ]
    },
    {
      "cell_type": "code",
      "execution_count": 15,
      "metadata": {},
      "outputs": [
        {
          "data": {
            "text/plain": [
              "tensor([[0.3982],\n",
              "        [0.4049],\n",
              "        [0.4116],\n",
              "        [0.4184],\n",
              "        [0.4251],\n",
              "        [0.4318],\n",
              "        [0.4386],\n",
              "        [0.4453],\n",
              "        [0.4520],\n",
              "        [0.4588]], grad_fn=<AddBackward0>)"
            ]
          },
          "execution_count": 15,
          "metadata": {},
          "output_type": "execute_result"
        }
      ],
      "source": [
        "y2_pred = model_0(X_test) #this uses grad\n",
        "y2_pred"
      ]
    },
    {
      "cell_type": "code",
      "execution_count": 16,
      "metadata": {},
      "outputs": [
        {
          "data": {
            "text/plain": [
              "(tensor([[0.3982],\n",
              "         [0.4049],\n",
              "         [0.4116],\n",
              "         [0.4184],\n",
              "         [0.4251],\n",
              "         [0.4318],\n",
              "         [0.4386],\n",
              "         [0.4453],\n",
              "         [0.4520],\n",
              "         [0.4588]]),\n",
              " tensor([[0.8600],\n",
              "         [0.8740],\n",
              "         [0.8880],\n",
              "         [0.9020],\n",
              "         [0.9160],\n",
              "         [0.9300],\n",
              "         [0.9440],\n",
              "         [0.9580],\n",
              "         [0.9720],\n",
              "         [0.9860]]))"
            ]
          },
          "execution_count": 16,
          "metadata": {},
          "output_type": "execute_result"
        }
      ],
      "source": [
        "with torch.inference_mode():\n",
        "    y_pred = model_0(X_test)\n",
        "\n",
        "y_pred , y_test"
      ]
    },
    {
      "cell_type": "markdown",
      "metadata": {},
      "source": [
        "this is to make the prediction run faster without using fancy things like grad. we can also use torch.nograd()"
      ]
    },
    {
      "cell_type": "code",
      "execution_count": 17,
      "metadata": {},
      "outputs": [
        {
          "data": {
            "image/png": "[encoded data removed]",
            "text/plain": [
              "<Figure size 1000x700 with 1 Axes>"
            ]
          },
          "metadata": {},
          "output_type": "display_data"
        }
      ],
      "source": [
        "plot_pred(predictions=y_pred)"
      ]
    },
    {
      "cell_type": "markdown",
      "metadata": {},
      "source": [
        "setting up loss functions (mean absolute error here)"
      ]
    },
    {
      "cell_type": "code",
      "execution_count": 18,
      "metadata": {},
      "outputs": [],
      "source": [
        "loss_fn = nn.L1Loss()"
      ]
    },
    {
      "cell_type": "markdown",
      "metadata": {},
      "source": [
        "setting up optimiser (we use sgd here)"
      ]
    },
    {
      "cell_type": "code",
      "execution_count": 19,
      "metadata": {},
      "outputs": [],
      "source": [
        "opti = torch.optim.SGD(params=model_0.parameters(), lr=0.001)"
      ]
    },
    {
      "cell_type": "markdown",
      "metadata": {},
      "source": [
        "building a training loop"
      ]
    },
    {
      "cell_type": "code",
      "execution_count": 20,
      "metadata": {},
      "outputs": [
        {
          "name": "stdout",
          "output_type": "stream",
          "text": [
            "epoch: 0, test loss: 0.4931890368461609, loss: 0.31288138031959534\n",
            "OrderedDict([('weights', tensor([0.3371])), ('bias', tensor([0.1298]))])\n",
            "epoch: 10, test loss: 0.4797181189060211, loss: 0.3013603389263153\n",
            "OrderedDict([('weights', tensor([0.3410])), ('bias', tensor([0.1398]))])\n",
            "epoch: 20, test loss: 0.4662471413612366, loss: 0.28983938694000244\n",
            "OrderedDict([('weights', tensor([0.3449])), ('bias', tensor([0.1498]))])\n",
            "epoch: 30, test loss: 0.4527761936187744, loss: 0.2783183455467224\n",
            "OrderedDict([('weights', tensor([0.3488])), ('bias', tensor([0.1598]))])\n",
            "epoch: 40, test loss: 0.43930521607398987, loss: 0.26679736375808716\n",
            "OrderedDict([('weights', tensor([0.3527])), ('bias', tensor([0.1698]))])\n",
            "epoch: 50, test loss: 0.4258342385292053, loss: 0.2552763819694519\n",
            "OrderedDict([('weights', tensor([0.3566])), ('bias', tensor([0.1798]))])\n",
            "epoch: 60, test loss: 0.41236335039138794, loss: 0.24375538527965546\n",
            "OrderedDict([('weights', tensor([0.3605])), ('bias', tensor([0.1898]))])\n",
            "epoch: 70, test loss: 0.398892343044281, loss: 0.232234388589859\n",
            "OrderedDict([('weights', tensor([0.3644])), ('bias', tensor([0.1998]))])\n",
            "epoch: 80, test loss: 0.38542139530181885, loss: 0.22071340680122375\n",
            "OrderedDict([('weights', tensor([0.3683])), ('bias', tensor([0.2098]))])\n",
            "epoch: 90, test loss: 0.3719504475593567, loss: 0.2091923952102661\n",
            "OrderedDict([('weights', tensor([0.3722])), ('bias', tensor([0.2198]))])\n",
            "epoch: 100, test loss: 0.35847947001457214, loss: 0.19767141342163086\n",
            "OrderedDict([('weights', tensor([0.3761])), ('bias', tensor([0.2298]))])\n",
            "epoch: 110, test loss: 0.34500852227211, loss: 0.18615040183067322\n",
            "OrderedDict([('weights', tensor([0.3800])), ('bias', tensor([0.2398]))])\n",
            "epoch: 120, test loss: 0.33153754472732544, loss: 0.17462942004203796\n",
            "OrderedDict([('weights', tensor([0.3839])), ('bias', tensor([0.2498]))])\n",
            "epoch: 130, test loss: 0.3180667459964752, loss: 0.16310855746269226\n",
            "OrderedDict([('weights', tensor([0.3878])), ('bias', tensor([0.2598]))])\n",
            "epoch: 140, test loss: 0.304595947265625, loss: 0.15158770978450775\n",
            "OrderedDict([('weights', tensor([0.3917])), ('bias', tensor([0.2698]))])\n",
            "epoch: 150, test loss: 0.2911251187324524, loss: 0.14006686210632324\n",
            "OrderedDict([('weights', tensor([0.3956])), ('bias', tensor([0.2798]))])\n",
            "epoch: 160, test loss: 0.2776543200016022, loss: 0.12854602932929993\n",
            "OrderedDict([('weights', tensor([0.3995])), ('bias', tensor([0.2898]))])\n",
            "epoch: 170, test loss: 0.26418352127075195, loss: 0.11702518165111542\n",
            "OrderedDict([('weights', tensor([0.4034])), ('bias', tensor([0.2998]))])\n",
            "epoch: 180, test loss: 0.251315176486969, loss: 0.10654275119304657\n",
            "OrderedDict([('weights', tensor([0.4073])), ('bias', tensor([0.3092]))])\n",
            "epoch: 190, test loss: 0.2392154484987259, loss: 0.09747617691755295\n",
            "OrderedDict([('weights', tensor([0.4112])), ('bias', tensor([0.3179]))])\n",
            "epoch: 200, test loss: 0.22795839607715607, loss: 0.08973254263401031\n",
            "OrderedDict([('weights', tensor([0.4150])), ('bias', tensor([0.3257]))])\n",
            "epoch: 210, test loss: 0.21740305423736572, loss: 0.08306284993886948\n",
            "OrderedDict([('weights', tensor([0.4188])), ('bias', tensor([0.3329]))])\n",
            "epoch: 220, test loss: 0.20750825107097626, loss: 0.07729282230138779\n",
            "OrderedDict([('weights', tensor([0.4225])), ('bias', tensor([0.3395]))])\n",
            "epoch: 230, test loss: 0.19840054214000702, loss: 0.07242877781391144\n",
            "OrderedDict([('weights', tensor([0.4261])), ('bias', tensor([0.3454]))])\n",
            "epoch: 240, test loss: 0.18992407619953156, loss: 0.06828799843788147\n",
            "OrderedDict([('weights', tensor([0.4296])), ('bias', tensor([0.3508]))])\n",
            "epoch: 250, test loss: 0.18208928406238556, loss: 0.06476505100727081\n",
            "OrderedDict([('weights', tensor([0.4330])), ('bias', tensor([0.3556]))])\n",
            "epoch: 260, test loss: 0.17478716373443604, loss: 0.06174134090542793\n",
            "OrderedDict([('weights', tensor([0.4363])), ('bias', tensor([0.3599]))])\n",
            "epoch: 270, test loss: 0.16802480816841125, loss: 0.05915876105427742\n",
            "OrderedDict([('weights', tensor([0.4395])), ('bias', tensor([0.3638]))])\n",
            "epoch: 280, test loss: 0.161748006939888, loss: 0.0569603256881237\n",
            "OrderedDict([('weights', tensor([0.4426])), ('bias', tensor([0.3673]))])\n",
            "epoch: 290, test loss: 0.15608695149421692, loss: 0.05514555424451828\n",
            "OrderedDict([('weights', tensor([0.4456])), ('bias', tensor([0.3703]))])\n",
            "epoch: 300, test loss: 0.15086300671100616, loss: 0.053577303886413574\n",
            "OrderedDict([('weights', tensor([0.4485])), ('bias', tensor([0.3730]))])\n",
            "epoch: 310, test loss: 0.14595307409763336, loss: 0.05218071490526199\n",
            "OrderedDict([('weights', tensor([0.4513])), ('bias', tensor([0.3754]))])\n",
            "epoch: 320, test loss: 0.1415499746799469, loss: 0.05105169489979744\n",
            "OrderedDict([('weights', tensor([0.4540])), ('bias', tensor([0.3774]))])\n",
            "epoch: 330, test loss: 0.1374681293964386, loss: 0.050030313432216644\n",
            "OrderedDict([('weights', tensor([0.4567])), ('bias', tensor([0.3791]))])\n",
            "epoch: 340, test loss: 0.13370750844478607, loss: 0.049160148948431015\n",
            "OrderedDict([('weights', tensor([0.4592])), ('bias', tensor([0.3806]))])\n",
            "epoch: 350, test loss: 0.13020753860473633, loss: 0.04836020618677139\n",
            "OrderedDict([('weights', tensor([0.4617])), ('bias', tensor([0.3819]))])\n",
            "epoch: 360, test loss: 0.12709848582744598, loss: 0.04769856110215187\n",
            "OrderedDict([('weights', tensor([0.4640])), ('bias', tensor([0.3829]))])\n",
            "epoch: 370, test loss: 0.12398938834667206, loss: 0.04703690484166145\n",
            "OrderedDict([('weights', tensor([0.4664])), ('bias', tensor([0.3839]))])\n",
            "epoch: 380, test loss: 0.12147434055805206, loss: 0.046500932425260544\n",
            "OrderedDict([('weights', tensor([0.4686])), ('bias', tensor([0.3845]))])\n",
            "epoch: 390, test loss: 0.11902527511119843, loss: 0.045996345579624176\n",
            "OrderedDict([('weights', tensor([0.4708])), ('bias', tensor([0.3850]))])\n",
            "epoch: 400, test loss: 0.11657620966434479, loss: 0.04549176245927811\n",
            "OrderedDict([('weights', tensor([0.4730])), ('bias', tensor([0.3855]))])\n",
            "epoch: 410, test loss: 0.11432783305644989, loss: 0.045014552772045135\n",
            "OrderedDict([('weights', tensor([0.4751])), ('bias', tensor([0.3858]))])\n",
            "epoch: 420, test loss: 0.11254779994487762, loss: 0.04461454600095749\n",
            "OrderedDict([('weights', tensor([0.4771])), ('bias', tensor([0.3858]))])\n",
            "epoch: 430, test loss: 0.11076776683330536, loss: 0.04421453922986984\n",
            "OrderedDict([('weights', tensor([0.4791])), ('bias', tensor([0.3858]))])\n",
            "epoch: 440, test loss: 0.1089877337217331, loss: 0.043814532458782196\n",
            "OrderedDict([('weights', tensor([0.4811])), ('bias', tensor([0.3858]))])\n",
            "epoch: 450, test loss: 0.10720770061016083, loss: 0.04341452196240425\n",
            "OrderedDict([('weights', tensor([0.4831])), ('bias', tensor([0.3858]))])\n",
            "epoch: 460, test loss: 0.10542766749858856, loss: 0.04301450774073601\n",
            "OrderedDict([('weights', tensor([0.4851])), ('bias', tensor([0.3858]))])\n",
            "epoch: 470, test loss: 0.10419009625911713, loss: 0.04265119880437851\n",
            "OrderedDict([('weights', tensor([0.4870])), ('bias', tensor([0.3854]))])\n",
            "epoch: 480, test loss: 0.1030881255865097, loss: 0.04230218380689621\n",
            "OrderedDict([('weights', tensor([0.4888])), ('bias', tensor([0.3849]))])\n",
            "epoch: 490, test loss: 0.10198615491390228, loss: 0.04195316880941391\n",
            "OrderedDict([('weights', tensor([0.4906])), ('bias', tensor([0.3844]))])\n",
            "epoch: 500, test loss: 0.10088418424129486, loss: 0.04160415381193161\n",
            "OrderedDict([('weights', tensor([0.4924])), ('bias', tensor([0.3839]))])\n",
            "epoch: 510, test loss: 0.09978221356868744, loss: 0.04125513881444931\n",
            "OrderedDict([('weights', tensor([0.4942])), ('bias', tensor([0.3834]))])\n",
            "epoch: 520, test loss: 0.09868024289608002, loss: 0.04090612381696701\n",
            "OrderedDict([('weights', tensor([0.4960])), ('bias', tensor([0.3829]))])\n",
            "epoch: 530, test loss: 0.0975782722234726, loss: 0.04055710881948471\n",
            "OrderedDict([('weights', tensor([0.4978])), ('bias', tensor([0.3824]))])\n",
            "epoch: 540, test loss: 0.09647630155086517, loss: 0.04020809382200241\n",
            "OrderedDict([('weights', tensor([0.4996])), ('bias', tensor([0.3819]))])\n",
            "epoch: 550, test loss: 0.09537436813116074, loss: 0.03985908254981041\n",
            "OrderedDict([('weights', tensor([0.5014])), ('bias', tensor([0.3814]))])\n",
            "epoch: 560, test loss: 0.09427239745855331, loss: 0.03951007127761841\n",
            "OrderedDict([('weights', tensor([0.5032])), ('bias', tensor([0.3809]))])\n",
            "epoch: 570, test loss: 0.09317042678594589, loss: 0.03916105255484581\n",
            "OrderedDict([('weights', tensor([0.5050])), ('bias', tensor([0.3804]))])\n",
            "epoch: 580, test loss: 0.09206845611333847, loss: 0.03881204128265381\n",
            "OrderedDict([('weights', tensor([0.5068])), ('bias', tensor([0.3799]))])\n",
            "epoch: 590, test loss: 0.09096648544073105, loss: 0.03846302255988121\n",
            "OrderedDict([('weights', tensor([0.5086])), ('bias', tensor([0.3794]))])\n",
            "epoch: 600, test loss: 0.08986451476812363, loss: 0.03811401128768921\n",
            "OrderedDict([('weights', tensor([0.5104])), ('bias', tensor([0.3789]))])\n",
            "epoch: 610, test loss: 0.0887625440955162, loss: 0.03776499256491661\n",
            "OrderedDict([('weights', tensor([0.5122])), ('bias', tensor([0.3784]))])\n",
            "epoch: 620, test loss: 0.08766057342290878, loss: 0.03741598129272461\n",
            "OrderedDict([('weights', tensor([0.5140])), ('bias', tensor([0.3779]))])\n",
            "epoch: 630, test loss: 0.08662726730108261, loss: 0.037067197263240814\n",
            "OrderedDict([('weights', tensor([0.5157])), ('bias', tensor([0.3774]))])\n",
            "epoch: 640, test loss: 0.08579986542463303, loss: 0.03672432899475098\n",
            "OrderedDict([('weights', tensor([0.5175])), ('bias', tensor([0.3767]))])\n",
            "epoch: 650, test loss: 0.08497253060340881, loss: 0.03638043254613876\n",
            "OrderedDict([('weights', tensor([0.5192])), ('bias', tensor([0.3760]))])\n",
            "epoch: 660, test loss: 0.08421380817890167, loss: 0.036036938428878784\n",
            "OrderedDict([('weights', tensor([0.5209])), ('bias', tensor([0.3752]))])\n",
            "epoch: 670, test loss: 0.08338643610477448, loss: 0.03569390997290611\n",
            "OrderedDict([('weights', tensor([0.5226])), ('bias', tensor([0.3745]))])\n",
            "epoch: 680, test loss: 0.08255907148122787, loss: 0.035350002348423004\n",
            "OrderedDict([('weights', tensor([0.5243])), ('bias', tensor([0.3738]))])\n",
            "epoch: 690, test loss: 0.08180035650730133, loss: 0.035006679594516754\n",
            "OrderedDict([('weights', tensor([0.5260])), ('bias', tensor([0.3731]))])\n",
            "epoch: 700, test loss: 0.08097299933433533, loss: 0.03466346859931946\n",
            "OrderedDict([('weights', tensor([0.5277])), ('bias', tensor([0.3724]))])\n",
            "epoch: 710, test loss: 0.08014564216136932, loss: 0.03431956097483635\n",
            "OrderedDict([('weights', tensor([0.5294])), ('bias', tensor([0.3717]))])\n",
            "epoch: 720, test loss: 0.07938691228628159, loss: 0.03397642448544502\n",
            "OrderedDict([('weights', tensor([0.5311])), ('bias', tensor([0.3709]))])\n",
            "epoch: 730, test loss: 0.07855955511331558, loss: 0.0336330309510231\n",
            "OrderedDict([('weights', tensor([0.5328])), ('bias', tensor([0.3702]))])\n",
            "epoch: 740, test loss: 0.07773219794034958, loss: 0.03328912705183029\n",
            "OrderedDict([('weights', tensor([0.5346])), ('bias', tensor([0.3695]))])\n",
            "epoch: 750, test loss: 0.07697348296642303, loss: 0.032946161925792694\n",
            "OrderedDict([('weights', tensor([0.5363])), ('bias', tensor([0.3688]))])\n",
            "epoch: 760, test loss: 0.07614611089229584, loss: 0.032602597028017044\n",
            "OrderedDict([('weights', tensor([0.5380])), ('bias', tensor([0.3681]))])\n",
            "epoch: 770, test loss: 0.07538740336894989, loss: 0.0322587676346302\n",
            "OrderedDict([('weights', tensor([0.5397])), ('bias', tensor([0.3673]))])\n",
            "epoch: 780, test loss: 0.07456003129482269, loss: 0.031915903091430664\n",
            "OrderedDict([('weights', tensor([0.5414])), ('bias', tensor([0.3666]))])\n",
            "epoch: 790, test loss: 0.07373266667127609, loss: 0.031572163105010986\n",
            "OrderedDict([('weights', tensor([0.5431])), ('bias', tensor([0.3659]))])\n",
            "epoch: 800, test loss: 0.07297395914793015, loss: 0.03122851625084877\n",
            "OrderedDict([('weights', tensor([0.5448])), ('bias', tensor([0.3652]))])\n",
            "epoch: 810, test loss: 0.07214658707380295, loss: 0.03088562563061714\n",
            "OrderedDict([('weights', tensor([0.5465])), ('bias', tensor([0.3645]))])\n",
            "epoch: 820, test loss: 0.07131922990083694, loss: 0.03054172359406948\n",
            "OrderedDict([('weights', tensor([0.5482])), ('bias', tensor([0.3638]))])\n",
            "epoch: 830, test loss: 0.0705605149269104, loss: 0.030198251828551292\n",
            "OrderedDict([('weights', tensor([0.5499])), ('bias', tensor([0.3630]))])\n",
            "epoch: 840, test loss: 0.0697331428527832, loss: 0.029855191707611084\n",
            "OrderedDict([('weights', tensor([0.5516])), ('bias', tensor([0.3623]))])\n",
            "epoch: 850, test loss: 0.0689057856798172, loss: 0.029511287808418274\n",
            "OrderedDict([('weights', tensor([0.5534])), ('bias', tensor([0.3616]))])\n",
            "epoch: 860, test loss: 0.06814707070589066, loss: 0.02916799858212471\n",
            "OrderedDict([('weights', tensor([0.5551])), ('bias', tensor([0.3609]))])\n",
            "epoch: 870, test loss: 0.06731969118118286, loss: 0.028824755921959877\n",
            "OrderedDict([('weights', tensor([0.5568])), ('bias', tensor([0.3602]))])\n",
            "epoch: 880, test loss: 0.06649234890937805, loss: 0.028480852022767067\n",
            "OrderedDict([('weights', tensor([0.5585])), ('bias', tensor([0.3595]))])\n",
            "epoch: 890, test loss: 0.06573362648487091, loss: 0.02813773788511753\n",
            "OrderedDict([('weights', tensor([0.5602])), ('bias', tensor([0.3587]))])\n",
            "epoch: 900, test loss: 0.06490625441074371, loss: 0.027794327586889267\n",
            "OrderedDict([('weights', tensor([0.5619])), ('bias', tensor([0.3580]))])\n",
            "epoch: 910, test loss: 0.06407888978719711, loss: 0.02745041809976101\n",
            "OrderedDict([('weights', tensor([0.5636])), ('bias', tensor([0.3573]))])\n",
            "epoch: 920, test loss: 0.06332017481327057, loss: 0.0271074827760458\n",
            "OrderedDict([('weights', tensor([0.5653])), ('bias', tensor([0.3566]))])\n",
            "epoch: 930, test loss: 0.062492817640304565, loss: 0.026763886213302612\n",
            "OrderedDict([('weights', tensor([0.5670])), ('bias', tensor([0.3559]))])\n",
            "epoch: 940, test loss: 0.06173409894108772, loss: 0.02642008289694786\n",
            "OrderedDict([('weights', tensor([0.5687])), ('bias', tensor([0.3551]))])\n",
            "epoch: 950, test loss: 0.06090673804283142, loss: 0.02607722207903862\n",
            "OrderedDict([('weights', tensor([0.5704])), ('bias', tensor([0.3544]))])\n",
            "epoch: 960, test loss: 0.06007937341928482, loss: 0.025733450427651405\n",
            "OrderedDict([('weights', tensor([0.5721])), ('bias', tensor([0.3537]))])\n",
            "epoch: 970, test loss: 0.05932066589593887, loss: 0.02538982965052128\n",
            "OrderedDict([('weights', tensor([0.5738])), ('bias', tensor([0.3530]))])\n",
            "epoch: 980, test loss: 0.058493297547101974, loss: 0.025046909227967262\n",
            "OrderedDict([('weights', tensor([0.5756])), ('bias', tensor([0.3523]))])\n",
            "epoch: 990, test loss: 0.057665932923555374, loss: 0.0247030109167099\n",
            "OrderedDict([('weights', tensor([0.5773])), ('bias', tensor([0.3516]))])\n",
            "epoch: 1000, test loss: 0.05690721794962883, loss: 0.02435957081615925\n",
            "OrderedDict([('weights', tensor([0.5790])), ('bias', tensor([0.3508]))])\n",
            "epoch: 1010, test loss: 0.05607985332608223, loss: 0.024016480892896652\n",
            "OrderedDict([('weights', tensor([0.5807])), ('bias', tensor([0.3501]))])\n",
            "epoch: 1020, test loss: 0.055252473801374435, loss: 0.02367258071899414\n",
            "OrderedDict([('weights', tensor([0.5824])), ('bias', tensor([0.3494]))])\n",
            "epoch: 1030, test loss: 0.054493773728609085, loss: 0.023329313844442368\n",
            "OrderedDict([('weights', tensor([0.5841])), ('bias', tensor([0.3487]))])\n",
            "epoch: 1040, test loss: 0.05366641283035278, loss: 0.022986043244600296\n",
            "OrderedDict([('weights', tensor([0.5858])), ('bias', tensor([0.3480]))])\n",
            "epoch: 1050, test loss: 0.05283904820680618, loss: 0.022642139345407486\n",
            "OrderedDict([('weights', tensor([0.5875])), ('bias', tensor([0.3473]))])\n",
            "epoch: 1060, test loss: 0.05208033323287964, loss: 0.02229905314743519\n",
            "OrderedDict([('weights', tensor([0.5892])), ('bias', tensor([0.3465]))])\n",
            "epoch: 1070, test loss: 0.05125296115875244, loss: 0.02195560745894909\n",
            "OrderedDict([('weights', tensor([0.5909])), ('bias', tensor([0.3458]))])\n",
            "epoch: 1080, test loss: 0.05042559653520584, loss: 0.021611705422401428\n",
            "OrderedDict([('weights', tensor([0.5927])), ('bias', tensor([0.3451]))])\n",
            "epoch: 1090, test loss: 0.0496668815612793, loss: 0.021268798038363457\n",
            "OrderedDict([('weights', tensor([0.5944])), ('bias', tensor([0.3444]))])\n",
            "epoch: 1100, test loss: 0.0488395169377327, loss: 0.02092517539858818\n",
            "OrderedDict([('weights', tensor([0.5961])), ('bias', tensor([0.3437]))])\n",
            "epoch: 1110, test loss: 0.04808080196380615, loss: 0.020581405609846115\n",
            "OrderedDict([('weights', tensor([0.5978])), ('bias', tensor([0.3429]))])\n",
            "epoch: 1120, test loss: 0.047253452241420746, loss: 0.020238537341356277\n",
            "OrderedDict([('weights', tensor([0.5995])), ('bias', tensor([0.3422]))])\n",
            "epoch: 1130, test loss: 0.04642607644200325, loss: 0.01989474520087242\n",
            "OrderedDict([('weights', tensor([0.6012])), ('bias', tensor([0.3415]))])\n",
            "epoch: 1140, test loss: 0.0456673689186573, loss: 0.019551148638129234\n",
            "OrderedDict([('weights', tensor([0.6029])), ('bias', tensor([0.3408]))])\n",
            "epoch: 1150, test loss: 0.04483998939394951, loss: 0.019208211451768875\n",
            "OrderedDict([('weights', tensor([0.6046])), ('bias', tensor([0.3401]))])\n",
            "epoch: 1160, test loss: 0.044012635946273804, loss: 0.018864300101995468\n",
            "OrderedDict([('weights', tensor([0.6063])), ('bias', tensor([0.3394]))])\n",
            "epoch: 1170, test loss: 0.04325391724705696, loss: 0.018520886078476906\n",
            "OrderedDict([('weights', tensor([0.6080])), ('bias', tensor([0.3386]))])\n",
            "epoch: 1180, test loss: 0.04242655634880066, loss: 0.01817776821553707\n",
            "OrderedDict([('weights', tensor([0.6097])), ('bias', tensor([0.3379]))])\n",
            "epoch: 1190, test loss: 0.04159919545054436, loss: 0.01783386431634426\n",
            "OrderedDict([('weights', tensor([0.6115])), ('bias', tensor([0.3372]))])\n",
            "epoch: 1200, test loss: 0.04084048420190811, loss: 0.017490629106760025\n",
            "OrderedDict([('weights', tensor([0.6131])), ('bias', tensor([0.3365]))])\n",
            "epoch: 1210, test loss: 0.040013112127780914, loss: 0.017147328704595566\n",
            "OrderedDict([('weights', tensor([0.6149])), ('bias', tensor([0.3358]))])\n",
            "epoch: 1220, test loss: 0.03918575122952461, loss: 0.016803428530693054\n",
            "OrderedDict([('weights', tensor([0.6166])), ('bias', tensor([0.3351]))])\n",
            "epoch: 1230, test loss: 0.03842703625559807, loss: 0.016460372135043144\n",
            "OrderedDict([('weights', tensor([0.6183])), ('bias', tensor([0.3343]))])\n",
            "epoch: 1240, test loss: 0.03759966418147087, loss: 0.016116898506879807\n",
            "OrderedDict([('weights', tensor([0.6200])), ('bias', tensor([0.3336]))])\n",
            "epoch: 1250, test loss: 0.036772288382053375, loss: 0.015772998332977295\n",
            "OrderedDict([('weights', tensor([0.6217])), ('bias', tensor([0.3329]))])\n",
            "epoch: 1260, test loss: 0.03601359575986862, loss: 0.01543011236935854\n",
            "OrderedDict([('weights', tensor([0.6234])), ('bias', tensor([0.3322]))])\n",
            "epoch: 1270, test loss: 0.03518623113632202, loss: 0.015086461789906025\n",
            "OrderedDict([('weights', tensor([0.6251])), ('bias', tensor([0.3315]))])\n",
            "epoch: 1280, test loss: 0.03442750498652458, loss: 0.014742719009518623\n",
            "OrderedDict([('weights', tensor([0.6268])), ('bias', tensor([0.3307]))])\n",
            "epoch: 1290, test loss: 0.03360014408826828, loss: 0.01439985167235136\n",
            "OrderedDict([('weights', tensor([0.6285])), ('bias', tensor([0.3300]))])\n",
            "epoch: 1300, test loss: 0.03277278691530228, loss: 0.014056026935577393\n",
            "OrderedDict([('weights', tensor([0.6302])), ('bias', tensor([0.3293]))])\n",
            "epoch: 1310, test loss: 0.03201407939195633, loss: 0.013712461106479168\n",
            "OrderedDict([('weights', tensor([0.6319])), ('bias', tensor([0.3286]))])\n",
            "epoch: 1320, test loss: 0.031186699867248535, loss: 0.013369495049118996\n",
            "OrderedDict([('weights', tensor([0.6337])), ('bias', tensor([0.3279]))])\n",
            "epoch: 1330, test loss: 0.030359338968992233, loss: 0.01302559394389391\n",
            "OrderedDict([('weights', tensor([0.6354])), ('bias', tensor([0.3272]))])\n",
            "epoch: 1340, test loss: 0.029600614681839943, loss: 0.012682202272117138\n",
            "OrderedDict([('weights', tensor([0.6371])), ('bias', tensor([0.3264]))])\n",
            "epoch: 1350, test loss: 0.028773266822099686, loss: 0.012339058332145214\n",
            "OrderedDict([('weights', tensor([0.6388])), ('bias', tensor([0.3257]))])\n",
            "epoch: 1360, test loss: 0.02794589474797249, loss: 0.011995161883533001\n",
            "OrderedDict([('weights', tensor([0.6405])), ('bias', tensor([0.3250]))])\n",
            "epoch: 1370, test loss: 0.02718718722462654, loss: 0.011651947163045406\n",
            "OrderedDict([('weights', tensor([0.6422])), ('bias', tensor([0.3243]))])\n",
            "epoch: 1380, test loss: 0.026359815150499344, loss: 0.011308629997074604\n",
            "OrderedDict([('weights', tensor([0.6439])), ('bias', tensor([0.3236]))])\n",
            "epoch: 1390, test loss: 0.025532448664307594, loss: 0.010964717715978622\n",
            "OrderedDict([('weights', tensor([0.6456])), ('bias', tensor([0.3229]))])\n",
            "epoch: 1400, test loss: 0.0247737355530262, loss: 0.010621683672070503\n",
            "OrderedDict([('weights', tensor([0.6473])), ('bias', tensor([0.3221]))])\n",
            "epoch: 1410, test loss: 0.023946374654769897, loss: 0.0102781867608428\n",
            "OrderedDict([('weights', tensor([0.6490])), ('bias', tensor([0.3214]))])\n",
            "epoch: 1420, test loss: 0.023187648504972458, loss: 0.009934292174875736\n",
            "OrderedDict([('weights', tensor([0.6507])), ('bias', tensor([0.3207]))])\n",
            "epoch: 1430, test loss: 0.0223603006452322, loss: 0.009591430425643921\n",
            "OrderedDict([('weights', tensor([0.6525])), ('bias', tensor([0.3200]))])\n",
            "epoch: 1440, test loss: 0.021532922983169556, loss: 0.009247747249901295\n",
            "OrderedDict([('weights', tensor([0.6542])), ('bias', tensor([0.3193]))])\n",
            "epoch: 1450, test loss: 0.020774226635694504, loss: 0.00890403799712658\n",
            "OrderedDict([('weights', tensor([0.6559])), ('bias', tensor([0.3185]))])\n",
            "epoch: 1460, test loss: 0.019946854561567307, loss: 0.008561170659959316\n",
            "OrderedDict([('weights', tensor([0.6576])), ('bias', tensor([0.3178]))])\n",
            "epoch: 1470, test loss: 0.01911948248744011, loss: 0.00821731798350811\n",
            "OrderedDict([('weights', tensor([0.6593])), ('bias', tensor([0.3171]))])\n",
            "epoch: 1480, test loss: 0.018360769376158714, loss: 0.0078737773001194\n",
            "OrderedDict([('weights', tensor([0.6610])), ('bias', tensor([0.3164]))])\n",
            "epoch: 1490, test loss: 0.01753341034054756, loss: 0.007530786097049713\n",
            "OrderedDict([('weights', tensor([0.6627])), ('bias', tensor([0.3157]))])\n",
            "epoch: 1500, test loss: 0.01670604944229126, loss: 0.007186878472566605\n",
            "OrderedDict([('weights', tensor([0.6644])), ('bias', tensor([0.3150]))])\n",
            "epoch: 1510, test loss: 0.01594732329249382, loss: 0.006843519862741232\n",
            "OrderedDict([('weights', tensor([0.6661])), ('bias', tensor([0.3142]))])\n",
            "epoch: 1520, test loss: 0.015119964256882668, loss: 0.0065003493800759315\n",
            "OrderedDict([('weights', tensor([0.6678])), ('bias', tensor([0.3135]))])\n",
            "epoch: 1530, test loss: 0.014292603358626366, loss: 0.0061564454808831215\n",
            "OrderedDict([('weights', tensor([0.6695])), ('bias', tensor([0.3128]))])\n",
            "epoch: 1540, test loss: 0.013533895835280418, loss: 0.005813260562717915\n",
            "OrderedDict([('weights', tensor([0.6712])), ('bias', tensor([0.3121]))])\n",
            "epoch: 1550, test loss: 0.012706518173217773, loss: 0.005469911731779575\n",
            "OrderedDict([('weights', tensor([0.6730])), ('bias', tensor([0.3114]))])\n",
            "epoch: 1560, test loss: 0.011879158206284046, loss: 0.005126009229570627\n",
            "OrderedDict([('weights', tensor([0.6747])), ('bias', tensor([0.3107]))])\n",
            "epoch: 1570, test loss: 0.011086148209869862, loss: 0.004782738629728556\n",
            "OrderedDict([('weights', tensor([0.6764])), ('bias', tensor([0.3099]))])\n",
            "epoch: 1580, test loss: 0.010327416472136974, loss: 0.004439300857484341\n",
            "OrderedDict([('weights', tensor([0.6781])), ('bias', tensor([0.3092]))])\n",
            "epoch: 1590, test loss: 0.0095000509172678, loss: 0.004096209071576595\n",
            "OrderedDict([('weights', tensor([0.6798])), ('bias', tensor([0.3085]))])\n",
            "epoch: 1600, test loss: 0.008672690019011497, loss: 0.00375230610370636\n",
            "OrderedDict([('weights', tensor([0.6815])), ('bias', tensor([0.3078]))])\n",
            "epoch: 1610, test loss: 0.007913952693343163, loss: 0.003409049706533551\n",
            "OrderedDict([('weights', tensor([0.6832])), ('bias', tensor([0.3070]))])\n",
            "epoch: 1620, test loss: 0.007086604833602905, loss: 0.0030657723546028137\n",
            "OrderedDict([('weights', tensor([0.6849])), ('bias', tensor([0.3063]))])\n",
            "epoch: 1630, test loss: 0.006259244866669178, loss: 0.0027218698523938656\n",
            "OrderedDict([('weights', tensor([0.6866])), ('bias', tensor([0.3056]))])\n",
            "epoch: 1640, test loss: 0.005500525236129761, loss: 0.0023787878453731537\n",
            "OrderedDict([('weights', tensor([0.6883])), ('bias', tensor([0.3049]))])\n",
            "epoch: 1650, test loss: 0.004673170857131481, loss: 0.002035339130088687\n",
            "OrderedDict([('weights', tensor([0.6900])), ('bias', tensor([0.3042]))])\n",
            "epoch: 1660, test loss: 0.0038457990158349276, loss: 0.0016914367442950606\n",
            "OrderedDict([('weights', tensor([0.6918])), ('bias', tensor([0.3035]))])\n",
            "epoch: 1670, test loss: 0.0030870854388922453, loss: 0.0013485305244103074\n",
            "OrderedDict([('weights', tensor([0.6935])), ('bias', tensor([0.3027]))])\n",
            "epoch: 1680, test loss: 0.002259713364765048, loss: 0.0010049022966995835\n",
            "OrderedDict([('weights', tensor([0.6952])), ('bias', tensor([0.3020]))])\n",
            "epoch: 1690, test loss: 0.0014667033683508635, loss: 0.000661638390738517\n",
            "OrderedDict([('weights', tensor([0.6969])), ('bias', tensor([0.3013]))])\n",
            "epoch: 1700, test loss: 0.0006393313524313271, loss: 0.0003177322505507618\n",
            "OrderedDict([('weights', tensor([0.6986])), ('bias', tensor([0.3006]))])\n",
            "epoch: 1710, test loss: 0.0005780101055279374, loss: 0.0004444979131221771\n",
            "OrderedDict([('weights', tensor([0.6997])), ('bias', tensor([0.3008]))])\n",
            "epoch: 1720, test loss: 0.0005780101055279374, loss: 0.0004444979131221771\n",
            "OrderedDict([('weights', tensor([0.6997])), ('bias', tensor([0.3008]))])\n",
            "epoch: 1730, test loss: 0.0005780101055279374, loss: 0.0004444979131221771\n",
            "OrderedDict([('weights', tensor([0.6997])), ('bias', tensor([0.3008]))])\n",
            "epoch: 1740, test loss: 0.0005780101055279374, loss: 0.0004444979131221771\n",
            "OrderedDict([('weights', tensor([0.6997])), ('bias', tensor([0.3008]))])\n",
            "epoch: 1750, test loss: 0.0005780101055279374, loss: 0.0004444979131221771\n",
            "OrderedDict([('weights', tensor([0.6997])), ('bias', tensor([0.3008]))])\n",
            "epoch: 1760, test loss: 0.0005780101055279374, loss: 0.0004444979131221771\n",
            "OrderedDict([('weights', tensor([0.6997])), ('bias', tensor([0.3008]))])\n",
            "epoch: 1770, test loss: 0.0005780101055279374, loss: 0.0004444979131221771\n",
            "OrderedDict([('weights', tensor([0.6997])), ('bias', tensor([0.3008]))])\n",
            "epoch: 1780, test loss: 0.0005780101055279374, loss: 0.0004444979131221771\n",
            "OrderedDict([('weights', tensor([0.6997])), ('bias', tensor([0.3008]))])\n",
            "epoch: 1790, test loss: 0.0005780101055279374, loss: 0.0004444979131221771\n",
            "OrderedDict([('weights', tensor([0.6997])), ('bias', tensor([0.3008]))])\n"
          ]
        }
      ],
      "source": [
        "torch.manual_seed(42)\n",
        "epochs = 1800\n",
        "epoch_count = []\n",
        "train_loss_val = []\n",
        "test_loss_val = []\n",
        "\n",
        "\n",
        "for epoch in range(epochs):\n",
        "\n",
        "    model_0.train() #01 training the modelsetting model to training mode\n",
        "\n",
        "    y_pred = model_0(X_train) #02 forward pass\n",
        "\n",
        "    loss = loss_fn(y_pred, y_train) #03 calculate loss function\n",
        "    # print(f'loss: {loss}')\n",
        "\n",
        "    opti.zero_grad() #04 reset optimises\n",
        "\n",
        "    loss.backward() #05 perform back propogation\n",
        "\n",
        "    opti.step() #06 step the optimiser (performing gradient descent here)\n",
        "\n",
        "    \n",
        "\n",
        "    ###\n",
        "    model_0.eval() #setting to test mode\n",
        "    with torch.inference_mode():\n",
        "        test_pred = model_0(X_test)\n",
        "\n",
        "        test_loss = loss_fn(test_pred, y_test)\n",
        "\n",
        "    if epoch % 10 == 0:\n",
        "\n",
        "        epoch_count.append(epoch)\n",
        "        train_loss_val.append(loss.detach().numpy()) #to convert tesnors with autograd and other fancy things to numpy. also saves memory\n",
        "        test_loss_val.append(test_loss)\n",
        "        \n",
        "        print(f'epoch: {epoch}, test loss: {test_loss}, loss: {loss}')\n",
        "        print(model_0.state_dict())\n",
        "\n",
        "\n",
        "    \n",
        "\n"
      ]
    },
    {
      "cell_type": "code",
      "execution_count": 21,
      "metadata": {},
      "outputs": [
        {
          "data": {
            "image/png": "[encoded data removed]",
            "text/plain": [
              "<Figure size 1000x700 with 1 Axes>"
            ]
          },
          "metadata": {},
          "output_type": "display_data"
        }
      ],
      "source": [
        "with torch.inference_mode():\n",
        "        y_pred = model_0(X_test)\n",
        "        plot_pred(predictions=y_pred) "
      ]
    },
    {
      "cell_type": "markdown",
      "metadata": {},
      "source": [
        "graphin loss curves"
      ]
    },
    {
      "cell_type": "code",
      "execution_count": 22,
      "metadata": {},
      "outputs": [],
      "source": [
        "import numpy as np"
      ]
    },
    {
      "cell_type": "code",
      "execution_count": 23,
      "metadata": {},
      "outputs": [
        {
          "data": {
            "text/plain": [
              "<matplotlib.legend.Legend at 0x13b686490>"
            ]
          },
          "execution_count": 23,
          "metadata": {},
          "output_type": "execute_result"
        },
        {
          "data": {
            "image/png": "[encoded data removed]",
            "text/plain": [
              "<Figure size 640x480 with 1 Axes>"
            ]
          },
          "metadata": {},
          "output_type": "display_data"
        }
      ],
      "source": [
        "plt.plot(epoch_count, train_loss_val, label= 'Train loss')\n",
        "plt.plot(epoch_count, test_loss_val, label='Test Loss')\n",
        "plt.title('Train & Test loss curves')\n",
        "plt.ylabel('Loss')\n",
        "plt.xlabel('epochs')\n",
        "plt.legend()"
      ]
    },
    {
      "cell_type": "code",
      "execution_count": null,
      "metadata": {},
      "outputs": [],
      "source": []
    }
  ],
  "metadata": {
    "colab": {
      "authorship_tag": "ABX9TyPWSV7G5UGnYNRX5BGk3uPG",
      "include_colab_link": true,
      "provenance": []
    },
    "kernelspec": {
      "display_name": "Python 3",
      "name": "python3"
    },
    "language_info": {
      "codemirror_mode": {
        "name": "ipython",
        "version": 3
      },
      "file_extension": ".py",
      "mimetype": "text/x-python",
      "name": "python",
      "nbconvert_exporter": "python",
      "pygments_lexer": "ipython3",
      "version": "3.11.5"
    }
  },
  "nbformat": 4,
  "nbformat_minor": 0
}
